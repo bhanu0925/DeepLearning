{
  "nbformat": 4,
  "nbformat_minor": 0,
  "metadata": {
    "colab": {
      "name": "Plotting_Sigmoid_UniVariate.ipynb",
      "provenance": [],
      "authorship_tag": "ABX9TyM0ghXJqcItOrdVaEfno5NT",
      "include_colab_link": true
    },
    "kernelspec": {
      "name": "python3",
      "display_name": "Python 3"
    },
    "language_info": {
      "name": "python"
    }
  },
  "cells": [
    {
      "cell_type": "markdown",
      "metadata": {
        "id": "view-in-github",
        "colab_type": "text"
      },
      "source": [
        "<a href=\"https://colab.research.google.com/github/bhanu0925/DeepLearning/blob/main/Plotting_Sigmoid_UniVariate.ipynb\" target=\"_parent\"><img src=\"https://colab.research.google.com/assets/colab-badge.svg\" alt=\"Open In Colab\"/></a>"
      ]
    },
    {
      "cell_type": "markdown",
      "source": [
        "## **Plotting Sigmoid Function**"
      ],
      "metadata": {
        "id": "S-wvwkrqZ2LD"
      }
    },
    {
      "cell_type": "code",
      "source": [
        "import numpy as np\n",
        "import matplotlib.pyplot as plt\n"
      ],
      "metadata": {
        "id": "Fxgx6TvWZ4ui"
      },
      "execution_count": 1,
      "outputs": []
    },
    {
      "cell_type": "markdown",
      "source": [
        "### Sigmoid"
      ],
      "metadata": {
        "id": "p0-EmuuaauBs"
      }
    },
    {
      "cell_type": "markdown",
      "source": [
        "## $f_{w,b}(x) = \\frac{1}{1+e^{-(wx+b)}}$"
      ],
      "metadata": {
        "id": "Ci3joY-YaJIS"
      }
    },
    {
      "cell_type": "code",
      "source": [
        "## Define sigmoid function\n",
        "def sigmoid(x,w,b):\n",
        "  return 1/(1+np.exp(-(w*x+b)))"
      ],
      "metadata": {
        "id": "C3wSrVfAaxvD"
      },
      "execution_count": 4,
      "outputs": []
    },
    {
      "cell_type": "code",
      "source": [
        "sigmoid(0.2,0.4,1)  # sigmoid goes for 0 to 1"
      ],
      "metadata": {
        "colab": {
          "base_uri": "https://localhost:8080/"
        },
        "id": "PTjoTtuoaxsO",
        "outputId": "6c39fef2-9863-4fa9-eb4c-deba6bcbf42c"
      },
      "execution_count": 5,
      "outputs": [
        {
          "output_type": "execute_result",
          "data": {
            "text/plain": [
              "0.7464939833376621"
            ]
          },
          "metadata": {},
          "execution_count": 5
        }
      ]
    },
    {
      "cell_type": "markdown",
      "source": [
        "## Positive slope"
      ],
      "metadata": {
        "id": "dPVHMScIcfrr"
      }
    },
    {
      "cell_type": "code",
      "source": [
        "## Single variate numbers, X\n",
        "\n",
        "# random initialization of w and b\n",
        "\n",
        "## + VE slop\n",
        "w = .9 \n",
        "b = 0.1\n",
        "\n",
        "X = np.linspace(-10,10,100)\n",
        "y = sigmoid(X,w,b) ## caluculating sigmoid for single values of w and b - >  random guess\n",
        "\n",
        "plt.plot(X,y)\n",
        "plt.show()\n"
      ],
      "metadata": {
        "colab": {
          "base_uri": "https://localhost:8080/",
          "height": 265
        },
        "id": "cG2KsLUKaxpa",
        "outputId": "ec170980-a983-4a52-b003-0a8061ef19ba"
      },
      "execution_count": 10,
      "outputs": [
        {
          "output_type": "display_data",
          "data": {
            "image/png": "[encoded data removed]",
            "text/plain": [
              "<Figure size 432x288 with 1 Axes>"
            ]
          },
          "metadata": {
            "needs_background": "light"
          }
        }
      ]
    },
    {
      "cell_type": "markdown",
      "source": [
        "## -ve slope"
      ],
      "metadata": {
        "id": "cVHjzIXLcqbH"
      }
    },
    {
      "cell_type": "code",
      "source": [
        "## Single variate numbers, X\n",
        "\n",
        "# random initialization of w and b\n",
        "\n",
        "##  -VE slop\n",
        "w = -0.9 \n",
        "b = 0.1\n",
        "\n",
        "X = np.linspace(-10,10,100)\n",
        "y = sigmoid(X,w,b) ## caluculating sigmoid for single values of w and b - >  random guess\n",
        "\n",
        "plt.plot(X,y)\n",
        "plt.show()\n"
      ],
      "metadata": {
        "colab": {
          "base_uri": "https://localhost:8080/",
          "height": 265
        },
        "id": "Z7pm714obm4U",
        "outputId": "2618e115-939b-471b-f9e4-f3546491c6ae"
      },
      "execution_count": 11,
      "outputs": [
        {
          "output_type": "display_data",
          "data": {
            "image/png": "[encoded data removed]",
            "text/plain": [
              "<Figure size 432x288 with 1 Axes>"
            ]
          },
          "metadata": {
            "needs_background": "light"
          }
        }
      ]
    },
    {
      "cell_type": "markdown",
      "source": [
        ""
      ],
      "metadata": {
        "id": "kXo_WB1dcypk"
      }
    },
    {
      "cell_type": "code",
      "source": [
        "## Single variate numbers, X\n",
        "\n",
        "# random initialization of w and b\n",
        "\n",
        "##  -VE slop\n",
        "w = -0.9 \n",
        "b =  4\n",
        "\n",
        "X = np.linspace(-10,10,100)\n",
        "y = sigmoid(X,w,b) ## caluculating sigmoid for single values of w and b - >  random guess\n",
        "\n",
        "plt.plot(X,y)\n",
        "plt.show()\n"
      ],
      "metadata": {
        "colab": {
          "base_uri": "https://localhost:8080/",
          "height": 265
        },
        "id": "Yc2siTrDbm1w",
        "outputId": "7a090cde-43c8-4e8e-e943-f535a7cd4d8b"
      },
      "execution_count": 12,
      "outputs": [
        {
          "output_type": "display_data",
          "data": {
            "image/png": "[encoded data removed]",
            "text/plain": [
              "<Figure size 432x288 with 1 Axes>"
            ]
          },
          "metadata": {
            "needs_background": "light"
          }
        }
      ]
    },
    {
      "cell_type": "code",
      "source": [
        "w = -1.2  #@param {type: \"slider\", min: -2, max: 2,step:0.1}\n",
        "b =  -6.5   #@param {type: \"slider\", min: -10, max: 10,step:0.1}\n",
        "\n",
        "X = np.linspace(-10,10,100)\n",
        "y = sigmoid(X,w,b) ## caluculating sigmoid for single values of w and b - >  random guess\n",
        "\n",
        "plt.plot(X,y)\n",
        "plt.show()"
      ],
      "metadata": {
        "colab": {
          "base_uri": "https://localhost:8080/",
          "height": 265
        },
        "id": "KXw7AFa9bmyk",
        "outputId": "593dc933-ecb5-4516-e927-058798f090f0"
      },
      "execution_count": 51,
      "outputs": [
        {
          "output_type": "display_data",
          "data": {
            "image/png": "[encoded data removed]",
            "text/plain": [
              "<Figure size 432x288 with 1 Axes>"
            ]
          },
          "metadata": {
            "needs_background": "light"
          }
        }
      ]
    },
    {
      "cell_type": "code",
      "source": [
        ""
      ],
      "metadata": {
        "id": "GH7Ta_QPfYwk"
      },
      "execution_count": null,
      "outputs": []
    },
    {
      "cell_type": "code",
      "source": [
        ""
      ],
      "metadata": {
        "id": "TqoDJ17gfYnM"
      },
      "execution_count": null,
      "outputs": []
    }
  ]
}