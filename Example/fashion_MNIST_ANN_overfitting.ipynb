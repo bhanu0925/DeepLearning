{
  "nbformat": 4,
  "nbformat_minor": 0,
  "metadata": {
    "colab": {
      "name": "fashion_MNIST_Example.ipynb",
      "provenance": []
    },
    "kernelspec": {
      "name": "python3",
      "display_name": "Python 3"
    },
    "language_info": {
      "name": "python"
    }
  },
  "cells": [
    {
      "cell_type": "code",
      "execution_count": null,
      "metadata": {
        "id": "OwqEUp2BTV9P"
      },
      "outputs": [],
      "source": [
        ""
      ]
    },
    {
      "cell_type": "markdown",
      "source": [
        "## **Classify images**"
      ],
      "metadata": {
        "id": "OQydPEbxTZ6p"
      }
    },
    {
      "cell_type": "code",
      "source": [
        "import tensorflow as tf\n",
        "import tensorflow_datasets as tfds\n",
        "tfds.disable_progress_bar()\n",
        "import math\n",
        "import numpy as np\n",
        "import matplotlib.pyplot as plt\n",
        "import logging\n",
        "logger = tf.get_logger()\n",
        "logger.setLevel(logging.ERROR) "
      ],
      "metadata": {
        "id": "0kRszLD5TfpR"
      },
      "execution_count": 2,
      "outputs": []
    },
    {
      "cell_type": "code",
      "source": [
        "dataset, metadata = tfds.load('fashion_mnist',as_supervised=True,with_info=True)\n",
        "train_dataset,test_dataset = dataset['train'],dataset['test']"
      ],
      "metadata": {
        "colab": {
          "base_uri": "https://localhost:8080/"
        },
        "id": "uUupc9bxTsSM",
        "outputId": "a61fc25a-023d-4323-85bf-502168deeb09"
      },
      "execution_count": 3,
      "outputs": [
        {
          "output_type": "stream",
          "name": "stdout",
          "text": [
            "\u001b[1mDownloading and preparing dataset fashion_mnist/3.0.1 (download: 29.45 MiB, generated: 36.42 MiB, total: 65.87 MiB) to /root/tensorflow_datasets/fashion_mnist/3.0.1...\u001b[0m\n",
            "Shuffling and writing examples to /root/tensorflow_datasets/fashion_mnist/3.0.1.incomplete161H5U/fashion_mnist-train.tfrecord\n",
            "Shuffling and writing examples to /root/tensorflow_datasets/fashion_mnist/3.0.1.incomplete161H5U/fashion_mnist-test.tfrecord\n",
            "\u001b[1mDataset fashion_mnist downloaded and prepared to /root/tensorflow_datasets/fashion_mnist/3.0.1. Subsequent calls will reuse this data.\u001b[0m\n"
          ]
        }
      ]
    },
    {
      "cell_type": "code",
      "source": [
        "class_names = metadata.features['label'].names\n",
        "print(f\"class name {class_names}\")"
      ],
      "metadata": {
        "colab": {
          "base_uri": "https://localhost:8080/"
        },
        "id": "ajdMisnwZh4j",
        "outputId": "bb445096-801f-4455-862f-b4d5887e60ae"
      },
      "execution_count": 4,
      "outputs": [
        {
          "output_type": "stream",
          "name": "stdout",
          "text": [
            "class name ['T-shirt/top', 'Trouser', 'Pullover', 'Dress', 'Coat', 'Sandal', 'Shirt', 'Sneaker', 'Bag', 'Ankle boot']\n"
          ]
        }
      ]
    },
    {
      "cell_type": "code",
      "source": [
        "## Explore the data\n",
        "\n",
        "num_train_examples = metadata.splits['train'].num_examples\n",
        "num_test_examples = metadata.splits['test'].num_examples\n",
        "\n",
        "print(f\"trainig example = {num_train_examples}\")\n",
        "print(f\"Test example = {num_test_examples}\")"
      ],
      "metadata": {
        "colab": {
          "base_uri": "https://localhost:8080/"
        },
        "id": "MuUXfb3kZ1Kq",
        "outputId": "dcfeefdf-dcb6-4007-8897-a0844a6d2883"
      },
      "execution_count": 6,
      "outputs": [
        {
          "output_type": "stream",
          "name": "stdout",
          "text": [
            "trainig example = 60000\n",
            "Test example = 10000\n"
          ]
        }
      ]
    },
    {
      "cell_type": "code",
      "source": [
        "## Process data\n",
        "def normalize(images, labels):\n",
        "  images = tf.cast(images,tf.float32)\n",
        "  images /= 255\n",
        "  return images, labels"
      ],
      "metadata": {
        "id": "WYRZVeuNaUhT"
      },
      "execution_count": 7,
      "outputs": []
    },
    {
      "cell_type": "code",
      "source": [
        "# The map function applies the normalize function to each element in the train\n",
        "# and test datasets\n",
        "train_dataset = train_dataset.map(normalize)\n",
        "test_dataset = test_dataset.map(normalize)\n"
      ],
      "metadata": {
        "id": "WyXZsKmcaq9J"
      },
      "execution_count": 8,
      "outputs": []
    },
    {
      "cell_type": "code",
      "source": [
        "# The first time you use the dataset, the images will be loaded from disk\n",
        "# Caching will keep them in memory, making training faster\n",
        "\n",
        "train_dataset = train_dataset.cache()\n",
        "test_dataset = test_dataset.cache()"
      ],
      "metadata": {
        "id": "QzNiA1T9a8hv"
      },
      "execution_count": 9,
      "outputs": []
    },
    {
      "cell_type": "code",
      "source": [
        "## explore the processed data\n",
        "## take a single image, and remove the color dimetion by reshaping\n",
        "\n",
        "for image, label in test_dataset.take(1):\n",
        "  break\n",
        "image=image.numpy().reshape((28,28))## removing cplour dimention\n",
        "\n",
        "## plot the image\n",
        "plt.figure()\n",
        "plt.imshow(image,cmap=plt.cm.binary)\n",
        "plt.colorbar()\n",
        "plt.grid(False)\n",
        "plt.show()"
      ],
      "metadata": {
        "colab": {
          "base_uri": "https://localhost:8080/",
          "height": 269
        },
        "id": "qbc5T0HLbH_l",
        "outputId": "48861f6f-f5ec-4509-c0a1-ea157f80262c"
      },
      "execution_count": 11,
      "outputs": [
        {
          "output_type": "display_data",
          "data": {
            "image/png": "[encoded data removed]",
            "text/plain": [
              "<Figure size 432x288 with 2 Axes>"
            ]
          },
          "metadata": {
            "needs_background": "light"
          }
        }
      ]
    },
    {
      "cell_type": "code",
      "source": [
        "plt.figure(figsize=(10,10))\n",
        "for i ,(image,label) in enumerate(train_dataset.take(25)):\n",
        "  image=image.numpy().reshape((28,28))\n",
        "  plt.subplot(5,5,i+1)\n",
        "  plt.xticks([])\n",
        "  plt.yticks([])\n",
        "  plt.grid(False)\n",
        "  plt.imshow(image,cmap=plt.cm.binary)\n",
        "  plt.xlabel(class_names[label])\n",
        "plt.show()"
      ],
      "metadata": {
        "colab": {
          "base_uri": "https://localhost:8080/",
          "height": 589
        },
        "id": "8TEU0HDXdE24",
        "outputId": "6ffdc25e-8ca9-4d2b-bf49-cca9dbff0e3e"
      },
      "execution_count": 14,
      "outputs": [
        {
          "output_type": "display_data",
          "data": {
            "image/png": "[encoded data removed]",
            "text/plain": [
              "<Figure size 720x720 with 25 Axes>"
            ]
          },
          "metadata": {}
        }
      ]
    },
    {
      "cell_type": "code",
      "source": [
        "## Bild model"
      ],
      "metadata": {
        "id": "0gwFxdogdE0C"
      },
      "execution_count": 15,
      "outputs": []
    },
    {
      "cell_type": "code",
      "source": [
        "model = tf.keras.Sequential([\n",
        "                             tf.keras.layers.Flatten(input_shape=(28,28,1)),\n",
        "                             tf.keras.layers.Dense(128,activation=tf.nn.relu),\n",
        "                             tf.keras.layers.Dense(10,activation=tf.nn.softmax)\n",
        "])"
      ],
      "metadata": {
        "id": "SfE53iA7dExO"
      },
      "execution_count": 16,
      "outputs": []
    },
    {
      "cell_type": "code",
      "source": [
        "model.compile(optimizer='adam',\n",
        "              loss=tf.keras.losses.SparseCategoricalCrossentropy(),\n",
        "              metrics=['accuracy'])"
      ],
      "metadata": {
        "id": "5uYb59TydEuU"
      },
      "execution_count": 18,
      "outputs": []
    },
    {
      "cell_type": "code",
      "source": [
        "BATCH_SIZE = 32\n",
        "train_dataset = train_dataset.cache().repeat().shuffle(num_train_examples).batch(BATCH_SIZE)\n",
        "test_dataset = test_dataset.cache().batch(BATCH_SIZE)"
      ],
      "metadata": {
        "id": "joDm0_4UdEq8"
      },
      "execution_count": 19,
      "outputs": []
    },
    {
      "cell_type": "code",
      "source": [
        "model.fit(train_dataset,epochs=5,steps_per_epoch=math.ceil(num_train_examples/BATCH_SIZE))"
      ],
      "metadata": {
        "colab": {
          "base_uri": "https://localhost:8080/"
        },
        "id": "M900o2MqdEnx",
        "outputId": "16750acf-ac3e-435d-d551-b633ff84336d"
      },
      "execution_count": 20,
      "outputs": [
        {
          "output_type": "stream",
          "name": "stdout",
          "text": [
            "Epoch 1/5\n",
            "1875/1875 [==============================] - 13s 3ms/step - loss: 0.4933 - accuracy: 0.8248\n",
            "Epoch 2/5\n",
            "1875/1875 [==============================] - 5s 3ms/step - loss: 0.3723 - accuracy: 0.8645\n",
            "Epoch 3/5\n",
            "1875/1875 [==============================] - 5s 3ms/step - loss: 0.3283 - accuracy: 0.8805\n",
            "Epoch 4/5\n",
            "1875/1875 [==============================] - 5s 3ms/step - loss: 0.3112 - accuracy: 0.8865\n",
            "Epoch 5/5\n",
            "1875/1875 [==============================] - 5s 3ms/step - loss: 0.2922 - accuracy: 0.8914\n"
          ]
        },
        {
          "output_type": "execute_result",
          "data": {
            "text/plain": [
              "<keras.callbacks.History at 0x7fcaaf4ebe50>"
            ]
          },
          "metadata": {},
          "execution_count": 20
        }
      ]
    },
    {
      "cell_type": "code",
      "source": [
        "model.history.history['loss']"
      ],
      "metadata": {
        "colab": {
          "base_uri": "https://localhost:8080/"
        },
        "id": "Wtf-yrgKdEkw",
        "outputId": "356ca874-bebb-46d5-c4f6-ae5cf823c8a3"
      },
      "execution_count": 24,
      "outputs": [
        {
          "output_type": "execute_result",
          "data": {
            "text/plain": [
              "[0.4932829737663269,\n",
              " 0.3722820281982422,\n",
              " 0.3283112943172455,\n",
              " 0.3112344741821289,\n",
              " 0.2921990156173706]"
            ]
          },
          "metadata": {},
          "execution_count": 24
        }
      ]
    },
    {
      "cell_type": "code",
      "source": [
        "model.history.history"
      ],
      "metadata": {
        "colab": {
          "base_uri": "https://localhost:8080/"
        },
        "id": "Q1K6g4UzdBOb",
        "outputId": "fecc1a30-ae28-47b8-e717-efa86aa2037b"
      },
      "execution_count": 26,
      "outputs": [
        {
          "output_type": "execute_result",
          "data": {
            "text/plain": [
              "{'accuracy': [0.8247666954994202,\n",
              "  0.8644833564758301,\n",
              "  0.880466639995575,\n",
              "  0.8864666819572449,\n",
              "  0.8913833498954773],\n",
              " 'loss': [0.4932829737663269,\n",
              "  0.3722820281982422,\n",
              "  0.3283112943172455,\n",
              "  0.3112344741821289,\n",
              "  0.2921990156173706]}"
            ]
          },
          "metadata": {},
          "execution_count": 26
        }
      ]
    },
    {
      "cell_type": "code",
      "source": [
        ""
      ],
      "metadata": {
        "id": "F3wprmfPdBLC"
      },
      "execution_count": null,
      "outputs": []
    },
    {
      "cell_type": "code",
      "source": [
        "plt.plot(model.history.history['accuracy'])\n",
        "plt.plot(model.history.history['loss'])\n",
        "plt.title('model accuracy')\n",
        "plt.ylabel('accuracy')\n",
        "plt.xlabel('epoch')\n",
        "plt.legend(['accuracy', 'loss'], loc='upper left')\n",
        "plt.show()"
      ],
      "metadata": {
        "colab": {
          "base_uri": "https://localhost:8080/",
          "height": 295
        },
        "id": "dVknu6SVdBIF",
        "outputId": "257c3e76-c5c2-47f2-c1da-df1bd4da2c84"
      },
      "execution_count": 29,
      "outputs": [
        {
          "output_type": "display_data",
          "data": {
            "image/png": "[encoded data removed]",
            "text/plain": [
              "<Figure size 432x288 with 1 Axes>"
            ]
          },
          "metadata": {
            "needs_background": "light"
          }
        }
      ]
    },
    {
      "cell_type": "code",
      "source": [
        "model.summary()"
      ],
      "metadata": {
        "colab": {
          "base_uri": "https://localhost:8080/"
        },
        "id": "WbA3Zx6qneYP",
        "outputId": "80631a0c-b976-49ea-aecc-b57611b9193f"
      },
      "execution_count": 30,
      "outputs": [
        {
          "output_type": "stream",
          "name": "stdout",
          "text": [
            "Model: \"sequential\"\n",
            "_________________________________________________________________\n",
            " Layer (type)                Output Shape              Param #   \n",
            "=================================================================\n",
            " flatten (Flatten)           (None, 784)               0         \n",
            "                                                                 \n",
            " dense (Dense)               (None, 128)               100480    \n",
            "                                                                 \n",
            " dense_1 (Dense)             (None, 10)                1290      \n",
            "                                                                 \n",
            "=================================================================\n",
            "Total params: 101,770\n",
            "Trainable params: 101,770\n",
            "Non-trainable params: 0\n",
            "_________________________________________________________________\n"
          ]
        }
      ]
    },
    {
      "cell_type": "code",
      "source": [
        "## model evaluate \n",
        "test_loss,test_accuracy = model.evaluate(test_dataset,steps=math.ceil(num_train_examples/32))\n",
        "print(f\"accuracy on the test data : {test_accuracy}\")"
      ],
      "metadata": {
        "colab": {
          "base_uri": "https://localhost:8080/"
        },
        "id": "FT6h4o4JneV0",
        "outputId": "8fab0364-6655-47d6-a40c-9000240f4108"
      },
      "execution_count": 31,
      "outputs": [
        {
          "output_type": "stream",
          "name": "stdout",
          "text": [
            "1875/1875 [==============================] - 3s 1ms/step - loss: 0.3554 - accuracy: 0.8722\n",
            "accuracy on the test data : 0.8722000122070312\n"
          ]
        }
      ]
    },
    {
      "cell_type": "code",
      "source": [
        "## Make prediction\n",
        "\n",
        "for test_images, test_labels in test_dataset.take(1):\n",
        "  test_images = test_images.numpy()\n",
        "  test_labels = test_labels.numpy()\n",
        "  predictions = model.predict(test_images)"
      ],
      "metadata": {
        "id": "VZJSne6KneQh"
      },
      "execution_count": 32,
      "outputs": []
    },
    {
      "cell_type": "code",
      "source": [
        "predictions.shape"
      ],
      "metadata": {
        "colab": {
          "base_uri": "https://localhost:8080/"
        },
        "id": "RMGBjQkYpHdL",
        "outputId": "52b81cd4-1228-4d90-d1c8-b36b22ac94dd"
      },
      "execution_count": 33,
      "outputs": [
        {
          "output_type": "execute_result",
          "data": {
            "text/plain": [
              "(32, 10)"
            ]
          },
          "metadata": {},
          "execution_count": 33
        }
      ]
    },
    {
      "cell_type": "code",
      "source": [
        "predictions"
      ],
      "metadata": {
        "colab": {
          "base_uri": "https://localhost:8080/"
        },
        "id": "HqutgKakp7zd",
        "outputId": "801efdc6-0641-4837-8b68-58df47ee66cc"
      },
      "execution_count": 38,
      "outputs": [
        {
          "output_type": "execute_result",
          "data": {
            "text/plain": [
              "array([[4.52760905e-05, 6.41498355e-06, 2.38490421e-02, 7.26088365e-06,\n",
              "        9.58653033e-01, 1.35869245e-08, 1.73799749e-02, 4.94324013e-08,\n",
              "        5.88576841e-05, 7.62538761e-08],\n",
              "       [1.52933399e-06, 7.30528571e-09, 7.83743616e-03, 7.31979810e-07,\n",
              "        9.40665543e-01, 2.48636028e-10, 5.14861718e-02, 2.41926834e-09,\n",
              "        8.49098160e-06, 7.51005924e-09],\n",
              "       [6.40370263e-06, 1.63624890e-07, 2.26259402e-08, 1.03012594e-08,\n",
              "        7.40509336e-07, 7.34366700e-02, 5.22809728e-07, 1.19161978e-02,\n",
              "        1.14361019e-05, 9.14627850e-01],\n",
              "       [2.00376906e-08, 6.09747863e-10, 5.90841376e-10, 1.14684970e-10,\n",
              "        2.65265854e-09, 1.81320065e-04, 9.88677029e-10, 5.08469701e-01,\n",
              "        2.01134117e-06, 4.91347015e-01],\n",
              "       [7.27088221e-08, 3.03371282e-12, 3.77853393e-09, 1.77949391e-11,\n",
              "        1.54274007e-11, 9.99998689e-01, 1.13383472e-07, 4.45935875e-08,\n",
              "        1.13515797e-09, 1.08033578e-06],\n",
              "       [3.64210592e-07, 9.99975443e-01, 3.30059313e-10, 2.40721165e-05,\n",
              "        6.35012540e-08, 6.97872012e-15, 8.87568277e-08, 6.24928600e-17,\n",
              "        4.24711111e-09, 2.60305761e-14],\n",
              "       [9.97178555e-01, 1.50764453e-11, 1.34196785e-06, 9.43188425e-08,\n",
              "        2.85328094e-10, 3.92119115e-11, 2.82004662e-03, 4.19406445e-17,\n",
              "        6.37771835e-09, 3.85975194e-14],\n",
              "       [1.91598994e-12, 1.30138894e-15, 9.51158623e-15, 1.76376234e-13,\n",
              "        5.40227439e-18, 9.99996781e-01, 2.09482431e-12, 1.21897203e-08,\n",
              "        3.84681046e-12, 3.22354026e-06],\n",
              "       [9.31540853e-07, 5.13061650e-07, 1.01417037e-07, 2.34465432e-07,\n",
              "        1.57719199e-07, 6.85005682e-03, 1.69950141e-07, 9.89879847e-01,\n",
              "        3.16658202e-06, 3.26479692e-03],\n",
              "       [2.04083408e-04, 3.61360617e-05, 1.43476455e-02, 3.84328130e-04,\n",
              "        9.77670789e-01, 7.28299909e-08, 9.32538358e-04, 3.15714366e-09,\n",
              "        6.42446755e-03, 8.50062742e-10],\n",
              "       [8.75234842e-01, 5.89249885e-06, 2.80649308e-03, 1.14487438e-03,\n",
              "        3.55050834e-05, 7.84734880e-07, 1.20747767e-01, 1.48952592e-08,\n",
              "        2.38951143e-05, 8.99287755e-09],\n",
              "       [6.46567514e-07, 7.03566936e-12, 4.56606253e-10, 8.12611201e-10,\n",
              "        1.87222042e-08, 4.79870437e-07, 4.03915304e-11, 1.14202592e-07,\n",
              "        9.99998689e-01, 3.06306326e-12],\n",
              "       [3.51962299e-05, 5.22560717e-10, 9.88006830e-01, 1.97996130e-07,\n",
              "        2.77995411e-03, 2.65960090e-08, 9.17379651e-03, 3.54440175e-08,\n",
              "        3.89639263e-06, 6.14823414e-10],\n",
              "       [3.85746472e-02, 1.37862528e-03, 2.41005397e-03, 9.38475132e-01,\n",
              "        1.42451550e-04, 1.98691757e-03, 1.63725093e-02, 1.04954772e-04,\n",
              "        5.02621813e-04, 5.20908834e-05],\n",
              "       [3.66586305e-14, 4.57169160e-14, 9.39953950e-18, 1.10662015e-13,\n",
              "        8.39738313e-20, 3.22088672e-05, 2.95585085e-15, 1.50925450e-06,\n",
              "        4.95527657e-15, 9.99966264e-01],\n",
              "       [4.87562209e-01, 9.41519465e-05, 2.91910134e-02, 3.94838192e-02,\n",
              "        4.56351927e-03, 2.29845518e-05, 4.37838197e-01, 2.12171418e-08,\n",
              "        1.24327885e-03, 8.80534287e-07],\n",
              "       [2.00776253e-06, 1.84723192e-09, 2.28416699e-08, 1.24142296e-08,\n",
              "        5.36508367e-08, 2.14556709e-01, 4.89639120e-08, 7.85434306e-01,\n",
              "        1.04524054e-06, 5.77198352e-06],\n",
              "       [7.24327620e-08, 6.99503788e-09, 6.71941924e-09, 8.23466237e-08,\n",
              "        1.26406734e-08, 3.77576536e-04, 1.94976533e-08, 9.99446929e-01,\n",
              "        2.18722988e-07, 1.75078472e-04],\n",
              "       [3.18256672e-04, 1.87015848e-06, 9.74415004e-01, 1.29258638e-04,\n",
              "        6.86074467e-03, 5.48064463e-07, 1.81609131e-02, 1.97447090e-08,\n",
              "        1.13359587e-04, 2.00305657e-08],\n",
              "       [2.02158772e-04, 4.13951796e-07, 9.49597001e-01, 8.06355238e-05,\n",
              "        4.07615453e-02, 1.53907040e-05, 9.27710626e-03, 7.10251300e-07,\n",
              "        6.50167858e-05, 1.20666508e-08],\n",
              "       [5.33239305e-01, 1.03912382e-04, 1.41134355e-02, 1.16648963e-02,\n",
              "        7.22763594e-04, 4.06240397e-05, 4.38711762e-01, 3.17321204e-11,\n",
              "        1.40327937e-03, 9.89178019e-08],\n",
              "       [1.76620724e-05, 1.80602527e-07, 1.44480737e-02, 2.81959478e-06,\n",
              "        9.58497703e-01, 2.13215579e-09, 2.70242225e-02, 5.81877302e-09,\n",
              "        9.33018691e-06, 8.62755112e-09],\n",
              "       [9.64056526e-04, 6.22652078e-05, 3.75631414e-02, 8.95129459e-04,\n",
              "        9.54268634e-01, 3.48507392e-08, 5.20763081e-03, 9.28653932e-10,\n",
              "        1.03913562e-03, 2.42321918e-09],\n",
              "       [3.57153112e-05, 2.41180460e-05, 6.76039815e-01, 1.29391963e-04,\n",
              "        3.22612077e-01, 3.96823516e-08, 1.13460119e-03, 9.77086745e-10,\n",
              "        2.42425722e-05, 2.25642993e-09],\n",
              "       [2.61783928e-01, 1.17937149e-03, 4.03654017e-02, 5.05645394e-01,\n",
              "        6.30848110e-02, 3.87898108e-05, 1.26443312e-01, 1.37424934e-06,\n",
              "        1.45750213e-03, 8.57342197e-09],\n",
              "       [1.30997336e-07, 4.17073404e-10, 2.44050713e-09, 7.56267848e-09,\n",
              "        2.30680341e-09, 2.46696145e-05, 2.27139587e-08, 9.99964118e-01,\n",
              "        3.23610357e-06, 7.88513080e-06],\n",
              "       [7.98985711e-05, 5.80709002e-06, 7.30366492e-06, 1.67268115e-06,\n",
              "        9.62416470e-06, 2.65398145e-01, 1.17202553e-05, 7.27488279e-01,\n",
              "        3.01957753e-05, 6.96736574e-03],\n",
              "       [9.77213494e-05, 8.04628871e-06, 1.78633183e-01, 3.02927469e-06,\n",
              "        8.15665245e-01, 8.43434336e-08, 5.57712000e-03, 8.67059036e-10,\n",
              "        1.54970894e-05, 1.38573695e-08],\n",
              "       [4.63688368e-04, 1.18634830e-07, 9.59069610e-01, 5.89189585e-06,\n",
              "        1.63337979e-02, 6.19182174e-07, 2.40616538e-02, 3.55317638e-07,\n",
              "        6.42001542e-05, 1.09306220e-09],\n",
              "       [5.22892378e-06, 2.56819561e-07, 1.58235013e-01, 5.18916920e-07,\n",
              "        8.40511322e-01, 4.52671234e-11, 1.24086253e-03, 1.12885283e-11,\n",
              "        6.85507894e-06, 1.02686866e-10],\n",
              "       [1.78595158e-07, 1.03901323e-08, 2.96091240e-08, 3.98609856e-08,\n",
              "        8.59470095e-09, 6.68001667e-05, 9.50866408e-08, 9.83211696e-01,\n",
              "        1.08381675e-04, 1.66127011e-02],\n",
              "       [2.15007816e-07, 1.22237120e-09, 1.33847999e-09, 9.80675807e-09,\n",
              "        2.04466732e-09, 9.99078274e-01, 2.25522196e-08, 6.03559020e-04,\n",
              "        3.11545664e-05, 2.86730996e-04]], dtype=float32)"
            ]
          },
          "metadata": {},
          "execution_count": 38
        }
      ]
    },
    {
      "cell_type": "code",
      "source": [
        "predictions[0]"
      ],
      "metadata": {
        "colab": {
          "base_uri": "https://localhost:8080/"
        },
        "id": "0r795-XFpHbs",
        "outputId": "3eec5ba1-e195-4cdc-9090-3e9c27a00c9b"
      },
      "execution_count": 34,
      "outputs": [
        {
          "output_type": "execute_result",
          "data": {
            "text/plain": [
              "array([4.52760905e-05, 6.41498355e-06, 2.38490421e-02, 7.26088365e-06,\n",
              "       9.58653033e-01, 1.35869245e-08, 1.73799749e-02, 4.94324013e-08,\n",
              "       5.88576841e-05, 7.62538761e-08], dtype=float32)"
            ]
          },
          "metadata": {},
          "execution_count": 34
        }
      ]
    },
    {
      "cell_type": "code",
      "source": [
        "np.argmax(predictions[0])"
      ],
      "metadata": {
        "colab": {
          "base_uri": "https://localhost:8080/"
        },
        "id": "ZXt0XeJIpHaM",
        "outputId": "70c9e2a1-03f1-4991-db0f-841e85162efb"
      },
      "execution_count": 35,
      "outputs": [
        {
          "output_type": "execute_result",
          "data": {
            "text/plain": [
              "4"
            ]
          },
          "metadata": {},
          "execution_count": 35
        }
      ]
    },
    {
      "cell_type": "code",
      "source": [
        "test_labels  ## test lable for test data"
      ],
      "metadata": {
        "colab": {
          "base_uri": "https://localhost:8080/"
        },
        "id": "BsobDrGfpHO0",
        "outputId": "71b81c5e-b45e-4022-8d57-06fa62ab5272"
      },
      "execution_count": 41,
      "outputs": [
        {
          "output_type": "execute_result",
          "data": {
            "text/plain": [
              "array([4, 4, 9, 7, 5, 1, 0, 5, 7, 4, 0, 8, 2, 3, 9, 0, 7, 7, 2, 2, 0, 4,\n",
              "       4, 4, 2, 7, 7, 4, 2, 4, 7, 5])"
            ]
          },
          "metadata": {},
          "execution_count": 41
        }
      ]
    },
    {
      "cell_type": "code",
      "source": [
        "test_labels[0] ## actuall test lable form the test data"
      ],
      "metadata": {
        "colab": {
          "base_uri": "https://localhost:8080/"
        },
        "id": "qS0Z1jvorBy3",
        "outputId": "44656cd1-ce2b-4a8e-a991-5a1cc6cf5da8"
      },
      "execution_count": 40,
      "outputs": [
        {
          "output_type": "execute_result",
          "data": {
            "text/plain": [
              "4"
            ]
          },
          "metadata": {},
          "execution_count": 40
        }
      ]
    },
    {
      "cell_type": "code",
      "source": [
        "def plot_image(i, predictions_array, true_labels, images):\n",
        "  predictions_array, true_label, img = predictions_array[i], true_labels[i], images[i]\n",
        "  plt.grid(False)\n",
        "  plt.xticks([])\n",
        "  plt.yticks([])\n",
        "  \n",
        "  plt.imshow(img[...,0], cmap=plt.cm.binary)\n",
        "\n",
        "  predicted_label = np.argmax(predictions_array)\n",
        "  if predicted_label == true_label:\n",
        "    color = 'blue'\n",
        "  else:\n",
        "    color = 'red'\n",
        "  \n",
        "  plt.xlabel(\"{} {:2.0f}% ({})\".format(class_names[predicted_label],\n",
        "                                100*np.max(predictions_array),\n",
        "                                class_names[true_label]),\n",
        "                                color=color)"
      ],
      "metadata": {
        "id": "v9XBKXNFrBwH"
      },
      "execution_count": 42,
      "outputs": []
    },
    {
      "cell_type": "code",
      "source": [
        ""
      ],
      "metadata": {
        "id": "nUjbn76JrBtJ"
      },
      "execution_count": null,
      "outputs": []
    },
    {
      "cell_type": "code",
      "source": [
        "\n",
        "def plot_value_array(i, predictions_array, true_label):\n",
        "  predictions_array, true_label = predictions_array[i], true_label[i]\n",
        "  plt.grid(False)\n",
        "  plt.xticks([])\n",
        "  plt.yticks([])\n",
        "  thisplot = plt.bar(range(10), predictions_array, color=\"#777777\")\n",
        "  plt.ylim([0, 1]) \n",
        "  predicted_label = np.argmax(predictions_array)\n",
        "  \n",
        "  thisplot[predicted_label].set_color('red')\n",
        "  thisplot[true_label].set_color('blue')"
      ],
      "metadata": {
        "id": "JBKyzbU9ro_L"
      },
      "execution_count": 43,
      "outputs": []
    },
    {
      "cell_type": "code",
      "source": [
        "i = 0\n",
        "plt.figure(figsize=(6,3))\n",
        "plt.subplot(1,2,1)\n",
        "plot_image(i, predictions, test_labels, test_images)\n",
        "plt.subplot(1,2,2)\n",
        "plot_value_array(i, predictions, test_labels)"
      ],
      "metadata": {
        "colab": {
          "base_uri": "https://localhost:8080/",
          "height": 203
        },
        "id": "rZsjcEXwro7t",
        "outputId": "c793ac3c-96a8-4868-e9d1-341775038f45"
      },
      "execution_count": 44,
      "outputs": [
        {
          "output_type": "display_data",
          "data": {
            "image/png": "[encoded data removed]",
            "text/plain": [
              "<Figure size 432x216 with 2 Axes>"
            ]
          },
          "metadata": {}
        }
      ]
    },
    {
      "cell_type": "code",
      "source": [
        "i = 12\n",
        "plt.figure(figsize=(6,3))\n",
        "plt.subplot(1,2,1)\n",
        "plot_image(i, predictions, test_labels, test_images)\n",
        "plt.subplot(1,2,2)\n",
        "plot_value_array(i, predictions, test_labels)"
      ],
      "metadata": {
        "colab": {
          "base_uri": "https://localhost:8080/",
          "height": 203
        },
        "id": "xI3lQWVyro45",
        "outputId": "5868c89b-e902-426c-c4da-4e2c19ea7a45"
      },
      "execution_count": 45,
      "outputs": [
        {
          "output_type": "display_data",
          "data": {
            "image/png": "[encoded data removed]",
            "text/plain": [
              "<Figure size 432x216 with 2 Axes>"
            ]
          },
          "metadata": {}
        }
      ]
    },
    {
      "cell_type": "code",
      "source": [
        "# Plot the first X test images, their predicted label, and the true label\n",
        "# Color correct predictions in blue, incorrect predictions in red\n",
        "num_rows = 5\n",
        "num_cols = 3\n",
        "num_images = num_rows*num_cols\n",
        "plt.figure(figsize=(2*2*num_cols, 2*num_rows))\n",
        "for i in range(num_images):\n",
        "  plt.subplot(num_rows, 2*num_cols, 2*i+1)\n",
        "  plot_image(i, predictions, test_labels, test_images)\n",
        "  plt.subplot(num_rows, 2*num_cols, 2*i+2)\n",
        "  plot_value_array(i, predictions, test_labels)"
      ],
      "metadata": {
        "colab": {
          "base_uri": "https://localhost:8080/",
          "height": 589
        },
        "id": "rs50qtdkro2G",
        "outputId": "1e21bead-43d6-4373-ce01-7800d10d249f"
      },
      "execution_count": 46,
      "outputs": [
        {
          "output_type": "display_data",
          "data": {
            "image/png": "[encoded data removed]",
            "text/plain": [
              "<Figure size 864x720 with 30 Axes>"
            ]
          },
          "metadata": {}
        }
      ]
    },
    {
      "cell_type": "code",
      "source": [
        "# Grab an image from the test dataset\n",
        "img = test_images[0]\n",
        "\n",
        "print(img.shape)"
      ],
      "metadata": {
        "colab": {
          "base_uri": "https://localhost:8080/"
        },
        "id": "F4H2yYRkrozN",
        "outputId": "676660d1-0322-4a5a-db66-4ce38dcac910"
      },
      "execution_count": 47,
      "outputs": [
        {
          "output_type": "stream",
          "name": "stdout",
          "text": [
            "(28, 28, 1)\n"
          ]
        }
      ]
    },
    {
      "cell_type": "code",
      "source": [
        "# Add the image to a batch where it's the only member.\n",
        "img = np.array([img])\n",
        "\n",
        "print(img.shape)"
      ],
      "metadata": {
        "colab": {
          "base_uri": "https://localhost:8080/"
        },
        "id": "oXYFIuWgrBqK",
        "outputId": "3dd9dd3a-1c23-47a5-eb37-b4d9f0595731"
      },
      "execution_count": 48,
      "outputs": [
        {
          "output_type": "stream",
          "name": "stdout",
          "text": [
            "(1, 28, 28, 1)\n"
          ]
        }
      ]
    },
    {
      "cell_type": "code",
      "source": [
        "predictions_single = model.predict(img)\n",
        "\n",
        "print(predictions_single)"
      ],
      "metadata": {
        "colab": {
          "base_uri": "https://localhost:8080/"
        },
        "id": "ly1g6yxlsWkN",
        "outputId": "7bd341d2-ec79-4ee7-9b58-4f4a370c22b8"
      },
      "execution_count": 49,
      "outputs": [
        {
          "output_type": "stream",
          "name": "stdout",
          "text": [
            "[[4.5276043e-05 6.4149835e-06 2.3849029e-02 7.2608836e-06 9.5865303e-01\n",
            "  1.3586899e-08 1.7379967e-02 4.9432305e-08 5.8857629e-05 7.6253727e-08]]\n"
          ]
        }
      ]
    },
    {
      "cell_type": "code",
      "source": [
        "plot_value_array(0, predictions_single, test_labels)\n",
        "_ = plt.xticks(range(10), class_names, rotation=45)"
      ],
      "metadata": {
        "colab": {
          "base_uri": "https://localhost:8080/",
          "height": 300
        },
        "id": "DpITM-U6sWg7",
        "outputId": "88f4697f-8fd3-4b29-db50-ff3365ea66b6"
      },
      "execution_count": 50,
      "outputs": [
        {
          "output_type": "display_data",
          "data": {
            "image/png": "[encoded data removed]",
            "text/plain": [
              "<Figure size 432x288 with 1 Axes>"
            ]
          },
          "metadata": {
            "needs_background": "light"
          }
        }
      ]
    },
    {
      "cell_type": "code",
      "source": [
        "np.argmax(predictions_single[0])"
      ],
      "metadata": {
        "colab": {
          "base_uri": "https://localhost:8080/"
        },
        "id": "6sRplJtFsWeP",
        "outputId": "8690cb0b-39b9-486c-8b92-382cb4dd25ac"
      },
      "execution_count": 51,
      "outputs": [
        {
          "output_type": "execute_result",
          "data": {
            "text/plain": [
              "4"
            ]
          },
          "metadata": {},
          "execution_count": 51
        }
      ]
    },
    {
      "cell_type": "code",
      "source": [
        ""
      ],
      "metadata": {
        "id": "Kc2iTiRcsWbJ"
      },
      "execution_count": null,
      "outputs": []
    },
    {
      "cell_type": "code",
      "source": [
        ""
      ],
      "metadata": {
        "id": "WM2KaXIksWYj"
      },
      "execution_count": null,
      "outputs": []
    },
    {
      "cell_type": "code",
      "source": [
        ""
      ],
      "metadata": {
        "id": "pRJvHIGssWVx"
      },
      "execution_count": null,
      "outputs": []
    },
    {
      "cell_type": "code",
      "source": [
        ""
      ],
      "metadata": {
        "id": "s3u-GjgOsWS7"
      },
      "execution_count": null,
      "outputs": []
    },
    {
      "cell_type": "code",
      "source": [
        "\n",
        "from keras.models import Sequential\n",
        "from keras.layers import Dense\n",
        "import matplotlib.pyplot as plt\n",
        "import numpy\n",
        "# load pima indians dataset\n",
        "dataset = numpy.loadtxt(\"pima-indians-diabetes.csv\", delimiter=\",\")\n",
        "# split into input (X) and output (Y) variables\n",
        "X = dataset[:,0:8]\n",
        "Y = dataset[:,8]\n",
        "# create model\n",
        "model = Sequential()\n",
        "model.add(Dense(12, input_dim=8, activation='relu'))\n",
        "model.add(Dense(8, activation='relu'))\n",
        "model.add(Dense(1, activation='sigmoid'))\n",
        "# Compile model\n",
        "model.compile(loss='binary_crossentropy', optimizer='adam', metrics=['accuracy'])\n",
        "# Fit the model\n",
        "history = model.fit(X, Y, validation_split=0.33, epochs=150, batch_size=10, verbose=0)\n",
        "# list all data in history\n",
        "print(history.history.keys())\n",
        "# summarize history for accuracy\n",
        "plt.plot(history.history['accuracy'])\n",
        "plt.plot(history.history['val_accuracy'])\n",
        "plt.title('model accuracy')\n",
        "plt.ylabel('accuracy')\n",
        "plt.xlabel('epoch')\n",
        "plt.legend(['train', 'test'], loc='upper left')\n",
        "plt.show()\n",
        "# summarize history for loss\n",
        "plt.plot(history.history['loss'])\n",
        "plt.plot(history.history['val_loss'])\n",
        "plt.title('model loss')\n",
        "plt.ylabel('loss')\n",
        "plt.xlabel('epoch')\n",
        "plt.legend(['train', 'test'], loc='upper left')\n",
        "plt.show()"
      ],
      "metadata": {
        "id": "EINQbL_odBFL"
      },
      "execution_count": null,
      "outputs": []
    },
    {
      "cell_type": "code",
      "source": [
        ""
      ],
      "metadata": {
        "id": "CzqHRgkidBCT"
      },
      "execution_count": null,
      "outputs": []
    },
    {
      "cell_type": "code",
      "source": [
        ""
      ],
      "metadata": {
        "id": "OYXW1K3_dA_h"
      },
      "execution_count": null,
      "outputs": []
    },
    {
      "cell_type": "code",
      "source": [
        ""
      ],
      "metadata": {
        "id": "r9uo53HDdA8S"
      },
      "execution_count": null,
      "outputs": []
    },
    {
      "cell_type": "code",
      "source": [
        ""
      ],
      "metadata": {
        "id": "2asVZspldA5e"
      },
      "execution_count": null,
      "outputs": []
    },
    {
      "cell_type": "code",
      "source": [
        ""
      ],
      "metadata": {
        "id": "YKxiQJ_5dA2v"
      },
      "execution_count": null,
      "outputs": []
    },
    {
      "cell_type": "code",
      "source": [
        ""
      ],
      "metadata": {
        "id": "-zbL06I-dAzg"
      },
      "execution_count": null,
      "outputs": []
    },
    {
      "cell_type": "code",
      "source": [
        ""
      ],
      "metadata": {
        "id": "g_yVaZkhdAwj"
      },
      "execution_count": null,
      "outputs": []
    },
    {
      "cell_type": "code",
      "source": [
        ""
      ],
      "metadata": {
        "id": "uQEPGZ-fdAta"
      },
      "execution_count": null,
      "outputs": []
    },
    {
      "cell_type": "code",
      "source": [
        ""
      ],
      "metadata": {
        "id": "nZe4CsQ3dAp_"
      },
      "execution_count": null,
      "outputs": []
    }
  ]
}