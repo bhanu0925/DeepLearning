{
  "nbformat": 4,
  "nbformat_minor": 0,
  "metadata": {
    "colab": {
      "name": "ANN_Tenserflow.ipynb",
      "provenance": [],
      "mount_file_id": "1JM14CKnu3dr071SoWoRItAH2zUBDaCop",
      "authorship_tag": "ABX9TyM6ergyeBn9Z/Dkmdrn7/F/",
      "include_colab_link": true
    },
    "kernelspec": {
      "name": "python3",
      "display_name": "Python 3"
    },
    "language_info": {
      "name": "python"
    },
    "accelerator": "GPU"
  },
  "cells": [
    {
      "cell_type": "markdown",
      "metadata": {
        "id": "view-in-github",
        "colab_type": "text"
      },
      "source": [
        "<a href=\"https://colab.research.google.com/github/bhanu0925/DeepLearning/blob/main/ANN_Tenserflow.ipynb\" target=\"_parent\"><img src=\"https://colab.research.google.com/assets/colab-badge.svg\" alt=\"Open In Colab\"/></a>"
      ]
    },
    {
      "cell_type": "code",
      "execution_count": 4,
      "metadata": {
        "id": "I6nS1WLG9d_L"
      },
      "outputs": [],
      "source": [
        "import os\n",
        "ROOT = \"/content/drive/MyDrive/DeepLearning_Bhanu\"\n",
        "os.chdir(ROOT)"
      ]
    },
    {
      "cell_type": "code",
      "source": [
        "os.listdir()"
      ],
      "metadata": {
        "colab": {
          "base_uri": "https://localhost:8080/"
        },
        "id": "-q0HQbnd9_fo",
        "outputId": "6310b695-5786-4e6d-bba7-24eee6f280bf"
      },
      "execution_count": 3,
      "outputs": [
        {
          "output_type": "execute_result",
          "data": {
            "text/plain": [
              "['TensorFlow_and_Keras',\n",
              " 'Untitled',\n",
              " 'logs',\n",
              " 'model_ckpt.h5',\n",
              " 'callbacks_TensorFlow_and_Keras',\n",
              " 'car1.jpg',\n",
              " 'car.jpg',\n",
              " 'dogcat']"
            ]
          },
          "metadata": {},
          "execution_count": 3
        }
      ]
    },
    {
      "cell_type": "code",
      "source": [
        "import tensorflow as tf"
      ],
      "metadata": {
        "id": "jamRryL4-HAW"
      },
      "execution_count": 4,
      "outputs": []
    },
    {
      "cell_type": "code",
      "source": [
        "tf.__version__"
      ],
      "metadata": {
        "colab": {
          "base_uri": "https://localhost:8080/",
          "height": 35
        },
        "id": "zcNEqpuM-K17",
        "outputId": "db3f2f65-08ce-497c-c248-bed843a075a0"
      },
      "execution_count": 5,
      "outputs": [
        {
          "output_type": "execute_result",
          "data": {
            "application/vnd.google.colaboratory.intrinsic+json": {
              "type": "string"
            },
            "text/plain": [
              "'2.8.0'"
            ]
          },
          "metadata": {},
          "execution_count": 5
        }
      ]
    },
    {
      "cell_type": "code",
      "source": [
        "tf.keras.__version__"
      ],
      "metadata": {
        "colab": {
          "base_uri": "https://localhost:8080/",
          "height": 35
        },
        "id": "UkTHJYYi-Mrr",
        "outputId": "7e258a00-e5ac-4e86-8d3e-748bb0558e8d"
      },
      "execution_count": 6,
      "outputs": [
        {
          "output_type": "execute_result",
          "data": {
            "application/vnd.google.colaboratory.intrinsic+json": {
              "type": "string"
            },
            "text/plain": [
              "'2.8.0'"
            ]
          },
          "metadata": {},
          "execution_count": 6
        }
      ]
    },
    {
      "cell_type": "code",
      "source": [
        "tf.config.list_physical_devices(\"GPU\")"
      ],
      "metadata": {
        "colab": {
          "base_uri": "https://localhost:8080/"
        },
        "id": "oT6cLwBe-PXm",
        "outputId": "f948309b-c7df-49d1-e59a-638b20f03c37"
      },
      "execution_count": 7,
      "outputs": [
        {
          "output_type": "execute_result",
          "data": {
            "text/plain": [
              "[PhysicalDevice(name='/physical_device:GPU:0', device_type='GPU')]"
            ]
          },
          "metadata": {},
          "execution_count": 7
        }
      ]
    },
    {
      "cell_type": "markdown",
      "source": [
        "## A Simple calssifeir using keras Sequential API\n",
        "\n",
        "## Data set MNIST\n",
        "\n",
        "  - it a dataset of handwritten digits\n",
        "  - each data point is 2d array of 28 X 28\n",
        "  - it has 10 classes 0-9\n"
      ],
      "metadata": {
        "id": "QGXgyecs_T1z"
      }
    },
    {
      "cell_type": "code",
      "source": [
        "import numpy as np\n",
        "import matplotlib.pyplot as plt\n",
        "import pandas as pd\n",
        "import tensorflow as tf\n",
        "import seaborn as sns\n"
      ],
      "metadata": {
        "id": "q_VMhx3X-XEw"
      },
      "execution_count": 2,
      "outputs": []
    },
    {
      "cell_type": "code",
      "source": [
        "mnist = tf.keras.datasets.mnist\n",
        "(X_train_full,y_train_full),(X_test,y_test) = mnist.load_data()"
      ],
      "metadata": {
        "colab": {
          "base_uri": "https://localhost:8080/"
        },
        "id": "vS2QdDiy_5Rj",
        "outputId": "1dbdfe64-df67-4479-b52c-c19ad55fa505"
      },
      "execution_count": 7,
      "outputs": [
        {
          "output_type": "stream",
          "name": "stdout",
          "text": [
            "Downloading data from https://storage.googleapis.com/tensorflow/tf-keras-datasets/mnist.npz\n",
            "11493376/11490434 [==============================] - 0s 0us/step\n",
            "11501568/11490434 [==============================] - 0s 0us/step\n"
          ]
        }
      ]
    },
    {
      "cell_type": "code",
      "source": [
        "X_train_full.shape\n"
      ],
      "metadata": {
        "colab": {
          "base_uri": "https://localhost:8080/"
        },
        "id": "zqA4ael0ACJh",
        "outputId": "6a467f39-10b2-4483-85e8-9738a7a999c0"
      },
      "execution_count": 8,
      "outputs": [
        {
          "output_type": "execute_result",
          "data": {
            "text/plain": [
              "(60000, 28, 28)"
            ]
          },
          "metadata": {},
          "execution_count": 8
        }
      ]
    },
    {
      "cell_type": "markdown",
      "source": [
        "Split in to validation set and normalizing imagedata"
      ],
      "metadata": {
        "id": "01TcVabvBsIC"
      }
    },
    {
      "cell_type": "code",
      "source": [
        "X_valid ,X_train = X_train_full[:5000]/255.,X_train_full[5000:]/255.\n",
        "y_valid,y_train = y_train_full[:5000],y_train_full[5000:]\n"
      ],
      "metadata": {
        "id": "taT3QlBKAEXu"
      },
      "execution_count": 9,
      "outputs": []
    },
    {
      "cell_type": "code",
      "source": [
        "X_test = X_test/255."
      ],
      "metadata": {
        "id": "VMzw_TU1AaOz"
      },
      "execution_count": 10,
      "outputs": []
    },
    {
      "cell_type": "code",
      "source": [
        "plt.imshow(X_train[0],cmap='binary')\n",
        "plt.axis('off')\n",
        "plt.show()\n",
        "y_train[0]"
      ],
      "metadata": {
        "colab": {
          "base_uri": "https://localhost:8080/",
          "height": 266
        },
        "id": "FpLZfn2hCasd",
        "outputId": "27894c4d-31a8-44fd-e86f-ccbb409045fd"
      },
      "execution_count": 11,
      "outputs": [
        {
          "output_type": "display_data",
          "data": {
            "image/png": "[encoded data removed]",
            "text/plain": [
              "<Figure size 432x288 with 1 Axes>"
            ]
          },
          "metadata": {
            "needs_background": "light"
          }
        },
        {
          "output_type": "execute_result",
          "data": {
            "text/plain": [
              "7"
            ]
          },
          "metadata": {},
          "execution_count": 11
        }
      ]
    },
    {
      "cell_type": "code",
      "source": [
        "plt.figure(figsize=(15,15))\n",
        "sns.heatmap(X_train[0],annot=True,cmap='binary')"
      ],
      "metadata": {
        "colab": {
          "base_uri": "https://localhost:8080/",
          "height": 881
        },
        "id": "ZFjlQWFpCmYS",
        "outputId": "80bfb543-2e22-4578-8548-403aa51671bd"
      },
      "execution_count": 12,
      "outputs": [
        {
          "output_type": "execute_result",
          "data": {
            "text/plain": [
              "<matplotlib.axes._subplots.AxesSubplot at 0x7f2910252410>"
            ]
          },
          "metadata": {},
          "execution_count": 12
        },
        {
          "output_type": "display_data",
          "data": {
            "image/png": "[encoded data removed]",
            "text/plain": [
              "<Figure size 1080x1080 with 2 Axes>"
            ]
          },
          "metadata": {
            "needs_background": "light"
          }
        }
      ]
    },
    {
      "cell_type": "markdown",
      "source": [
        "## Setting up the layers for the NN"
      ],
      "metadata": {
        "id": "aaOSuMNcDIpl"
      }
    },
    {
      "cell_type": "code",
      "source": [
        "LAYERS = [\n",
        "          tf.keras.layers.Flatten(input_shape=[28,28], name = \"input_layers\"),\n",
        "          tf.keras.layers.Dense(300,activation='relu',name='hidden_layer1'),\n",
        "          tf.keras.layers.Dense(100,activation='relu', name='hidden_layer2'),\n",
        "          tf.keras.layers.Dense(10,activation='softmax',name = 'output_layer')\n",
        "]"
      ],
      "metadata": {
        "id": "IAc0YxNFDCLb"
      },
      "execution_count": 13,
      "outputs": []
    },
    {
      "cell_type": "code",
      "source": [
        "model = tf.keras.models.Sequential(LAYERS)"
      ],
      "metadata": {
        "id": "nqOq09X7D099"
      },
      "execution_count": 14,
      "outputs": []
    },
    {
      "cell_type": "code",
      "source": [
        "model.layers"
      ],
      "metadata": {
        "colab": {
          "base_uri": "https://localhost:8080/"
        },
        "id": "FypoLV8QD6sy",
        "outputId": "648f1c1c-305a-4a04-8c90-e03ebc5cf5e6"
      },
      "execution_count": 15,
      "outputs": [
        {
          "output_type": "execute_result",
          "data": {
            "text/plain": [
              "[<keras.layers.core.flatten.Flatten at 0x7f289e554950>,\n",
              " <keras.layers.core.dense.Dense at 0x7f289e554810>,\n",
              " <keras.layers.core.dense.Dense at 0x7f289e4e3a50>,\n",
              " <keras.layers.core.dense.Dense at 0x7f289e4e3f50>]"
            ]
          },
          "metadata": {},
          "execution_count": 15
        }
      ]
    },
    {
      "cell_type": "code",
      "source": [
        "model.get_weights()  ## randomly assigned weights"
      ],
      "metadata": {
        "colab": {
          "base_uri": "https://localhost:8080/"
        },
        "id": "IM0iKLlcD8pl",
        "outputId": "339684ec-3d1c-436b-fac8-d7d4d236c165"
      },
      "execution_count": 16,
      "outputs": [
        {
          "output_type": "execute_result",
          "data": {
            "text/plain": [
              "[array([[ 0.05515058,  0.05562089, -0.01291873, ...,  0.06153068,\n",
              "         -0.04997486,  0.04388182],\n",
              "        [ 0.04469937,  0.03404934,  0.03551044, ..., -0.00359101,\n",
              "         -0.03047317,  0.05001905],\n",
              "        [-0.02435129,  0.04446525, -0.06457652, ...,  0.04224613,\n",
              "          0.01059981,  0.03965805],\n",
              "        ...,\n",
              "        [ 0.0142874 ,  0.06303941,  0.0188969 , ..., -0.0091329 ,\n",
              "         -0.03486265, -0.05482267],\n",
              "        [ 0.00728001, -0.03223052, -0.04495478, ...,  0.05179404,\n",
              "          0.00241591, -0.0742773 ],\n",
              "        [ 0.07095195, -0.04670148, -0.04258513, ...,  0.03705955,\n",
              "          0.02563304,  0.06114657]], dtype=float32),\n",
              " array([0., 0., 0., 0., 0., 0., 0., 0., 0., 0., 0., 0., 0., 0., 0., 0., 0.,\n",
              "        0., 0., 0., 0., 0., 0., 0., 0., 0., 0., 0., 0., 0., 0., 0., 0., 0.,\n",
              "        0., 0., 0., 0., 0., 0., 0., 0., 0., 0., 0., 0., 0., 0., 0., 0., 0.,\n",
              "        0., 0., 0., 0., 0., 0., 0., 0., 0., 0., 0., 0., 0., 0., 0., 0., 0.,\n",
              "        0., 0., 0., 0., 0., 0., 0., 0., 0., 0., 0., 0., 0., 0., 0., 0., 0.,\n",
              "        0., 0., 0., 0., 0., 0., 0., 0., 0., 0., 0., 0., 0., 0., 0., 0., 0.,\n",
              "        0., 0., 0., 0., 0., 0., 0., 0., 0., 0., 0., 0., 0., 0., 0., 0., 0.,\n",
              "        0., 0., 0., 0., 0., 0., 0., 0., 0., 0., 0., 0., 0., 0., 0., 0., 0.,\n",
              "        0., 0., 0., 0., 0., 0., 0., 0., 0., 0., 0., 0., 0., 0., 0., 0., 0.,\n",
              "        0., 0., 0., 0., 0., 0., 0., 0., 0., 0., 0., 0., 0., 0., 0., 0., 0.,\n",
              "        0., 0., 0., 0., 0., 0., 0., 0., 0., 0., 0., 0., 0., 0., 0., 0., 0.,\n",
              "        0., 0., 0., 0., 0., 0., 0., 0., 0., 0., 0., 0., 0., 0., 0., 0., 0.,\n",
              "        0., 0., 0., 0., 0., 0., 0., 0., 0., 0., 0., 0., 0., 0., 0., 0., 0.,\n",
              "        0., 0., 0., 0., 0., 0., 0., 0., 0., 0., 0., 0., 0., 0., 0., 0., 0.,\n",
              "        0., 0., 0., 0., 0., 0., 0., 0., 0., 0., 0., 0., 0., 0., 0., 0., 0.,\n",
              "        0., 0., 0., 0., 0., 0., 0., 0., 0., 0., 0., 0., 0., 0., 0., 0., 0.,\n",
              "        0., 0., 0., 0., 0., 0., 0., 0., 0., 0., 0., 0., 0., 0., 0., 0., 0.,\n",
              "        0., 0., 0., 0., 0., 0., 0., 0., 0., 0., 0.], dtype=float32),\n",
              " array([[-0.06700632, -0.03555635, -0.03375726, ..., -0.00625092,\n",
              "          0.06823217, -0.10231826],\n",
              "        [-0.01001792,  0.03746832, -0.0411014 , ...,  0.0271664 ,\n",
              "         -0.06805721, -0.06497989],\n",
              "        [ 0.08315263,  0.04524454,  0.07250866, ...,  0.00602064,\n",
              "          0.03271674,  0.08546548],\n",
              "        ...,\n",
              "        [-0.03174575, -0.00788014, -0.11874495, ..., -0.05744116,\n",
              "         -0.07185549, -0.07089381],\n",
              "        [-0.01564678,  0.02810291,  0.06493042, ...,  0.05053429,\n",
              "         -0.09156728, -0.02742757],\n",
              "        [ 0.02544887, -0.11666388, -0.09137987, ...,  0.10609496,\n",
              "         -0.05406938,  0.03955733]], dtype=float32),\n",
              " array([0., 0., 0., 0., 0., 0., 0., 0., 0., 0., 0., 0., 0., 0., 0., 0., 0.,\n",
              "        0., 0., 0., 0., 0., 0., 0., 0., 0., 0., 0., 0., 0., 0., 0., 0., 0.,\n",
              "        0., 0., 0., 0., 0., 0., 0., 0., 0., 0., 0., 0., 0., 0., 0., 0., 0.,\n",
              "        0., 0., 0., 0., 0., 0., 0., 0., 0., 0., 0., 0., 0., 0., 0., 0., 0.,\n",
              "        0., 0., 0., 0., 0., 0., 0., 0., 0., 0., 0., 0., 0., 0., 0., 0., 0.,\n",
              "        0., 0., 0., 0., 0., 0., 0., 0., 0., 0., 0., 0., 0., 0., 0.],\n",
              "       dtype=float32),\n",
              " array([[-1.21716335e-01, -1.30587801e-01, -1.10279247e-01,\n",
              "         -1.40113086e-01, -1.74932688e-01, -1.79198533e-01,\n",
              "          1.33491993e-01,  2.99510956e-02, -1.13833688e-01,\n",
              "         -1.72378868e-02],\n",
              "        [ 1.12067431e-01,  1.68146491e-02, -1.03272036e-01,\n",
              "         -1.92417800e-01,  1.67526841e-01,  7.20463097e-02,\n",
              "         -1.65720612e-01, -2.32137412e-01,  2.15755641e-01,\n",
              "          1.39328897e-01],\n",
              "        [-9.92935747e-02,  1.37746185e-01,  1.58841759e-01,\n",
              "          5.59148490e-02, -9.79847014e-02, -1.84427068e-01,\n",
              "         -1.80255100e-01,  4.81282473e-02,  8.62046480e-02,\n",
              "         -8.16915780e-02],\n",
              "        [ 1.93483740e-01,  1.69615328e-01,  2.15590209e-01,\n",
              "         -6.39531016e-03, -2.02373564e-01,  1.94165617e-01,\n",
              "         -2.32643679e-01,  5.81499338e-02,  5.70725799e-02,\n",
              "         -1.14507005e-01],\n",
              "        [ 1.63617104e-01,  2.17101276e-01, -9.59229916e-02,\n",
              "         -8.33558291e-02, -4.04232740e-02, -1.19779415e-01,\n",
              "         -2.61616260e-02,  1.33206695e-02, -2.28560358e-01,\n",
              "         -2.30781198e-01],\n",
              "        [ 7.66152740e-02, -1.29460961e-01,  2.11364686e-01,\n",
              "         -2.96614468e-02,  6.82543218e-02, -1.29610300e-01,\n",
              "          1.67032450e-01,  1.33515656e-01, -5.58569282e-02,\n",
              "         -1.87966868e-01],\n",
              "        [-1.19903535e-02,  5.88798821e-02, -9.52785760e-02,\n",
              "          6.80958033e-02, -1.29486784e-01, -3.36831212e-02,\n",
              "         -2.19897926e-01, -2.32490435e-01, -2.12732464e-01,\n",
              "         -1.11117601e-01],\n",
              "        [ 1.35140806e-01, -1.51958942e-01, -1.43924385e-01,\n",
              "          1.66005105e-01,  1.46773845e-01, -1.66887939e-02,\n",
              "          9.16001201e-03,  2.69448161e-02, -2.13951871e-01,\n",
              "         -4.22732681e-02],\n",
              "        [ 1.96830571e-01, -9.22452211e-02,  9.85028744e-02,\n",
              "         -1.16567314e-01,  2.31976479e-01, -1.12096667e-01,\n",
              "         -1.70444280e-01,  1.84500784e-01, -9.18395072e-02,\n",
              "         -1.52220145e-01],\n",
              "        [ 1.33624852e-01,  1.08047575e-02,  7.82753527e-02,\n",
              "          1.00991070e-01,  1.90358162e-02,  1.61571324e-01,\n",
              "          1.81682736e-01, -1.60822541e-01, -3.20688188e-02,\n",
              "         -1.10626318e-01],\n",
              "        [ 4.79632616e-02, -9.31628048e-02,  2.18959123e-01,\n",
              "          1.86416388e-01,  1.89046770e-01,  1.27319396e-02,\n",
              "          8.54066610e-02,  1.63943052e-01,  1.08503580e-01,\n",
              "          2.31553346e-01],\n",
              "        [ 6.85933828e-02, -2.23792762e-01, -2.45131999e-02,\n",
              "         -9.54137743e-02, -1.23822033e-01,  6.86739385e-02,\n",
              "          2.83097923e-02, -1.88621640e-01,  1.11426204e-01,\n",
              "          3.05703282e-03],\n",
              "        [-3.01918238e-02,  1.31330103e-01, -3.87045145e-02,\n",
              "          2.27410734e-01, -2.16239974e-01, -2.31459752e-01,\n",
              "          4.01443243e-03,  3.02952230e-02,  2.50855088e-02,\n",
              "          8.04011524e-03],\n",
              "        [ 2.31596678e-01, -1.25833616e-01,  2.24579990e-01,\n",
              "         -7.60755539e-02,  1.39382422e-01, -1.00347310e-01,\n",
              "          2.21784711e-02,  2.18672305e-01,  5.49897850e-02,\n",
              "          1.28174752e-01],\n",
              "        [ 2.24821717e-01, -1.54793113e-02,  1.55026168e-01,\n",
              "         -1.26310319e-01,  1.71305686e-01,  1.37777627e-02,\n",
              "          1.78664923e-01,  2.11642653e-01, -3.89151126e-02,\n",
              "         -4.84650135e-02],\n",
              "        [-1.14728950e-01,  2.15261579e-01, -1.69755042e-01,\n",
              "          1.22533083e-01,  1.98577851e-01,  2.33308077e-01,\n",
              "         -1.75450414e-01, -2.15687826e-01, -1.11741640e-01,\n",
              "         -3.17586660e-02],\n",
              "        [ 2.00683773e-01, -2.11625889e-01,  1.63443208e-01,\n",
              "          1.56687826e-01,  1.92720711e-01,  1.98825359e-01,\n",
              "         -1.88757062e-01,  1.83034778e-01, -1.17527395e-01,\n",
              "         -8.69108289e-02],\n",
              "        [ 6.30027950e-02,  2.12212503e-02, -2.02502295e-01,\n",
              "          2.13363141e-01,  9.39325988e-03,  3.09398472e-02,\n",
              "          1.20015442e-02,  1.03874147e-01, -1.89768866e-01,\n",
              "         -7.68757164e-02],\n",
              "        [-1.96935833e-01,  2.30713040e-01, -1.53767616e-01,\n",
              "         -3.98291647e-03, -1.35398328e-01,  1.93983912e-01,\n",
              "          1.20648354e-01,  2.08402872e-01, -5.17257303e-02,\n",
              "          1.79651082e-02],\n",
              "        [ 1.48170084e-01,  8.27122331e-02,  1.16873413e-01,\n",
              "          9.66897905e-02,  5.63610196e-02,  1.46711022e-01,\n",
              "          1.67817056e-01, -2.27997854e-01, -1.25391632e-02,\n",
              "         -1.28649831e-01],\n",
              "        [-1.53067917e-01,  2.12151200e-01,  1.78813338e-02,\n",
              "          9.24438238e-04,  1.94836974e-01, -7.05521703e-02,\n",
              "         -1.51692718e-01, -1.21354066e-01,  8.44037831e-02,\n",
              "         -6.54014200e-02],\n",
              "        [-1.58594638e-01,  1.06849879e-01,  4.79058921e-03,\n",
              "         -3.35607827e-02,  2.52139568e-02, -8.84793401e-02,\n",
              "          1.08079940e-01,  1.40348732e-01,  9.66287255e-02,\n",
              "          1.43174291e-01],\n",
              "        [-1.25919372e-01, -2.31519714e-01, -1.03683814e-01,\n",
              "         -8.91692042e-02, -2.21089646e-01, -2.24048734e-01,\n",
              "         -8.55960548e-02,  1.81042224e-01, -2.32169032e-02,\n",
              "          1.64669156e-01],\n",
              "        [ 1.49497777e-01,  4.19287086e-02,  1.00188732e-01,\n",
              "          9.83886719e-02, -1.62462562e-01,  3.19105089e-02,\n",
              "         -1.12389773e-02, -3.76458317e-02,  2.23800778e-01,\n",
              "          6.54317141e-02],\n",
              "        [ 2.00853199e-01, -1.85947195e-01, -1.78677678e-01,\n",
              "         -5.66536188e-03, -1.23878881e-01,  1.75076723e-03,\n",
              "         -1.92624152e-01, -1.92369968e-02,  7.78757036e-02,\n",
              "         -1.98865831e-01],\n",
              "        [ 1.60053670e-01, -2.12488413e-01, -5.25713265e-02,\n",
              "          2.32401997e-01,  6.40240610e-02,  3.96275520e-03,\n",
              "          1.42331541e-01,  1.16919339e-01,  2.12628841e-02,\n",
              "          1.29617423e-01],\n",
              "        [-1.14279091e-02, -2.18594626e-01, -4.21749353e-02,\n",
              "         -2.19671577e-01, -1.51329666e-01,  1.84793055e-01,\n",
              "          6.83809519e-02,  2.85990238e-02,  2.16849208e-01,\n",
              "          2.12352782e-01],\n",
              "        [-1.18529513e-01, -1.50566429e-01,  1.18234128e-01,\n",
              "          1.94980085e-01, -2.08899111e-01,  2.16390193e-01,\n",
              "          1.00905687e-01,  4.86462414e-02, -2.26122633e-01,\n",
              "         -1.04324549e-01],\n",
              "        [-6.02097511e-02,  3.21479440e-02, -1.85646787e-01,\n",
              "          2.32919186e-01, -5.37118167e-02,  5.98637760e-03,\n",
              "         -8.62610042e-02,  2.14843005e-01, -1.51985884e-03,\n",
              "          2.16518790e-01],\n",
              "        [-9.80831385e-02,  2.29269087e-01, -5.14344424e-02,\n",
              "          6.12532794e-02, -4.62873727e-02, -4.06053513e-02,\n",
              "          3.38210166e-03, -1.98667943e-01, -1.69989184e-01,\n",
              "          7.13673234e-02],\n",
              "        [ 9.95895267e-02,  1.31016940e-01,  1.45444185e-01,\n",
              "          1.16464794e-01, -2.27239683e-01, -3.02487910e-02,\n",
              "         -1.19493768e-01, -5.03680110e-02, -9.19093341e-02,\n",
              "         -8.04220289e-02],\n",
              "        [ 1.46543145e-01,  3.84697616e-02, -1.98285729e-01,\n",
              "          1.03721291e-01, -4.14334089e-02,  7.38594532e-02,\n",
              "          1.68309242e-01,  1.18505001e-01,  1.15454763e-01,\n",
              "         -8.25020671e-03],\n",
              "        [ 1.80426836e-01, -1.05005652e-02, -5.59370518e-02,\n",
              "          1.11845762e-01,  1.40238941e-01, -1.06731594e-01,\n",
              "          1.62938714e-01, -2.12164462e-01,  5.30735850e-02,\n",
              "         -9.87858623e-02],\n",
              "        [ 1.34599119e-01,  3.04524601e-02, -6.45182431e-02,\n",
              "          8.24380219e-02, -1.56031221e-01, -2.13458300e-01,\n",
              "          9.00282264e-02, -2.17276946e-01,  6.42440617e-02,\n",
              "         -4.63200659e-02],\n",
              "        [-1.43894553e-03,  2.31719673e-01, -2.07125515e-01,\n",
              "         -2.01841906e-01, -1.18485242e-01,  8.82964730e-02,\n",
              "          1.31172359e-01,  2.17662930e-01, -2.66059786e-02,\n",
              "         -2.02676147e-01],\n",
              "        [-6.29072934e-02, -1.98533520e-01,  4.37955856e-02,\n",
              "         -1.01708025e-01, -1.74787909e-01, -1.61985159e-02,\n",
              "         -1.85019642e-01, -5.81546724e-02, -1.03651509e-01,\n",
              "          2.08731115e-01],\n",
              "        [-1.58408940e-01,  6.46235943e-02,  1.28302366e-01,\n",
              "         -1.46495089e-01, -1.31412745e-01,  1.71999991e-01,\n",
              "         -1.95322081e-01,  8.67144763e-03, -1.09139532e-01,\n",
              "          1.41733617e-01],\n",
              "        [-4.39879000e-02, -1.85157120e-01,  1.46510631e-01,\n",
              "          1.52160227e-01,  2.27836937e-01,  1.01000309e-01,\n",
              "          2.22083151e-01, -2.00024873e-01,  9.47386920e-02,\n",
              "          2.19359696e-01],\n",
              "        [-1.01928189e-01, -1.71567336e-01, -1.33457676e-01,\n",
              "         -6.07608408e-02, -2.22559497e-01, -1.57330751e-01,\n",
              "          1.65500790e-01, -1.83061957e-01,  1.86708152e-01,\n",
              "          2.02833712e-02],\n",
              "        [-1.76276296e-01, -1.37564540e-03, -1.20433241e-01,\n",
              "          2.70099640e-02,  3.88020873e-02,  1.65119290e-01,\n",
              "          1.73971891e-01,  4.45588827e-02,  7.84808099e-02,\n",
              "          1.32311463e-01],\n",
              "        [-1.14586018e-01,  1.96188241e-01, -2.10119680e-01,\n",
              "         -2.14922249e-01, -1.85761884e-01,  1.22799039e-01,\n",
              "          1.07438266e-01,  1.72071725e-01, -2.17015743e-01,\n",
              "         -9.76905227e-02],\n",
              "        [ 1.55178070e-01, -2.05321118e-01,  3.52631807e-02,\n",
              "         -6.06053770e-02, -9.74422693e-03,  3.68718505e-02,\n",
              "         -6.88476712e-02, -1.24514386e-01, -1.04222149e-01,\n",
              "         -1.49195313e-01],\n",
              "        [-6.98000193e-02,  1.40724689e-01,  2.07151353e-01,\n",
              "         -2.28113785e-01,  8.05325806e-03, -5.00920415e-03,\n",
              "         -1.41702205e-01,  2.19261080e-01,  7.21621215e-02,\n",
              "         -1.88588947e-01],\n",
              "        [-1.89144105e-01,  1.95356727e-01,  1.07828110e-01,\n",
              "         -1.38992026e-01, -1.99275821e-01, -1.11747041e-01,\n",
              "         -1.29083633e-01,  7.26725161e-03, -1.44718587e-03,\n",
              "         -1.91823497e-01],\n",
              "        [ 1.71182454e-01,  1.63659453e-01,  1.70673430e-03,\n",
              "         -1.27522051e-02, -2.08954573e-01,  1.33925349e-01,\n",
              "         -2.28860870e-01,  5.54987192e-02, -2.07601428e-01,\n",
              "         -1.87182248e-01],\n",
              "        [ 2.21724540e-01, -1.91870332e-03,  2.01819301e-01,\n",
              "          1.46080911e-01, -2.16784209e-01,  1.79138780e-01,\n",
              "          2.30906934e-01, -6.11169189e-02, -8.20061862e-02,\n",
              "         -1.80353999e-01],\n",
              "        [ 2.22886533e-01,  5.41527569e-02, -1.18757084e-01,\n",
              "          3.68507802e-02, -1.04829311e-01,  1.60601169e-01,\n",
              "          1.68712735e-02, -2.24714801e-01,  1.70731992e-01,\n",
              "         -2.98124552e-02],\n",
              "        [ 1.34505302e-01, -2.24886388e-02, -1.57027721e-01,\n",
              "          1.46862596e-01, -1.16875462e-01, -1.47659123e-01,\n",
              "          1.96570098e-01,  1.00097209e-02, -1.94006592e-01,\n",
              "         -1.24217212e-01],\n",
              "        [-1.15504332e-01,  1.77551210e-02, -6.82853907e-02,\n",
              "          1.55509382e-01,  9.51009393e-02, -1.98646784e-01,\n",
              "         -1.73682660e-01,  1.37242824e-01, -1.54379293e-01,\n",
              "          4.45276499e-03],\n",
              "        [-6.55995905e-02,  1.09893143e-01, -1.41953558e-01,\n",
              "         -1.88103735e-01, -6.65160716e-02,  1.95471048e-02,\n",
              "         -1.07407585e-01, -5.06446958e-02, -4.74303067e-02,\n",
              "         -1.95137665e-01],\n",
              "        [-1.61801174e-01, -3.19887549e-02,  9.27076042e-02,\n",
              "          9.63675976e-03,  6.53876066e-02,  1.36129767e-01,\n",
              "          6.11439347e-03, -2.09636629e-01,  4.40565646e-02,\n",
              "          1.37372762e-01],\n",
              "        [ 3.30273509e-02,  4.97296751e-02, -5.21290302e-02,\n",
              "         -1.45164043e-01, -1.20196812e-01, -8.89743119e-02,\n",
              "          2.23560631e-02, -1.11554876e-01, -2.22522914e-01,\n",
              "         -4.45731282e-02],\n",
              "        [-7.69669116e-02, -2.14752197e-01, -8.77422839e-02,\n",
              "         -8.04807693e-02,  7.03158081e-02,  1.54500306e-01,\n",
              "          2.16134399e-01, -3.91831100e-02, -1.87081292e-01,\n",
              "         -1.30589247e-01],\n",
              "        [ 3.55416238e-02,  1.81083769e-01, -1.12487562e-01,\n",
              "          5.90911806e-02,  8.35422575e-02, -1.05572790e-01,\n",
              "         -2.50967592e-02, -1.94545656e-01, -8.97243470e-02,\n",
              "         -1.43584222e-01],\n",
              "        [ 1.59029007e-01,  1.44409209e-01, -1.08407915e-01,\n",
              "          3.98308039e-03, -1.87627584e-01,  2.91046202e-02,\n",
              "         -1.95073023e-01, -5.08770347e-04, -1.04427278e-01,\n",
              "          1.48177356e-01],\n",
              "        [-1.09631717e-02,  2.56980062e-02,  1.91882402e-01,\n",
              "         -2.31843621e-01, -1.09807782e-01, -9.18361694e-02,\n",
              "         -5.07110804e-02,  8.30689073e-02, -1.71632439e-01,\n",
              "         -1.51811391e-01],\n",
              "        [-9.61587578e-02,  1.51722074e-01,  1.98916793e-01,\n",
              "         -5.41199595e-02, -9.24625397e-02, -8.49568099e-02,\n",
              "          2.23183036e-01,  1.92321360e-01, -1.70119703e-02,\n",
              "          1.24970943e-01],\n",
              "        [-8.19120854e-02,  1.82104558e-01,  2.05604374e-01,\n",
              "         -4.32742238e-02,  2.33301103e-01,  1.30191773e-01,\n",
              "          3.73813808e-02, -9.32829231e-02, -2.18029782e-01,\n",
              "         -1.23667568e-01],\n",
              "        [ 1.96406126e-01,  8.30042362e-02,  6.52807057e-02,\n",
              "         -1.67792439e-01, -1.57792240e-01, -5.56392074e-02,\n",
              "         -1.11916035e-01,  1.24411643e-01,  9.23142731e-02,\n",
              "          2.03153729e-01],\n",
              "        [ 1.04977250e-01, -5.44843525e-02,  1.73002392e-01,\n",
              "          1.62929296e-04,  2.28197366e-01,  1.82555914e-02,\n",
              "         -1.86693966e-01, -8.53643566e-02, -1.06269881e-01,\n",
              "         -5.20356596e-02],\n",
              "        [ 2.21359432e-01,  9.99903977e-02,  1.97771013e-01,\n",
              "          7.85305500e-02,  3.85204852e-02, -3.50694358e-03,\n",
              "         -5.88779896e-02, -2.08159760e-01, -1.83109999e-01,\n",
              "         -1.97737873e-01],\n",
              "        [-3.65059525e-02,  1.23531967e-01, -2.14442924e-01,\n",
              "          7.88902640e-02,  9.41747725e-02, -1.44245446e-01,\n",
              "          1.04277343e-01,  8.14411342e-02,  2.16500670e-01,\n",
              "         -6.57716393e-03],\n",
              "        [ 7.01397955e-02, -2.75921077e-02,  4.62852120e-02,\n",
              "          1.27673417e-01,  7.41041005e-02,  1.86600238e-01,\n",
              "         -2.20557317e-01,  1.41195387e-01, -1.38938963e-01,\n",
              "          1.43365443e-01],\n",
              "        [-1.79957360e-01, -1.36148334e-02,  1.66001141e-01,\n",
              "         -1.83460802e-01, -1.75446689e-01,  2.02124268e-01,\n",
              "          1.56131238e-01, -1.60257310e-01, -2.18173489e-01,\n",
              "          5.96847236e-02],\n",
              "        [ 2.14930326e-01,  1.34741724e-01, -3.20152938e-03,\n",
              "          1.26472861e-01, -2.06679612e-01, -1.62142962e-01,\n",
              "         -1.31017059e-01,  2.03020871e-01, -1.23422898e-01,\n",
              "         -1.17946014e-01],\n",
              "        [-1.53058887e-01, -4.96791154e-02, -4.24844176e-02,\n",
              "         -3.69537473e-02, -1.20932773e-01,  1.04191124e-01,\n",
              "         -3.80122662e-03,  1.66203499e-01,  1.50947243e-01,\n",
              "          8.89064372e-02],\n",
              "        [-1.95408344e-01, -1.90159529e-01,  3.22826505e-02,\n",
              "         -5.47010154e-02, -7.14180917e-02, -1.00907475e-01,\n",
              "         -2.17799038e-01,  1.59663290e-01,  6.90051913e-02,\n",
              "         -9.20151919e-02],\n",
              "        [ 4.43376005e-02,  1.28725559e-01, -1.57483816e-01,\n",
              "          1.38626128e-01, -2.05621272e-02, -2.32051373e-01,\n",
              "          1.97181106e-01, -4.22399789e-02, -1.69521719e-02,\n",
              "          1.50286794e-01],\n",
              "        [-1.42483592e-01, -8.59627724e-02, -2.08748832e-01,\n",
              "          2.32371002e-01,  1.27762735e-01,  2.15086132e-01,\n",
              "          7.29843974e-02,  1.91143781e-01,  8.44970345e-02,\n",
              "         -1.70046926e-01],\n",
              "        [-4.88211513e-02, -2.13519543e-01,  1.84965968e-01,\n",
              "         -9.10460949e-03, -1.30595028e-01, -1.99148864e-01,\n",
              "         -1.52999163e-03,  2.02625364e-01,  1.73210800e-02,\n",
              "          9.19809043e-02],\n",
              "        [-1.75516903e-01, -1.23294048e-01,  1.03020787e-01,\n",
              "          4.28872705e-02,  2.25746155e-01, -2.00407237e-01,\n",
              "         -4.08340991e-02,  5.31444550e-02, -1.75395742e-01,\n",
              "          9.88318026e-02],\n",
              "        [ 2.17910171e-01,  2.28042006e-02, -1.51946515e-01,\n",
              "          7.14481175e-02, -1.37575239e-01,  1.21541560e-01,\n",
              "          5.03973067e-02,  9.38511491e-02,  2.09355950e-02,\n",
              "          2.13701308e-01],\n",
              "        [-1.27186716e-01, -1.52191371e-01,  1.16113275e-02,\n",
              "         -1.61648378e-01,  7.09913671e-03,  5.30445576e-02,\n",
              "         -2.02484488e-01, -1.39527351e-01,  2.01296210e-01,\n",
              "         -5.43404669e-02],\n",
              "        [-4.04642522e-02,  2.20233500e-02,  2.01441705e-01,\n",
              "          1.23298228e-01,  1.78238600e-01,  5.58383763e-02,\n",
              "          1.15538508e-01,  2.24161536e-01, -1.05635986e-01,\n",
              "          2.50526965e-02],\n",
              "        [-1.86228678e-01, -4.57112193e-02, -1.72603756e-01,\n",
              "         -1.73033625e-01,  1.36900365e-01, -1.09585665e-01,\n",
              "         -1.12610951e-01,  1.19396925e-01, -6.95560724e-02,\n",
              "         -1.47342801e-01],\n",
              "        [ 1.77270234e-01,  8.84350836e-02,  1.14329040e-01,\n",
              "         -1.09198540e-02,  9.12171006e-02, -1.89833507e-01,\n",
              "         -3.26540470e-02, -2.13039562e-01, -1.48295462e-01,\n",
              "          1.82522535e-02],\n",
              "        [-1.26928627e-01,  2.37137079e-02, -2.20447510e-01,\n",
              "          1.73857689e-01,  8.82821083e-02,  9.87975001e-02,\n",
              "         -3.33711803e-02,  1.73680156e-01,  4.04218733e-02,\n",
              "          1.87452137e-02],\n",
              "        [-5.14302701e-02,  2.20971376e-01,  1.08842701e-02,\n",
              "         -2.17790231e-01,  1.01721436e-02,  1.83821738e-01,\n",
              "         -7.06530064e-02,  9.83648300e-02,  1.79750562e-01,\n",
              "         -8.04192871e-02],\n",
              "        [ 1.20462149e-01,  1.55489653e-01, -1.11179575e-01,\n",
              "         -2.25964040e-01, -1.43099219e-01,  1.65748000e-02,\n",
              "         -8.94860923e-02,  1.78861469e-01,  2.29419529e-01,\n",
              "         -1.45583734e-01],\n",
              "        [-4.54728454e-02, -4.60003316e-02, -1.30998731e-01,\n",
              "          1.85909510e-01, -9.57973152e-02,  1.24915302e-01,\n",
              "         -1.04419887e-02, -1.06992245e-01,  2.78182924e-02,\n",
              "         -1.05631694e-01],\n",
              "        [ 1.72805488e-01,  6.61161542e-02, -1.06040016e-01,\n",
              "         -1.95440799e-02,  1.31807417e-01, -6.30003363e-02,\n",
              "          8.07541609e-03,  1.78491741e-01, -2.00880468e-02,\n",
              "         -2.26894721e-01],\n",
              "        [-1.87038139e-01,  2.08587468e-01, -2.45634317e-02,\n",
              "          6.90430105e-02,  1.93793833e-01,  1.97573066e-01,\n",
              "          2.07192957e-01, -1.02096796e-02, -1.84790283e-01,\n",
              "         -1.67056218e-01],\n",
              "        [-1.55543953e-01,  1.05700016e-01, -1.90423131e-01,\n",
              "          1.57457441e-01, -6.90733045e-02, -2.26827353e-01,\n",
              "          8.94494951e-02,  9.69774127e-02, -1.48024917e-01,\n",
              "         -1.17799126e-01],\n",
              "        [-2.13717610e-01, -1.44560724e-01, -7.33601302e-02,\n",
              "          3.01903188e-02,  1.42100394e-01, -9.07403380e-02,\n",
              "         -1.26408488e-01,  1.76687300e-01,  1.83773965e-01,\n",
              "          1.57788396e-03],\n",
              "        [-1.58368230e-01,  5.30647933e-02,  9.26390290e-04,\n",
              "         -1.92032084e-01,  1.25541687e-01,  1.68997914e-01,\n",
              "          1.82406396e-01,  8.63281488e-02,  6.69703484e-02,\n",
              "         -1.36042625e-01],\n",
              "        [-2.24456444e-01,  1.77641630e-01,  1.19104594e-01,\n",
              "         -1.28209144e-02, -3.82472575e-03, -1.51404679e-01,\n",
              "          1.37243032e-01,  7.54295886e-02, -8.56912583e-02,\n",
              "         -1.71690509e-01],\n",
              "        [-5.86499125e-02,  1.54775381e-03, -2.07906023e-01,\n",
              "         -4.68720943e-02,  7.41307437e-03,  5.42975962e-02,\n",
              "         -1.08338296e-02,  1.44588619e-01,  1.17517561e-02,\n",
              "          6.46312237e-02],\n",
              "        [-4.21213657e-02, -1.76951513e-01, -2.10817382e-01,\n",
              "          3.24323177e-02, -9.26892459e-03, -1.04964972e-02,\n",
              "         -5.31090498e-02,  1.37992799e-01,  1.45704895e-01,\n",
              "         -1.89621583e-01],\n",
              "        [ 4.62577939e-02,  8.82690251e-02,  2.00847030e-01,\n",
              "          5.24337888e-02,  9.98266041e-03,  7.60623515e-02,\n",
              "          3.90507281e-03,  2.02527016e-01, -1.05324268e-01,\n",
              "         -1.51117414e-01],\n",
              "        [ 3.55007648e-02, -2.15991855e-01,  2.20005959e-01,\n",
              "          5.03583252e-02, -7.43659288e-02,  7.91579485e-04,\n",
              "          1.73410445e-01, -1.32514536e-01, -1.56528205e-02,\n",
              "         -1.81998014e-02],\n",
              "        [-9.72161740e-02, -2.27868170e-01,  5.05081117e-02,\n",
              "         -3.22956741e-02,  1.15396023e-01,  2.39597261e-03,\n",
              "         -1.24610364e-02, -2.02345327e-01,  3.07434201e-02,\n",
              "          2.24349469e-01],\n",
              "        [ 4.99261320e-02, -3.99426222e-02, -1.13512345e-01,\n",
              "         -1.65703356e-01,  1.15789026e-01, -2.32998088e-01,\n",
              "         -5.68544269e-02, -9.05790329e-02,  9.81843770e-02,\n",
              "         -6.48135841e-02],\n",
              "        [-1.31443024e-01,  6.08275831e-03,  1.28000349e-01,\n",
              "          2.04755843e-01, -3.19425315e-02,  2.18629360e-01,\n",
              "         -1.26741022e-01,  2.41540372e-02,  2.25830734e-01,\n",
              "         -1.45850897e-01],\n",
              "        [-2.06410602e-01, -1.93374142e-01,  9.20038819e-02,\n",
              "          1.61823779e-01,  7.45880604e-02, -1.18827917e-01,\n",
              "         -1.36563480e-01, -7.83738494e-03,  3.09293270e-02,\n",
              "          1.72263980e-01],\n",
              "        [ 2.06786305e-01,  6.72226250e-02,  3.11250687e-02,\n",
              "          8.06690753e-03, -1.89140439e-02, -4.71007824e-02,\n",
              "         -1.95130318e-01, -1.03030995e-01, -1.06373444e-01,\n",
              "         -6.45862222e-02],\n",
              "        [ 1.35543883e-01,  4.30230796e-02,  2.81434953e-02,\n",
              "         -6.75818920e-02, -1.15567535e-01, -1.40262544e-01,\n",
              "         -1.59170121e-01, -6.95321858e-02, -1.02601901e-01,\n",
              "          9.24209058e-02],\n",
              "        [-1.70627803e-01, -1.51640594e-01, -1.14484616e-01,\n",
              "          3.50956619e-03, -3.84345651e-02,  8.34875107e-02,\n",
              "          4.85060513e-02, -4.79793996e-02, -1.25880986e-02,\n",
              "         -7.73418844e-02],\n",
              "        [-1.49580345e-01, -2.16782764e-01,  2.56419480e-02,\n",
              "          1.23241156e-01,  1.15873188e-01,  1.45196736e-01,\n",
              "         -5.37993461e-02,  3.38106751e-02,  1.99343026e-01,\n",
              "          1.70095265e-02],\n",
              "        [-6.18102849e-02,  3.36737037e-02, -1.76492125e-01,\n",
              "         -7.00315982e-02, -2.22948551e-01, -3.62200141e-02,\n",
              "          1.92297697e-02, -1.45821437e-01,  9.48134065e-02,\n",
              "         -8.01761895e-02],\n",
              "        [-1.03695393e-02, -1.16631128e-01,  2.18450695e-01,\n",
              "         -1.85556978e-01, -6.64168447e-02, -5.35655916e-02,\n",
              "          2.45570242e-02,  7.33591318e-02, -1.37933388e-01,\n",
              "          1.23489439e-01]], dtype=float32),\n",
              " array([0., 0., 0., 0., 0., 0., 0., 0., 0., 0.], dtype=float32)]"
            ]
          },
          "metadata": {},
          "execution_count": 16
        }
      ]
    },
    {
      "cell_type": "code",
      "source": [
        "model.summary()"
      ],
      "metadata": {
        "colab": {
          "base_uri": "https://localhost:8080/"
        },
        "id": "k1qPUiLBEIJh",
        "outputId": "1aca9b66-e7c0-45c8-a78c-8dc58609a4e2"
      },
      "execution_count": 17,
      "outputs": [
        {
          "output_type": "stream",
          "name": "stdout",
          "text": [
            "Model: \"sequential\"\n",
            "_________________________________________________________________\n",
            " Layer (type)                Output Shape              Param #   \n",
            "=================================================================\n",
            " input_layers (Flatten)      (None, 784)               0         \n",
            "                                                                 \n",
            " hidden_layer1 (Dense)       (None, 300)               235500    \n",
            "                                                                 \n",
            " hidden_layer2 (Dense)       (None, 100)               30100     \n",
            "                                                                 \n",
            " output_layer (Dense)        (None, 10)                1010      \n",
            "                                                                 \n",
            "=================================================================\n",
            "Total params: 266,610\n",
            "Trainable params: 266,610\n",
            "Non-trainable params: 0\n",
            "_________________________________________________________________\n"
          ]
        }
      ]
    },
    {
      "cell_type": "code",
      "source": [
        "model.layers[1]"
      ],
      "metadata": {
        "colab": {
          "base_uri": "https://localhost:8080/"
        },
        "id": "yKqgQNNNEThi",
        "outputId": "d067765f-3c38-4f54-fb53-9e10cdbc49af"
      },
      "execution_count": 18,
      "outputs": [
        {
          "output_type": "execute_result",
          "data": {
            "text/plain": [
              "<keras.layers.core.dense.Dense at 0x7f289e554810>"
            ]
          },
          "metadata": {},
          "execution_count": 18
        }
      ]
    },
    {
      "cell_type": "code",
      "source": [
        "model.get_layer(\"hidden_layer1\")"
      ],
      "metadata": {
        "colab": {
          "base_uri": "https://localhost:8080/"
        },
        "id": "h_TYYcEXEaCM",
        "outputId": "ddffdb6f-eb27-4e4a-9f07-28f956a8956e"
      },
      "execution_count": 19,
      "outputs": [
        {
          "output_type": "execute_result",
          "data": {
            "text/plain": [
              "<keras.layers.core.dense.Dense at 0x7f289e554810>"
            ]
          },
          "metadata": {},
          "execution_count": 19
        }
      ]
    },
    {
      "cell_type": "markdown",
      "source": [
        "#### GEtting weights of desired layers"
      ],
      "metadata": {
        "id": "y04kek91EzDQ"
      }
    },
    {
      "cell_type": "code",
      "source": [
        "model.get_layer(\"hidden_layer1\").get_weights()"
      ],
      "metadata": {
        "colab": {
          "base_uri": "https://localhost:8080/"
        },
        "id": "ingvD0N-EiZE",
        "outputId": "d7358ffd-ffe7-4762-dff9-a39756de60b3"
      },
      "execution_count": 20,
      "outputs": [
        {
          "output_type": "execute_result",
          "data": {
            "text/plain": [
              "[array([[ 0.05515058,  0.05562089, -0.01291873, ...,  0.06153068,\n",
              "         -0.04997486,  0.04388182],\n",
              "        [ 0.04469937,  0.03404934,  0.03551044, ..., -0.00359101,\n",
              "         -0.03047317,  0.05001905],\n",
              "        [-0.02435129,  0.04446525, -0.06457652, ...,  0.04224613,\n",
              "          0.01059981,  0.03965805],\n",
              "        ...,\n",
              "        [ 0.0142874 ,  0.06303941,  0.0188969 , ..., -0.0091329 ,\n",
              "         -0.03486265, -0.05482267],\n",
              "        [ 0.00728001, -0.03223052, -0.04495478, ...,  0.05179404,\n",
              "          0.00241591, -0.0742773 ],\n",
              "        [ 0.07095195, -0.04670148, -0.04258513, ...,  0.03705955,\n",
              "          0.02563304,  0.06114657]], dtype=float32),\n",
              " array([0., 0., 0., 0., 0., 0., 0., 0., 0., 0., 0., 0., 0., 0., 0., 0., 0.,\n",
              "        0., 0., 0., 0., 0., 0., 0., 0., 0., 0., 0., 0., 0., 0., 0., 0., 0.,\n",
              "        0., 0., 0., 0., 0., 0., 0., 0., 0., 0., 0., 0., 0., 0., 0., 0., 0.,\n",
              "        0., 0., 0., 0., 0., 0., 0., 0., 0., 0., 0., 0., 0., 0., 0., 0., 0.,\n",
              "        0., 0., 0., 0., 0., 0., 0., 0., 0., 0., 0., 0., 0., 0., 0., 0., 0.,\n",
              "        0., 0., 0., 0., 0., 0., 0., 0., 0., 0., 0., 0., 0., 0., 0., 0., 0.,\n",
              "        0., 0., 0., 0., 0., 0., 0., 0., 0., 0., 0., 0., 0., 0., 0., 0., 0.,\n",
              "        0., 0., 0., 0., 0., 0., 0., 0., 0., 0., 0., 0., 0., 0., 0., 0., 0.,\n",
              "        0., 0., 0., 0., 0., 0., 0., 0., 0., 0., 0., 0., 0., 0., 0., 0., 0.,\n",
              "        0., 0., 0., 0., 0., 0., 0., 0., 0., 0., 0., 0., 0., 0., 0., 0., 0.,\n",
              "        0., 0., 0., 0., 0., 0., 0., 0., 0., 0., 0., 0., 0., 0., 0., 0., 0.,\n",
              "        0., 0., 0., 0., 0., 0., 0., 0., 0., 0., 0., 0., 0., 0., 0., 0., 0.,\n",
              "        0., 0., 0., 0., 0., 0., 0., 0., 0., 0., 0., 0., 0., 0., 0., 0., 0.,\n",
              "        0., 0., 0., 0., 0., 0., 0., 0., 0., 0., 0., 0., 0., 0., 0., 0., 0.,\n",
              "        0., 0., 0., 0., 0., 0., 0., 0., 0., 0., 0., 0., 0., 0., 0., 0., 0.,\n",
              "        0., 0., 0., 0., 0., 0., 0., 0., 0., 0., 0., 0., 0., 0., 0., 0., 0.,\n",
              "        0., 0., 0., 0., 0., 0., 0., 0., 0., 0., 0., 0., 0., 0., 0., 0., 0.,\n",
              "        0., 0., 0., 0., 0., 0., 0., 0., 0., 0., 0.], dtype=float32)]"
            ]
          },
          "metadata": {},
          "execution_count": 20
        }
      ]
    },
    {
      "cell_type": "code",
      "source": [
        "weights, biases = model.get_layer(\"hidden_layer1\").get_weights()"
      ],
      "metadata": {
        "id": "xnlt49MSEwR7"
      },
      "execution_count": 21,
      "outputs": []
    },
    {
      "cell_type": "code",
      "source": [
        "weights.shape"
      ],
      "metadata": {
        "colab": {
          "base_uri": "https://localhost:8080/"
        },
        "id": "Jgp4SFajE806",
        "outputId": "c453c0ca-48d5-41e7-ac2a-1eefb2a5cf90"
      },
      "execution_count": 22,
      "outputs": [
        {
          "output_type": "execute_result",
          "data": {
            "text/plain": [
              "(784, 300)"
            ]
          },
          "metadata": {},
          "execution_count": 22
        }
      ]
    },
    {
      "cell_type": "code",
      "source": [
        "biases.shape"
      ],
      "metadata": {
        "colab": {
          "base_uri": "https://localhost:8080/"
        },
        "id": "pItEjwn9E-oT",
        "outputId": "4ef20c27-2a96-427f-e9f6-95a1e28931ba"
      },
      "execution_count": 23,
      "outputs": [
        {
          "output_type": "execute_result",
          "data": {
            "text/plain": [
              "(300,)"
            ]
          },
          "metadata": {},
          "execution_count": 23
        }
      ]
    },
    {
      "cell_type": "markdown",
      "source": [
        "### Setting up loss function, optimizers amd metrics"
      ],
      "metadata": {
        "id": "3zc2yKmdFHCL"
      }
    },
    {
      "cell_type": "code",
      "source": [
        "LOSS_FUNC = \"sparse_categorical_crossentropy\"\n",
        "OPTIMISER = \"SGD\"\n",
        "METRICS = ['accuracy']"
      ],
      "metadata": {
        "id": "Si1MPWnyFAo0"
      },
      "execution_count": 24,
      "outputs": []
    },
    {
      "cell_type": "code",
      "source": [
        "model.compile(loss = LOSS_FUNC, optimizer = OPTIMISER, metrics = METRICS)"
      ],
      "metadata": {
        "id": "DENbCoV3FfXf"
      },
      "execution_count": 25,
      "outputs": []
    },
    {
      "cell_type": "markdown",
      "source": [
        "Important -\n",
        "Epochs: Integer.\n",
        "\n",
        "Number of epochs to train the model. An epoch is an iteration over the entire x and y data provided.\n",
        "\n",
        "batch_size: Integer or None.\n",
        "\n",
        "Number of samples per gradient update. If unspecified, batch_size will default to 32.\n",
        "\n",
        "NOTE: Do not specify the batch_size if your data is in the form of datasets, generators, or keras.utils.Sequence instances (since they generate batches).\n",
        "\n",
        "validation_batch_size: Integer or None.\n",
        "\n",
        "Number of samples per validation batch.\n",
        "\n",
        "If unspecified, will default to batch_size.\n",
        "\n",
        "NOTE: Do not specify the validation_batch_size if your data is in the form of datasets, generators, or keras.utils.Sequence instances (since they generate batches)."
      ],
      "metadata": {
        "id": "zhXeZS_rF8Jn"
      }
    },
    {
      "cell_type": "code",
      "source": [
        "EPOCHS = 30\n",
        "VAL_SET = (X_valid,y_valid)\n",
        "\n",
        "history = model.fit(X_train,y_train,\n",
        "                    epochs = EPOCHS,\n",
        "                    validation_data = VAL_SET)"
      ],
      "metadata": {
        "colab": {
          "base_uri": "https://localhost:8080/"
        },
        "id": "cBA9dUqOF2QH",
        "outputId": "5dafb998-c3ca-4eb7-a205-dbbd501293ae"
      },
      "execution_count": 28,
      "outputs": [
        {
          "output_type": "stream",
          "name": "stdout",
          "text": [
            "Epoch 1/30\n",
            "1719/1719 [==============================] - 7s 4ms/step - loss: 0.5919 - accuracy: 0.8452 - val_loss: 0.2979 - val_accuracy: 0.9164\n",
            "Epoch 2/30\n",
            "1719/1719 [==============================] - 6s 4ms/step - loss: 0.2863 - accuracy: 0.9177 - val_loss: 0.2350 - val_accuracy: 0.9332\n",
            "Epoch 3/30\n",
            "1719/1719 [==============================] - 6s 4ms/step - loss: 0.2339 - accuracy: 0.9332 - val_loss: 0.1981 - val_accuracy: 0.9444\n",
            "Epoch 4/30\n",
            "1719/1719 [==============================] - 6s 3ms/step - loss: 0.1990 - accuracy: 0.9428 - val_loss: 0.1759 - val_accuracy: 0.9508\n",
            "Epoch 5/30\n",
            "1719/1719 [==============================] - 6s 3ms/step - loss: 0.1730 - accuracy: 0.9500 - val_loss: 0.1598 - val_accuracy: 0.9560\n",
            "Epoch 6/30\n",
            "1719/1719 [==============================] - 6s 4ms/step - loss: 0.1525 - accuracy: 0.9563 - val_loss: 0.1524 - val_accuracy: 0.9550\n",
            "Epoch 7/30\n",
            "1719/1719 [==============================] - 6s 4ms/step - loss: 0.1364 - accuracy: 0.9609 - val_loss: 0.1320 - val_accuracy: 0.9622\n",
            "Epoch 8/30\n",
            "1719/1719 [==============================] - 8s 5ms/step - loss: 0.1233 - accuracy: 0.9654 - val_loss: 0.1240 - val_accuracy: 0.9656\n",
            "Epoch 9/30\n",
            "1719/1719 [==============================] - 6s 4ms/step - loss: 0.1117 - accuracy: 0.9685 - val_loss: 0.1146 - val_accuracy: 0.9688\n",
            "Epoch 10/30\n",
            "1719/1719 [==============================] - 6s 3ms/step - loss: 0.1026 - accuracy: 0.9704 - val_loss: 0.1100 - val_accuracy: 0.9704\n",
            "Epoch 11/30\n",
            "1719/1719 [==============================] - 6s 4ms/step - loss: 0.0944 - accuracy: 0.9731 - val_loss: 0.1023 - val_accuracy: 0.9726\n",
            "Epoch 12/30\n",
            "1719/1719 [==============================] - 6s 4ms/step - loss: 0.0873 - accuracy: 0.9755 - val_loss: 0.0989 - val_accuracy: 0.9716\n",
            "Epoch 13/30\n",
            "1719/1719 [==============================] - 6s 4ms/step - loss: 0.0808 - accuracy: 0.9774 - val_loss: 0.0928 - val_accuracy: 0.9738\n",
            "Epoch 14/30\n",
            "1719/1719 [==============================] - 6s 3ms/step - loss: 0.0748 - accuracy: 0.9793 - val_loss: 0.0901 - val_accuracy: 0.9740\n",
            "Epoch 15/30\n",
            "1719/1719 [==============================] - 6s 4ms/step - loss: 0.0696 - accuracy: 0.9808 - val_loss: 0.0856 - val_accuracy: 0.9756\n",
            "Epoch 16/30\n",
            "1719/1719 [==============================] - 6s 4ms/step - loss: 0.0650 - accuracy: 0.9819 - val_loss: 0.0829 - val_accuracy: 0.9752\n",
            "Epoch 17/30\n",
            "1719/1719 [==============================] - 6s 4ms/step - loss: 0.0611 - accuracy: 0.9833 - val_loss: 0.0835 - val_accuracy: 0.9766\n",
            "Epoch 18/30\n",
            "1719/1719 [==============================] - 6s 4ms/step - loss: 0.0571 - accuracy: 0.9844 - val_loss: 0.0813 - val_accuracy: 0.9758\n",
            "Epoch 19/30\n",
            "1719/1719 [==============================] - 6s 3ms/step - loss: 0.0534 - accuracy: 0.9854 - val_loss: 0.0772 - val_accuracy: 0.9768\n",
            "Epoch 20/30\n",
            "1719/1719 [==============================] - 6s 4ms/step - loss: 0.0505 - accuracy: 0.9863 - val_loss: 0.0780 - val_accuracy: 0.9786\n",
            "Epoch 21/30\n",
            "1719/1719 [==============================] - 6s 4ms/step - loss: 0.0472 - accuracy: 0.9877 - val_loss: 0.0779 - val_accuracy: 0.9766\n",
            "Epoch 22/30\n",
            "1719/1719 [==============================] - 6s 4ms/step - loss: 0.0445 - accuracy: 0.9887 - val_loss: 0.0705 - val_accuracy: 0.9790\n",
            "Epoch 23/30\n",
            "1719/1719 [==============================] - 6s 4ms/step - loss: 0.0417 - accuracy: 0.9894 - val_loss: 0.0753 - val_accuracy: 0.9762\n",
            "Epoch 24/30\n",
            "1719/1719 [==============================] - 6s 3ms/step - loss: 0.0395 - accuracy: 0.9905 - val_loss: 0.0700 - val_accuracy: 0.9796\n",
            "Epoch 25/30\n",
            "1719/1719 [==============================] - 6s 3ms/step - loss: 0.0371 - accuracy: 0.9906 - val_loss: 0.0705 - val_accuracy: 0.9788\n",
            "Epoch 26/30\n",
            "1719/1719 [==============================] - 6s 4ms/step - loss: 0.0350 - accuracy: 0.9915 - val_loss: 0.0715 - val_accuracy: 0.9770\n",
            "Epoch 27/30\n",
            "1719/1719 [==============================] - 6s 3ms/step - loss: 0.0331 - accuracy: 0.9924 - val_loss: 0.0674 - val_accuracy: 0.9806\n",
            "Epoch 28/30\n",
            "1719/1719 [==============================] - 6s 3ms/step - loss: 0.0313 - accuracy: 0.9927 - val_loss: 0.0883 - val_accuracy: 0.9742\n",
            "Epoch 29/30\n",
            "1719/1719 [==============================] - 6s 4ms/step - loss: 0.0297 - accuracy: 0.9933 - val_loss: 0.0673 - val_accuracy: 0.9814\n",
            "Epoch 30/30\n",
            "1719/1719 [==============================] - 6s 3ms/step - loss: 0.0281 - accuracy: 0.9939 - val_loss: 0.0674 - val_accuracy: 0.9796\n"
          ]
        }
      ]
    },
    {
      "cell_type": "code",
      "source": [
        "model.evaluate(X_test,y_test)"
      ],
      "metadata": {
        "colab": {
          "base_uri": "https://localhost:8080/"
        },
        "id": "57P8SIIAGWMH",
        "outputId": "7e54394d-b19a-4a92-d731-3cb2f7ebe26c"
      },
      "execution_count": 29,
      "outputs": [
        {
          "output_type": "stream",
          "name": "stdout",
          "text": [
            "313/313 [==============================] - 1s 3ms/step - loss: 0.0717 - accuracy: 0.9781\n"
          ]
        },
        {
          "output_type": "execute_result",
          "data": {
            "text/plain": [
              "[0.07172037661075592, 0.9781000018119812]"
            ]
          },
          "metadata": {},
          "execution_count": 29
        }
      ]
    },
    {
      "cell_type": "code",
      "source": [
        "model.save('model.h5')"
      ],
      "metadata": {
        "id": "SuqaWTUuGfao"
      },
      "execution_count": 30,
      "outputs": []
    },
    {
      "cell_type": "markdown",
      "source": [
        "### load model"
      ],
      "metadata": {
        "id": "WoSzqoupakv7"
      }
    },
    {
      "cell_type": "code",
      "source": [
        "loded_model = tf.keras.models.load_model(\"model.h5\")"
      ],
      "metadata": {
        "id": "xsZ1QATEGknj"
      },
      "execution_count": 31,
      "outputs": []
    },
    {
      "cell_type": "code",
      "source": [
        "loded_model.evaluate(X_test,y_test)"
      ],
      "metadata": {
        "colab": {
          "base_uri": "https://localhost:8080/"
        },
        "id": "19J7jpRXa5c6",
        "outputId": "f8a8d09f-bd35-455d-b009-a86ed5361e8f"
      },
      "execution_count": 32,
      "outputs": [
        {
          "output_type": "stream",
          "name": "stdout",
          "text": [
            "313/313 [==============================] - 1s 3ms/step - loss: 0.0717 - accuracy: 0.9781\n"
          ]
        },
        {
          "output_type": "execute_result",
          "data": {
            "text/plain": [
              "[0.07172037661075592, 0.9781000018119812]"
            ]
          },
          "metadata": {},
          "execution_count": 32
        }
      ]
    },
    {
      "cell_type": "code",
      "source": [
        "pd.DataFrame(history.history)"
      ],
      "metadata": {
        "colab": {
          "base_uri": "https://localhost:8080/",
          "height": 990
        },
        "id": "-ikYscrHbNRZ",
        "outputId": "be23ecbb-cfff-456b-e947-f4fef170549d"
      },
      "execution_count": 33,
      "outputs": [
        {
          "output_type": "execute_result",
          "data": {
            "text/html": [
              "\n",
              "  <div id=\"df-daa86045-64b4-40e5-8bfd-2c6835d97192\">\n",
              "    <div class=\"colab-df-container\">\n",
              "      <div>\n",
              "<style scoped>\n",
              "    .dataframe tbody tr th:only-of-type {\n",
              "        vertical-align: middle;\n",
              "    }\n",
              "\n",
              "    .dataframe tbody tr th {\n",
              "        vertical-align: top;\n",
              "    }\n",
              "\n",
              "    .dataframe thead th {\n",
              "        text-align: right;\n",
              "    }\n",
              "</style>\n",
              "<table border=\"1\" class=\"dataframe\">\n",
              "  <thead>\n",
              "    <tr style=\"text-align: right;\">\n",
              "      <th></th>\n",
              "      <th>loss</th>\n",
              "      <th>accuracy</th>\n",
              "      <th>val_loss</th>\n",
              "      <th>val_accuracy</th>\n",
              "    </tr>\n",
              "  </thead>\n",
              "  <tbody>\n",
              "    <tr>\n",
              "      <th>0</th>\n",
              "      <td>0.591919</td>\n",
              "      <td>0.845164</td>\n",
              "      <td>0.297937</td>\n",
              "      <td>0.9164</td>\n",
              "    </tr>\n",
              "    <tr>\n",
              "      <th>1</th>\n",
              "      <td>0.286284</td>\n",
              "      <td>0.917745</td>\n",
              "      <td>0.235038</td>\n",
              "      <td>0.9332</td>\n",
              "    </tr>\n",
              "    <tr>\n",
              "      <th>2</th>\n",
              "      <td>0.233949</td>\n",
              "      <td>0.933236</td>\n",
              "      <td>0.198108</td>\n",
              "      <td>0.9444</td>\n",
              "    </tr>\n",
              "    <tr>\n",
              "      <th>3</th>\n",
              "      <td>0.198971</td>\n",
              "      <td>0.942782</td>\n",
              "      <td>0.175852</td>\n",
              "      <td>0.9508</td>\n",
              "    </tr>\n",
              "    <tr>\n",
              "      <th>4</th>\n",
              "      <td>0.173012</td>\n",
              "      <td>0.950018</td>\n",
              "      <td>0.159818</td>\n",
              "      <td>0.9560</td>\n",
              "    </tr>\n",
              "    <tr>\n",
              "      <th>5</th>\n",
              "      <td>0.152527</td>\n",
              "      <td>0.956291</td>\n",
              "      <td>0.152386</td>\n",
              "      <td>0.9550</td>\n",
              "    </tr>\n",
              "    <tr>\n",
              "      <th>6</th>\n",
              "      <td>0.136391</td>\n",
              "      <td>0.960927</td>\n",
              "      <td>0.132048</td>\n",
              "      <td>0.9622</td>\n",
              "    </tr>\n",
              "    <tr>\n",
              "      <th>7</th>\n",
              "      <td>0.123308</td>\n",
              "      <td>0.965364</td>\n",
              "      <td>0.123955</td>\n",
              "      <td>0.9656</td>\n",
              "    </tr>\n",
              "    <tr>\n",
              "      <th>8</th>\n",
              "      <td>0.111736</td>\n",
              "      <td>0.968527</td>\n",
              "      <td>0.114630</td>\n",
              "      <td>0.9688</td>\n",
              "    </tr>\n",
              "    <tr>\n",
              "      <th>9</th>\n",
              "      <td>0.102599</td>\n",
              "      <td>0.970436</td>\n",
              "      <td>0.110035</td>\n",
              "      <td>0.9704</td>\n",
              "    </tr>\n",
              "    <tr>\n",
              "      <th>10</th>\n",
              "      <td>0.094421</td>\n",
              "      <td>0.973127</td>\n",
              "      <td>0.102325</td>\n",
              "      <td>0.9726</td>\n",
              "    </tr>\n",
              "    <tr>\n",
              "      <th>11</th>\n",
              "      <td>0.087302</td>\n",
              "      <td>0.975455</td>\n",
              "      <td>0.098925</td>\n",
              "      <td>0.9716</td>\n",
              "    </tr>\n",
              "    <tr>\n",
              "      <th>12</th>\n",
              "      <td>0.080787</td>\n",
              "      <td>0.977364</td>\n",
              "      <td>0.092836</td>\n",
              "      <td>0.9738</td>\n",
              "    </tr>\n",
              "    <tr>\n",
              "      <th>13</th>\n",
              "      <td>0.074750</td>\n",
              "      <td>0.979255</td>\n",
              "      <td>0.090102</td>\n",
              "      <td>0.9740</td>\n",
              "    </tr>\n",
              "    <tr>\n",
              "      <th>14</th>\n",
              "      <td>0.069646</td>\n",
              "      <td>0.980800</td>\n",
              "      <td>0.085637</td>\n",
              "      <td>0.9756</td>\n",
              "    </tr>\n",
              "    <tr>\n",
              "      <th>15</th>\n",
              "      <td>0.064951</td>\n",
              "      <td>0.981945</td>\n",
              "      <td>0.082852</td>\n",
              "      <td>0.9752</td>\n",
              "    </tr>\n",
              "    <tr>\n",
              "      <th>16</th>\n",
              "      <td>0.061089</td>\n",
              "      <td>0.983345</td>\n",
              "      <td>0.083461</td>\n",
              "      <td>0.9766</td>\n",
              "    </tr>\n",
              "    <tr>\n",
              "      <th>17</th>\n",
              "      <td>0.057079</td>\n",
              "      <td>0.984436</td>\n",
              "      <td>0.081269</td>\n",
              "      <td>0.9758</td>\n",
              "    </tr>\n",
              "    <tr>\n",
              "      <th>18</th>\n",
              "      <td>0.053443</td>\n",
              "      <td>0.985418</td>\n",
              "      <td>0.077226</td>\n",
              "      <td>0.9768</td>\n",
              "    </tr>\n",
              "    <tr>\n",
              "      <th>19</th>\n",
              "      <td>0.050537</td>\n",
              "      <td>0.986291</td>\n",
              "      <td>0.077980</td>\n",
              "      <td>0.9786</td>\n",
              "    </tr>\n",
              "    <tr>\n",
              "      <th>20</th>\n",
              "      <td>0.047166</td>\n",
              "      <td>0.987655</td>\n",
              "      <td>0.077871</td>\n",
              "      <td>0.9766</td>\n",
              "    </tr>\n",
              "    <tr>\n",
              "      <th>21</th>\n",
              "      <td>0.044547</td>\n",
              "      <td>0.988673</td>\n",
              "      <td>0.070539</td>\n",
              "      <td>0.9790</td>\n",
              "    </tr>\n",
              "    <tr>\n",
              "      <th>22</th>\n",
              "      <td>0.041712</td>\n",
              "      <td>0.989364</td>\n",
              "      <td>0.075259</td>\n",
              "      <td>0.9762</td>\n",
              "    </tr>\n",
              "    <tr>\n",
              "      <th>23</th>\n",
              "      <td>0.039541</td>\n",
              "      <td>0.990473</td>\n",
              "      <td>0.069996</td>\n",
              "      <td>0.9796</td>\n",
              "    </tr>\n",
              "    <tr>\n",
              "      <th>24</th>\n",
              "      <td>0.037117</td>\n",
              "      <td>0.990564</td>\n",
              "      <td>0.070528</td>\n",
              "      <td>0.9788</td>\n",
              "    </tr>\n",
              "    <tr>\n",
              "      <th>25</th>\n",
              "      <td>0.035000</td>\n",
              "      <td>0.991491</td>\n",
              "      <td>0.071519</td>\n",
              "      <td>0.9770</td>\n",
              "    </tr>\n",
              "    <tr>\n",
              "      <th>26</th>\n",
              "      <td>0.033069</td>\n",
              "      <td>0.992382</td>\n",
              "      <td>0.067396</td>\n",
              "      <td>0.9806</td>\n",
              "    </tr>\n",
              "    <tr>\n",
              "      <th>27</th>\n",
              "      <td>0.031281</td>\n",
              "      <td>0.992673</td>\n",
              "      <td>0.088339</td>\n",
              "      <td>0.9742</td>\n",
              "    </tr>\n",
              "    <tr>\n",
              "      <th>28</th>\n",
              "      <td>0.029738</td>\n",
              "      <td>0.993327</td>\n",
              "      <td>0.067347</td>\n",
              "      <td>0.9814</td>\n",
              "    </tr>\n",
              "    <tr>\n",
              "      <th>29</th>\n",
              "      <td>0.028059</td>\n",
              "      <td>0.993873</td>\n",
              "      <td>0.067369</td>\n",
              "      <td>0.9796</td>\n",
              "    </tr>\n",
              "  </tbody>\n",
              "</table>\n",
              "</div>\n",
              "      <button class=\"colab-df-convert\" onclick=\"convertToInteractive('df-daa86045-64b4-40e5-8bfd-2c6835d97192')\"\n",
              "              title=\"Convert this dataframe to an interactive table.\"\n",
              "              style=\"display:none;\">\n",
              "        \n",
              "  <svg xmlns=\"http://www.w3.org/2000/svg\" height=\"24px\"viewBox=\"0 0 24 24\"\n",
              "       width=\"24px\">\n",
              "    <path d=\"M0 0h24v24H0V0z\" fill=\"none\"/>\n",
              "    <path d=\"M18.56 5.44l.94 2.06.94-2.06 2.06-.94-2.06-.94-.94-2.06-.94 2.06-2.06.94zm-11 1L8.5 8.5l.94-2.06 2.06-.94-2.06-.94L8.5 2.5l-.94 2.06-2.06.94zm10 10l.94 2.06.94-2.06 2.06-.94-2.06-.94-.94-2.06-.94 2.06-2.06.94z\"/><path d=\"M17.41 7.96l-1.37-1.37c-.4-.4-.92-.59-1.43-.59-.52 0-1.04.2-1.43.59L10.3 9.45l-7.72 7.72c-.78.78-.78 2.05 0 2.83L4 21.41c.39.39.9.59 1.41.59.51 0 1.02-.2 1.41-.59l7.78-7.78 2.81-2.81c.8-.78.8-2.07 0-2.86zM5.41 20L4 18.59l7.72-7.72 1.47 1.35L5.41 20z\"/>\n",
              "  </svg>\n",
              "      </button>\n",
              "      \n",
              "  <style>\n",
              "    .colab-df-container {\n",
              "      display:flex;\n",
              "      flex-wrap:wrap;\n",
              "      gap: 12px;\n",
              "    }\n",
              "\n",
              "    .colab-df-convert {\n",
              "      background-color: #E8F0FE;\n",
              "      border: none;\n",
              "      border-radius: 50%;\n",
              "      cursor: pointer;\n",
              "      display: none;\n",
              "      fill: #1967D2;\n",
              "      height: 32px;\n",
              "      padding: 0 0 0 0;\n",
              "      width: 32px;\n",
              "    }\n",
              "\n",
              "    .colab-df-convert:hover {\n",
              "      background-color: #E2EBFA;\n",
              "      box-shadow: 0px 1px 2px rgba(60, 64, 67, 0.3), 0px 1px 3px 1px rgba(60, 64, 67, 0.15);\n",
              "      fill: #174EA6;\n",
              "    }\n",
              "\n",
              "    [theme=dark] .colab-df-convert {\n",
              "      background-color: #3B4455;\n",
              "      fill: #D2E3FC;\n",
              "    }\n",
              "\n",
              "    [theme=dark] .colab-df-convert:hover {\n",
              "      background-color: #434B5C;\n",
              "      box-shadow: 0px 1px 3px 1px rgba(0, 0, 0, 0.15);\n",
              "      filter: drop-shadow(0px 1px 2px rgba(0, 0, 0, 0.3));\n",
              "      fill: #FFFFFF;\n",
              "    }\n",
              "  </style>\n",
              "\n",
              "      <script>\n",
              "        const buttonEl =\n",
              "          document.querySelector('#df-daa86045-64b4-40e5-8bfd-2c6835d97192 button.colab-df-convert');\n",
              "        buttonEl.style.display =\n",
              "          google.colab.kernel.accessAllowed ? 'block' : 'none';\n",
              "\n",
              "        async function convertToInteractive(key) {\n",
              "          const element = document.querySelector('#df-daa86045-64b4-40e5-8bfd-2c6835d97192');\n",
              "          const dataTable =\n",
              "            await google.colab.kernel.invokeFunction('convertToInteractive',\n",
              "                                                     [key], {});\n",
              "          if (!dataTable) return;\n",
              "\n",
              "          const docLinkHtml = 'Like what you see? Visit the ' +\n",
              "            '<a target=\"_blank\" href=https://colab.research.google.com/notebooks/data_table.ipynb>data table notebook</a>'\n",
              "            + ' to learn more about interactive tables.';\n",
              "          element.innerHTML = '';\n",
              "          dataTable['output_type'] = 'display_data';\n",
              "          await google.colab.output.renderOutput(dataTable, element);\n",
              "          const docLink = document.createElement('div');\n",
              "          docLink.innerHTML = docLinkHtml;\n",
              "          element.appendChild(docLink);\n",
              "        }\n",
              "      </script>\n",
              "    </div>\n",
              "  </div>\n",
              "  "
            ],
            "text/plain": [
              "        loss  accuracy  val_loss  val_accuracy\n",
              "0   0.591919  0.845164  0.297937        0.9164\n",
              "1   0.286284  0.917745  0.235038        0.9332\n",
              "2   0.233949  0.933236  0.198108        0.9444\n",
              "3   0.198971  0.942782  0.175852        0.9508\n",
              "4   0.173012  0.950018  0.159818        0.9560\n",
              "5   0.152527  0.956291  0.152386        0.9550\n",
              "6   0.136391  0.960927  0.132048        0.9622\n",
              "7   0.123308  0.965364  0.123955        0.9656\n",
              "8   0.111736  0.968527  0.114630        0.9688\n",
              "9   0.102599  0.970436  0.110035        0.9704\n",
              "10  0.094421  0.973127  0.102325        0.9726\n",
              "11  0.087302  0.975455  0.098925        0.9716\n",
              "12  0.080787  0.977364  0.092836        0.9738\n",
              "13  0.074750  0.979255  0.090102        0.9740\n",
              "14  0.069646  0.980800  0.085637        0.9756\n",
              "15  0.064951  0.981945  0.082852        0.9752\n",
              "16  0.061089  0.983345  0.083461        0.9766\n",
              "17  0.057079  0.984436  0.081269        0.9758\n",
              "18  0.053443  0.985418  0.077226        0.9768\n",
              "19  0.050537  0.986291  0.077980        0.9786\n",
              "20  0.047166  0.987655  0.077871        0.9766\n",
              "21  0.044547  0.988673  0.070539        0.9790\n",
              "22  0.041712  0.989364  0.075259        0.9762\n",
              "23  0.039541  0.990473  0.069996        0.9796\n",
              "24  0.037117  0.990564  0.070528        0.9788\n",
              "25  0.035000  0.991491  0.071519        0.9770\n",
              "26  0.033069  0.992382  0.067396        0.9806\n",
              "27  0.031281  0.992673  0.088339        0.9742\n",
              "28  0.029738  0.993327  0.067347        0.9814\n",
              "29  0.028059  0.993873  0.067369        0.9796"
            ]
          },
          "metadata": {},
          "execution_count": 33
        }
      ]
    },
    {
      "cell_type": "code",
      "source": [
        "pd.DataFrame(history.history).plot(figsize=(8,5))\n",
        "plt.grid(True)\n",
        "plt.gca().set_ylim(0,1)\n",
        "plt.show()"
      ],
      "metadata": {
        "colab": {
          "base_uri": "https://localhost:8080/",
          "height": 324
        },
        "id": "FnJ-u7QAbgc5",
        "outputId": "15433698-328b-4f57-aaf5-6c367d8324ad"
      },
      "execution_count": 34,
      "outputs": [
        {
          "output_type": "display_data",
          "data": {
            "image/png": "[encoded data removed]",
            "text/plain": [
              "<Figure size 576x360 with 1 Axes>"
            ]
          },
          "metadata": {
            "needs_background": "light"
          }
        }
      ]
    },
    {
      "cell_type": "code",
      "source": [
        "X_new = X_test[:3]\n",
        "y_new = y_test[:3]\n",
        "y_proba = model.predict(X_new)\n",
        "y_proba.round(2)"
      ],
      "metadata": {
        "colab": {
          "base_uri": "https://localhost:8080/"
        },
        "id": "Cr0BfD1LcnKH",
        "outputId": "bcb9f957-498e-4e2d-e644-dea005150fba"
      },
      "execution_count": 35,
      "outputs": [
        {
          "output_type": "execute_result",
          "data": {
            "text/plain": [
              "array([[0., 0., 0., 0., 0., 0., 0., 1., 0., 0.],\n",
              "       [0., 0., 1., 0., 0., 0., 0., 0., 0., 0.],\n",
              "       [0., 1., 0., 0., 0., 0., 0., 0., 0., 0.]], dtype=float32)"
            ]
          },
          "metadata": {},
          "execution_count": 35
        }
      ]
    },
    {
      "cell_type": "code",
      "source": [
        "y_pred = np.argmax(y_proba, axis=-1)\n",
        "y_pred, y_new"
      ],
      "metadata": {
        "colab": {
          "base_uri": "https://localhost:8080/"
        },
        "id": "eZRy7XoScwEC",
        "outputId": "7385a37d-e3fb-4e72-da00-1aeb57edaa84"
      },
      "execution_count": 36,
      "outputs": [
        {
          "output_type": "execute_result",
          "data": {
            "text/plain": [
              "(array([7, 2, 1]), array([7, 2, 1], dtype=uint8))"
            ]
          },
          "metadata": {},
          "execution_count": 36
        }
      ]
    },
    {
      "cell_type": "code",
      "source": [
        "for data, pred, actual in zip(X_new, y_pred, y_new):\n",
        "  plt.imshow(data, cmap=\"binary\")\n",
        "  plt.title(f\"Predicted: {pred}, Actual: {actual}\")\n",
        "  plt.axis(\"off\")\n",
        "  plt.show()\n",
        "  print(\"---\"*20)"
      ],
      "metadata": {
        "colab": {
          "base_uri": "https://localhost:8080/",
          "height": 813
        },
        "id": "yM3MKYWtczN9",
        "outputId": "aae362b3-5cea-43fd-acf1-ab8e51733d3f"
      },
      "execution_count": 37,
      "outputs": [
        {
          "output_type": "display_data",
          "data": {
            "image/png": "[encoded data removed]",
            "text/plain": [
              "<Figure size 432x288 with 1 Axes>"
            ]
          },
          "metadata": {
            "needs_background": "light"
          }
        },
        {
          "output_type": "stream",
          "name": "stdout",
          "text": [
            "------------------------------------------------------------\n"
          ]
        },
        {
          "output_type": "display_data",
          "data": {
            "image/png": "[encoded data removed]",
            "text/plain": [
              "<Figure size 432x288 with 1 Axes>"
            ]
          },
          "metadata": {
            "needs_background": "light"
          }
        },
        {
          "output_type": "stream",
          "name": "stdout",
          "text": [
            "------------------------------------------------------------\n"
          ]
        },
        {
          "output_type": "display_data",
          "data": {
            "image/png": "[encoded data removed]",
            "text/plain": [
              "<Figure size 432x288 with 1 Axes>"
            ]
          },
          "metadata": {
            "needs_background": "light"
          }
        },
        {
          "output_type": "stream",
          "name": "stdout",
          "text": [
            "------------------------------------------------------------\n"
          ]
        }
      ]
    },
    {
      "cell_type": "code",
      "source": [
        ""
      ],
      "metadata": {
        "id": "YZDOFbowc1Mr"
      },
      "execution_count": null,
      "outputs": []
    }
  ]
}