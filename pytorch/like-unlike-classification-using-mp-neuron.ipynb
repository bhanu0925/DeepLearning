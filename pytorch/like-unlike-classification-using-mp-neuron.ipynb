{
 "cells": [
  {
   "cell_type": "code",
   "execution_count": 1,
   "id": "3423d8a2",
   "metadata": {
    "execution": {
     "iopub.execute_input": "2022-01-17T11:43:22.253720Z",
     "iopub.status.busy": "2022-01-17T11:43:22.252480Z",
     "iopub.status.idle": "2022-01-17T11:43:23.268950Z",
     "shell.execute_reply": "2022-01-17T11:43:23.269467Z",
     "shell.execute_reply.started": "2022-01-17T11:34:16.459772Z"
    },
    "id": "PSPL576Y5usM",
    "papermill": {
     "duration": 1.06225,
     "end_time": "2022-01-17T11:43:23.269809",
     "exception": false,
     "start_time": "2022-01-17T11:43:22.207559",
     "status": "completed"
    },
    "tags": []
   },
   "outputs": [],
   "source": [
    "import numpy as np\n",
    "import pandas as pd\n",
    "import matplotlib.pyplot as plt\n",
    "from sklearn.preprocessing import LabelEncoder,MinMaxScaler, StandardScaler\n",
    "from sklearn.model_selection import train_test_split, ParameterGrid\n",
    "from sklearn.metrics import accuracy_score, confusion_matrix, mean_squared_error, log_loss\n",
    "import operator\n",
    "import json\n",
    "from IPython import display\n",
    "import os\n",
    "import warnings\n",
    "\n",
    "np.random.seed(0)\n",
    "warnings.filterwarnings(\"ignore\")\n",
    "THRESHOLD = 4"
   ]
  },
  {
   "cell_type": "markdown",
   "id": "bec5308e",
   "metadata": {
    "id": "tnuCPDh46A9E",
    "papermill": {
     "duration": 0.042548,
     "end_time": "2022-01-17T11:43:23.355416",
     "exception": false,
     "start_time": "2022-01-17T11:43:23.312868",
     "status": "completed"
    },
    "tags": []
   },
   "source": [
    "## Task: To predict whether the user likes the mobile phone or not.\n",
    "## Assumption: If the average rating of mobile >= threshold, then the user likes it, otherwise not."
   ]
  },
  {
   "cell_type": "code",
   "execution_count": 2,
   "id": "85eed4cc",
   "metadata": {
    "execution": {
     "iopub.execute_input": "2022-01-17T11:43:23.443226Z",
     "iopub.status.busy": "2022-01-17T11:43:23.442494Z",
     "iopub.status.idle": "2022-01-17T11:43:23.537710Z",
     "shell.execute_reply": "2022-01-17T11:43:23.538226Z",
     "shell.execute_reply.started": "2022-01-17T11:34:16.470333Z"
    },
    "papermill": {
     "duration": 0.142124,
     "end_time": "2022-01-17T11:43:23.538412",
     "exception": false,
     "start_time": "2022-01-17T11:43:23.396288",
     "status": "completed"
    },
    "tags": []
   },
   "outputs": [
    {
     "name": "stdout",
     "output_type": "stream",
     "text": [
      "Number of data points in train: 355\n",
      "Number of features in train: 99\n",
      "Number of data points in test: 119\n",
      "Number of features in test: 98\n"
     ]
    }
   ],
   "source": [
    "# read data from file\n",
    "train = pd.read_csv(\"../input/padhai-mp-neuron-like-unlike-classification/train.csv\") \n",
    "test = pd.read_csv(\"../input/padhai-mp-neuron-like-unlike-classification/test.csv\")\n",
    "\n",
    "# check the number of features and data points in train\n",
    "print(\"Number of data points in train: %d\" % train.shape[0])\n",
    "print(\"Number of features in train: %d\" % train.shape[1])\n",
    "\n",
    "# check the number of features and data points in test\n",
    "print(\"Number of data points in test: %d\" % test.shape[0])\n",
    "print(\"Number of features in test: %d\" % test.shape[1])"
   ]
  },
  {
   "cell_type": "markdown",
   "id": "f1ecbe88",
   "metadata": {
    "papermill": {
     "duration": 0.040639,
     "end_time": "2022-01-17T11:43:23.620074",
     "exception": false,
     "start_time": "2022-01-17T11:43:23.579435",
     "status": "completed"
    },
    "tags": []
   },
   "source": [
    "## Missing values:"
   ]
  },
  {
   "cell_type": "code",
   "execution_count": 3,
   "id": "a6373acf",
   "metadata": {
    "execution": {
     "iopub.execute_input": "2022-01-17T11:43:23.705748Z",
     "iopub.status.busy": "2022-01-17T11:43:23.705101Z",
     "iopub.status.idle": "2022-01-17T11:43:23.744178Z",
     "shell.execute_reply": "2022-01-17T11:43:23.744688Z",
     "shell.execute_reply.started": "2022-01-17T11:34:16.541282Z"
    },
    "papermill": {
     "duration": 0.082988,
     "end_time": "2022-01-17T11:43:23.744859",
     "exception": false,
     "start_time": "2022-01-17T11:43:23.661871",
     "status": "completed"
    },
    "tags": []
   },
   "outputs": [
    {
     "data": {
      "text/html": [
       "<div>\n",
       "<style scoped>\n",
       "    .dataframe tbody tr th:only-of-type {\n",
       "        vertical-align: middle;\n",
       "    }\n",
       "\n",
       "    .dataframe tbody tr th {\n",
       "        vertical-align: top;\n",
       "    }\n",
       "\n",
       "    .dataframe thead th {\n",
       "        text-align: right;\n",
       "    }\n",
       "</style>\n",
       "<table border=\"1\" class=\"dataframe\">\n",
       "  <thead>\n",
       "    <tr style=\"text-align: right;\">\n",
       "      <th></th>\n",
       "      <th>PhoneId</th>\n",
       "      <th>Rating Count</th>\n",
       "      <th>Review Count</th>\n",
       "      <th>Rating</th>\n",
       "    </tr>\n",
       "  </thead>\n",
       "  <tbody>\n",
       "    <tr>\n",
       "      <th>count</th>\n",
       "      <td>355.000000</td>\n",
       "      <td>3.550000e+02</td>\n",
       "      <td>355.000000</td>\n",
       "      <td>355.000000</td>\n",
       "    </tr>\n",
       "    <tr>\n",
       "      <th>mean</th>\n",
       "      <td>235.267606</td>\n",
       "      <td>3.344979e+04</td>\n",
       "      <td>6648.228169</td>\n",
       "      <td>4.071549</td>\n",
       "    </tr>\n",
       "    <tr>\n",
       "      <th>std</th>\n",
       "      <td>137.204594</td>\n",
       "      <td>1.151661e+05</td>\n",
       "      <td>18943.317868</td>\n",
       "      <td>0.372663</td>\n",
       "    </tr>\n",
       "    <tr>\n",
       "      <th>min</th>\n",
       "      <td>0.000000</td>\n",
       "      <td>1.000000e+00</td>\n",
       "      <td>1.000000</td>\n",
       "      <td>2.500000</td>\n",
       "    </tr>\n",
       "    <tr>\n",
       "      <th>25%</th>\n",
       "      <td>113.500000</td>\n",
       "      <td>6.585000e+02</td>\n",
       "      <td>228.000000</td>\n",
       "      <td>3.900000</td>\n",
       "    </tr>\n",
       "    <tr>\n",
       "      <th>50%</th>\n",
       "      <td>234.000000</td>\n",
       "      <td>3.744000e+03</td>\n",
       "      <td>951.000000</td>\n",
       "      <td>4.100000</td>\n",
       "    </tr>\n",
       "    <tr>\n",
       "      <th>75%</th>\n",
       "      <td>358.000000</td>\n",
       "      <td>1.613650e+04</td>\n",
       "      <td>4208.500000</td>\n",
       "      <td>4.300000</td>\n",
       "    </tr>\n",
       "    <tr>\n",
       "      <th>max</th>\n",
       "      <td>472.000000</td>\n",
       "      <td>1.268083e+06</td>\n",
       "      <td>218020.000000</td>\n",
       "      <td>5.000000</td>\n",
       "    </tr>\n",
       "  </tbody>\n",
       "</table>\n",
       "</div>"
      ],
      "text/plain": [
       "          PhoneId  Rating Count   Review Count      Rating\n",
       "count  355.000000  3.550000e+02     355.000000  355.000000\n",
       "mean   235.267606  3.344979e+04    6648.228169    4.071549\n",
       "std    137.204594  1.151661e+05   18943.317868    0.372663\n",
       "min      0.000000  1.000000e+00       1.000000    2.500000\n",
       "25%    113.500000  6.585000e+02     228.000000    3.900000\n",
       "50%    234.000000  3.744000e+03     951.000000    4.100000\n",
       "75%    358.000000  1.613650e+04    4208.500000    4.300000\n",
       "max    472.000000  1.268083e+06  218020.000000    5.000000"
      ]
     },
     "execution_count": 3,
     "metadata": {},
     "output_type": "execute_result"
    }
   ],
   "source": [
    "train.describe()"
   ]
  },
  {
   "cell_type": "code",
   "execution_count": 4,
   "id": "f472d183",
   "metadata": {
    "execution": {
     "iopub.execute_input": "2022-01-17T11:43:23.850664Z",
     "iopub.status.busy": "2022-01-17T11:43:23.829284Z",
     "iopub.status.idle": "2022-01-17T11:43:23.853322Z",
     "shell.execute_reply": "2022-01-17T11:43:23.853945Z",
     "shell.execute_reply.started": "2022-01-17T11:34:16.570560Z"
    },
    "papermill": {
     "duration": 0.068297,
     "end_time": "2022-01-17T11:43:23.854118",
     "exception": false,
     "start_time": "2022-01-17T11:43:23.785821",
     "status": "completed"
    },
    "tags": []
   },
   "outputs": [
    {
     "data": {
      "text/html": [
       "<div>\n",
       "<style scoped>\n",
       "    .dataframe tbody tr th:only-of-type {\n",
       "        vertical-align: middle;\n",
       "    }\n",
       "\n",
       "    .dataframe tbody tr th {\n",
       "        vertical-align: top;\n",
       "    }\n",
       "\n",
       "    .dataframe thead th {\n",
       "        text-align: right;\n",
       "    }\n",
       "</style>\n",
       "<table border=\"1\" class=\"dataframe\">\n",
       "  <thead>\n",
       "    <tr style=\"text-align: right;\">\n",
       "      <th></th>\n",
       "      <th>PhoneId</th>\n",
       "      <th>Also Known As</th>\n",
       "      <th>Applications</th>\n",
       "      <th>Architecture</th>\n",
       "      <th>Aspect Ratio</th>\n",
       "      <th>Audio Features</th>\n",
       "      <th>Audio Jack</th>\n",
       "      <th>Autofocus</th>\n",
       "      <th>Bezel-less display</th>\n",
       "      <th>Bluetooth</th>\n",
       "      <th>...</th>\n",
       "      <th>Video Recording</th>\n",
       "      <th>Video Recording Features</th>\n",
       "      <th>VoLTE</th>\n",
       "      <th>Waterproof</th>\n",
       "      <th>Weight</th>\n",
       "      <th>Wi-Fi</th>\n",
       "      <th>Wi-Fi Features</th>\n",
       "      <th>Width</th>\n",
       "      <th>Wireless Charging</th>\n",
       "      <th>Rating</th>\n",
       "    </tr>\n",
       "  </thead>\n",
       "  <tbody>\n",
       "    <tr>\n",
       "      <th>0</th>\n",
       "      <td>0</td>\n",
       "      <td>NaN</td>\n",
       "      <td>NaN</td>\n",
       "      <td>64 bit</td>\n",
       "      <td>19:9</td>\n",
       "      <td>NaN</td>\n",
       "      <td>3.5 mm</td>\n",
       "      <td>Phase Detection autofocus</td>\n",
       "      <td>yes</td>\n",
       "      <td>v5.0</td>\n",
       "      <td>...</td>\n",
       "      <td>1920x1080 @ 30 fps</td>\n",
       "      <td>NaN</td>\n",
       "      <td>yes</td>\n",
       "      <td>NaN</td>\n",
       "      <td>182 grams Below Average ▾Weight compared to11 ...</td>\n",
       "      <td>Wi-Fi 802.11, a/b/g/n</td>\n",
       "      <td>Wi-Fi Direct, Mobile Hotspot</td>\n",
       "      <td>76.4 mm</td>\n",
       "      <td>NaN</td>\n",
       "      <td>4.5</td>\n",
       "    </tr>\n",
       "    <tr>\n",
       "      <th>1</th>\n",
       "      <td>1</td>\n",
       "      <td>NaN</td>\n",
       "      <td>Oppo Browser</td>\n",
       "      <td>64 bit</td>\n",
       "      <td>19:9</td>\n",
       "      <td>NaN</td>\n",
       "      <td>3.5 mm</td>\n",
       "      <td>Phase Detection autofocus</td>\n",
       "      <td>yes</td>\n",
       "      <td>v4.2</td>\n",
       "      <td>...</td>\n",
       "      <td>1920x1080 @ 30 fps</td>\n",
       "      <td>NaN</td>\n",
       "      <td>yes</td>\n",
       "      <td>NaN</td>\n",
       "      <td>168 grams Average ▾Weight compared to8 - 12 K ...</td>\n",
       "      <td>Wi-Fi 802.11, b/g/n</td>\n",
       "      <td>Mobile Hotspot</td>\n",
       "      <td>75.6 mm</td>\n",
       "      <td>NaN</td>\n",
       "      <td>4.5</td>\n",
       "    </tr>\n",
       "    <tr>\n",
       "      <th>2</th>\n",
       "      <td>2</td>\n",
       "      <td>NaN</td>\n",
       "      <td>NaN</td>\n",
       "      <td>64 bit</td>\n",
       "      <td>19.5:9</td>\n",
       "      <td>NaN</td>\n",
       "      <td>3.5 mm</td>\n",
       "      <td>yes</td>\n",
       "      <td>yes</td>\n",
       "      <td>v4.2</td>\n",
       "      <td>...</td>\n",
       "      <td>NaN</td>\n",
       "      <td>NaN</td>\n",
       "      <td>yes</td>\n",
       "      <td>NaN</td>\n",
       "      <td>168 grams Average ▾Weight compared to10 - 14 K...</td>\n",
       "      <td>Wi-Fi 802.11, b/g/n</td>\n",
       "      <td>Mobile Hotspot</td>\n",
       "      <td>74 mm</td>\n",
       "      <td>NaN</td>\n",
       "      <td>4.4</td>\n",
       "    </tr>\n",
       "    <tr>\n",
       "      <th>3</th>\n",
       "      <td>4</td>\n",
       "      <td>NaN</td>\n",
       "      <td>NaN</td>\n",
       "      <td>64 bit</td>\n",
       "      <td>18.5:9</td>\n",
       "      <td>Dolby Atmos</td>\n",
       "      <td>3.5 mm</td>\n",
       "      <td>No</td>\n",
       "      <td>yes</td>\n",
       "      <td>v5.0</td>\n",
       "      <td>...</td>\n",
       "      <td>1920x1080 @ 30 fps</td>\n",
       "      <td>NaN</td>\n",
       "      <td>yes</td>\n",
       "      <td>NaN</td>\n",
       "      <td>169 grams Average ▾Weight compared to15 - 23 K...</td>\n",
       "      <td>Wi-Fi 802.11, a/ac/b/g/n</td>\n",
       "      <td>Wi-Fi Direct, Mobile Hotspot</td>\n",
       "      <td>76.8 mm</td>\n",
       "      <td>NaN</td>\n",
       "      <td>4.3</td>\n",
       "    </tr>\n",
       "    <tr>\n",
       "      <th>4</th>\n",
       "      <td>5</td>\n",
       "      <td>NaN</td>\n",
       "      <td>NaN</td>\n",
       "      <td>64 bit</td>\n",
       "      <td>19.5:9</td>\n",
       "      <td>NaN</td>\n",
       "      <td>3.5 mm</td>\n",
       "      <td>Phase Detection autofocus</td>\n",
       "      <td>yes</td>\n",
       "      <td>v4.2</td>\n",
       "      <td>...</td>\n",
       "      <td>1920x1080 @ 60 fps</td>\n",
       "      <td>NaN</td>\n",
       "      <td>yes</td>\n",
       "      <td>NaN</td>\n",
       "      <td>175 grams Below Average ▾Weight compared to12 ...</td>\n",
       "      <td>Wi-Fi 802.11, a/ac/b/g/n</td>\n",
       "      <td>Mobile Hotspot</td>\n",
       "      <td>76.6 mm</td>\n",
       "      <td>NaN</td>\n",
       "      <td>4.4</td>\n",
       "    </tr>\n",
       "  </tbody>\n",
       "</table>\n",
       "<p>5 rows × 99 columns</p>\n",
       "</div>"
      ],
      "text/plain": [
       "   PhoneId Also Known As  Applications Architecture Aspect Ratio  \\\n",
       "0        0           NaN           NaN       64 bit         19:9   \n",
       "1        1           NaN  Oppo Browser       64 bit         19:9   \n",
       "2        2           NaN           NaN       64 bit       19.5:9   \n",
       "3        4           NaN           NaN       64 bit       18.5:9   \n",
       "4        5           NaN           NaN       64 bit       19.5:9   \n",
       "\n",
       "  Audio Features Audio Jack                  Autofocus Bezel-less display  \\\n",
       "0            NaN     3.5 mm  Phase Detection autofocus                yes   \n",
       "1            NaN     3.5 mm  Phase Detection autofocus                yes   \n",
       "2            NaN     3.5 mm                        yes                yes   \n",
       "3    Dolby Atmos     3.5 mm                         No                yes   \n",
       "4            NaN     3.5 mm  Phase Detection autofocus                yes   \n",
       "\n",
       "  Bluetooth  ...     Video Recording Video Recording Features VoLTE  \\\n",
       "0      v5.0  ...  1920x1080 @ 30 fps                      NaN   yes   \n",
       "1      v4.2  ...  1920x1080 @ 30 fps                      NaN   yes   \n",
       "2      v4.2  ...                 NaN                      NaN   yes   \n",
       "3      v5.0  ...  1920x1080 @ 30 fps                      NaN   yes   \n",
       "4      v4.2  ...  1920x1080 @ 60 fps                      NaN   yes   \n",
       "\n",
       "  Waterproof                                             Weight  \\\n",
       "0        NaN  182 grams Below Average ▾Weight compared to11 ...   \n",
       "1        NaN  168 grams Average ▾Weight compared to8 - 12 K ...   \n",
       "2        NaN  168 grams Average ▾Weight compared to10 - 14 K...   \n",
       "3        NaN  169 grams Average ▾Weight compared to15 - 23 K...   \n",
       "4        NaN  175 grams Below Average ▾Weight compared to12 ...   \n",
       "\n",
       "                      Wi-Fi                Wi-Fi Features    Width  \\\n",
       "0     Wi-Fi 802.11, a/b/g/n  Wi-Fi Direct, Mobile Hotspot  76.4 mm   \n",
       "1       Wi-Fi 802.11, b/g/n                Mobile Hotspot  75.6 mm   \n",
       "2       Wi-Fi 802.11, b/g/n                Mobile Hotspot    74 mm   \n",
       "3  Wi-Fi 802.11, a/ac/b/g/n  Wi-Fi Direct, Mobile Hotspot  76.8 mm   \n",
       "4  Wi-Fi 802.11, a/ac/b/g/n                Mobile Hotspot  76.6 mm   \n",
       "\n",
       "  Wireless Charging Rating  \n",
       "0               NaN    4.5  \n",
       "1               NaN    4.5  \n",
       "2               NaN    4.4  \n",
       "3               NaN    4.3  \n",
       "4               NaN    4.4  \n",
       "\n",
       "[5 rows x 99 columns]"
      ]
     },
     "execution_count": 4,
     "metadata": {},
     "output_type": "execute_result"
    }
   ],
   "source": [
    "train.head()"
   ]
  },
  {
   "cell_type": "code",
   "execution_count": 5,
   "id": "4974d505",
   "metadata": {
    "execution": {
     "iopub.execute_input": "2022-01-17T11:43:23.940988Z",
     "iopub.status.busy": "2022-01-17T11:43:23.940335Z",
     "iopub.status.idle": "2022-01-17T11:43:23.947818Z",
     "shell.execute_reply": "2022-01-17T11:43:23.948351Z",
     "shell.execute_reply.started": "2022-01-17T11:34:16.600039Z"
    },
    "papermill": {
     "duration": 0.052759,
     "end_time": "2022-01-17T11:43:23.948522",
     "exception": false,
     "start_time": "2022-01-17T11:43:23.895763",
     "status": "completed"
    },
    "tags": []
   },
   "outputs": [
    {
     "data": {
      "text/plain": [
       "object     95\n",
       "int64       3\n",
       "float64     1\n",
       "dtype: int64"
      ]
     },
     "execution_count": 5,
     "metadata": {},
     "output_type": "execute_result"
    }
   ],
   "source": [
    "train.dtypes.value_counts()"
   ]
  },
  {
   "cell_type": "markdown",
   "id": "99081348",
   "metadata": {
    "papermill": {
     "duration": 0.041685,
     "end_time": "2022-01-17T11:43:24.032997",
     "exception": false,
     "start_time": "2022-01-17T11:43:23.991312",
     "status": "completed"
    },
    "tags": []
   },
   "source": [
    "Separate categorical and numerical columns in the data frame"
   ]
  },
  {
   "cell_type": "code",
   "execution_count": 6,
   "id": "2fb922fd",
   "metadata": {
    "execution": {
     "iopub.execute_input": "2022-01-17T11:43:24.120560Z",
     "iopub.status.busy": "2022-01-17T11:43:24.119935Z",
     "iopub.status.idle": "2022-01-17T11:43:24.126806Z",
     "shell.execute_reply": "2022-01-17T11:43:24.127310Z",
     "shell.execute_reply.started": "2022-01-17T11:34:16.609762Z"
    },
    "papermill": {
     "duration": 0.052312,
     "end_time": "2022-01-17T11:43:24.127520",
     "exception": false,
     "start_time": "2022-01-17T11:43:24.075208",
     "status": "completed"
    },
    "tags": []
   },
   "outputs": [
    {
     "data": {
      "text/plain": [
       "PhoneId              False\n",
       "Also Known As         True\n",
       "Applications          True\n",
       "Architecture          True\n",
       "Aspect Ratio          True\n",
       "                     ...  \n",
       "Wi-Fi                 True\n",
       "Wi-Fi Features        True\n",
       "Width                 True\n",
       "Wireless Charging     True\n",
       "Rating               False\n",
       "Length: 99, dtype: bool"
      ]
     },
     "execution_count": 6,
     "metadata": {},
     "output_type": "execute_result"
    }
   ],
   "source": [
    "train.dtypes == \"object\""
   ]
  },
  {
   "cell_type": "code",
   "execution_count": 7,
   "id": "6fe401d6",
   "metadata": {
    "execution": {
     "iopub.execute_input": "2022-01-17T11:43:24.216038Z",
     "iopub.status.busy": "2022-01-17T11:43:24.215331Z",
     "iopub.status.idle": "2022-01-17T11:43:24.223976Z",
     "shell.execute_reply": "2022-01-17T11:43:24.225039Z",
     "shell.execute_reply.started": "2022-01-17T11:34:16.624341Z"
    },
    "papermill": {
     "duration": 0.054825,
     "end_time": "2022-01-17T11:43:24.225523",
     "exception": false,
     "start_time": "2022-01-17T11:43:24.170698",
     "status": "completed"
    },
    "tags": []
   },
   "outputs": [
    {
     "name": "stdout",
     "output_type": "stream",
     "text": [
      "Index(['PhoneId', 'Rating Count', 'Review Count', 'Rating'], dtype='object')\n",
      "Index(['Also Known As', 'Applications', 'Architecture', 'Aspect Ratio',\n",
      "       'Audio Features', 'Audio Jack', 'Autofocus', 'Bezel-less display',\n",
      "       'Bluetooth', 'Brand', 'Browser', 'Build Material', 'Camera Features',\n",
      "       'Capacity', 'Chipset', 'Co-Processor', 'Colours', 'Custom UI',\n",
      "       'Display Colour', 'Display Type', 'Email', 'Expandable Memory',\n",
      "       'FM Radio', 'Fingerprint Sensor', 'Fingerprint Sensor Position',\n",
      "       'Flash', 'GPS', 'Games', 'Graphics', 'HDMI', 'Heart Rate Monitor',\n",
      "       'Height', 'IRIS Scanner', 'Image Resolution', 'Internal Memory', 'Java',\n",
      "       'Launch Date', 'Loudspeaker', 'Mobile High-Definition Link(MHL)',\n",
      "       'Model', 'Music', 'NFC', 'Network', 'Network Support',\n",
      "       'Operating System', 'Optical Image Stabilisation', 'Other Facilities',\n",
      "       'Other Sensors', 'Phone Book', 'Physical Aperture', 'Pixel Density',\n",
      "       'Processor', 'Quick Charging', 'RAM', 'Resolution', 'Ring Tone',\n",
      "       'Ruggedness', 'SAR Value', 'SIM 1', 'SIM 2', 'SIM 3', 'SIM Size',\n",
      "       'SIM Slot(s)', 'SMS', 'Screen Protection', 'Screen Resolution',\n",
      "       'Screen Size', 'Screen to Body Ratio (calculated)',\n",
      "       'Screen to Body Ratio (claimed by the brand)', 'Sensor', 'Settings',\n",
      "       'Shooting Modes', 'Software Based Aperture', 'Special Features',\n",
      "       'Standby time', 'Stylus', 'TalkTime', 'Thickness', 'Touch Screen',\n",
      "       'Type', 'USB Connectivity', 'USB OTG Support', 'USB Type-C',\n",
      "       'User Available Storage', 'User Replaceable', 'Video Player',\n",
      "       'Video Recording', 'Video Recording Features', 'VoLTE', 'Waterproof',\n",
      "       'Weight', 'Wi-Fi', 'Wi-Fi Features', 'Width', 'Wireless Charging'],\n",
      "      dtype='object')\n"
     ]
    }
   ],
   "source": [
    "num_vars = train.columns[train.dtypes!='object']\n",
    "cat_vars = train.columns[train.dtypes=='object']\n",
    "\n",
    "print(num_vars)\n",
    "print(cat_vars)"
   ]
  },
  {
   "cell_type": "code",
   "execution_count": 8,
   "id": "f5b53bf3",
   "metadata": {
    "execution": {
     "iopub.execute_input": "2022-01-17T11:43:24.321813Z",
     "iopub.status.busy": "2022-01-17T11:43:24.318099Z",
     "iopub.status.idle": "2022-01-17T11:43:24.328185Z",
     "shell.execute_reply": "2022-01-17T11:43:24.328794Z",
     "shell.execute_reply.started": "2022-01-17T11:34:16.634825Z"
    },
    "papermill": {
     "duration": 0.058988,
     "end_time": "2022-01-17T11:43:24.328960",
     "exception": false,
     "start_time": "2022-01-17T11:43:24.269972",
     "status": "completed"
    },
    "tags": []
   },
   "outputs": [
    {
     "data": {
      "text/plain": [
       "Stylus                              354\n",
       "Software Based Aperture             354\n",
       "Mobile High-Definition Link(MHL)    354\n",
       "SIM 3                               353\n",
       "Java                                353\n",
       "                                   ... \n",
       "Pixel Density                         1\n",
       "Screen Size                           1\n",
       "Screen Resolution                     1\n",
       "SIM Slot(s)                           1\n",
       "Display Type                          1\n",
       "Length: 95, dtype: int64"
      ]
     },
     "execution_count": 8,
     "metadata": {},
     "output_type": "execute_result"
    }
   ],
   "source": [
    "train[cat_vars].isnull().sum().sort_values(ascending=False)"
   ]
  },
  {
   "cell_type": "code",
   "execution_count": 9,
   "id": "92d1f57d",
   "metadata": {
    "execution": {
     "iopub.execute_input": "2022-01-17T11:43:24.418740Z",
     "iopub.status.busy": "2022-01-17T11:43:24.417960Z",
     "iopub.status.idle": "2022-01-17T11:43:24.430777Z",
     "shell.execute_reply": "2022-01-17T11:43:24.431323Z",
     "shell.execute_reply.started": "2022-01-17T11:34:16.655858Z"
    },
    "papermill": {
     "duration": 0.059398,
     "end_time": "2022-01-17T11:43:24.431498",
     "exception": false,
     "start_time": "2022-01-17T11:43:24.372100",
     "status": "completed"
    },
    "tags": []
   },
   "outputs": [
    {
     "data": {
      "text/plain": [
       "Stylus                              354\n",
       "Software Based Aperture             354\n",
       "Mobile High-Definition Link(MHL)    354\n",
       "SIM 3                               353\n",
       "Java                                353\n",
       "                                   ... \n",
       "Pixel Density                         1\n",
       "Screen Size                           1\n",
       "Screen Resolution                     1\n",
       "SIM Slot(s)                           1\n",
       "Display Type                          1\n",
       "Length: 95, dtype: int64"
      ]
     },
     "execution_count": 9,
     "metadata": {},
     "output_type": "execute_result"
    }
   ],
   "source": [
    "train[cat_vars].isnull().sum().sort_values(ascending=False)"
   ]
  },
  {
   "cell_type": "code",
   "execution_count": 10,
   "id": "0cbbd356",
   "metadata": {
    "execution": {
     "iopub.execute_input": "2022-01-17T11:43:24.521568Z",
     "iopub.status.busy": "2022-01-17T11:43:24.520857Z",
     "iopub.status.idle": "2022-01-17T11:43:24.550172Z",
     "shell.execute_reply": "2022-01-17T11:43:24.550683Z",
     "shell.execute_reply.started": "2022-01-17T11:34:16.672115Z"
    },
    "papermill": {
     "duration": 0.075874,
     "end_time": "2022-01-17T11:43:24.550850",
     "exception": false,
     "start_time": "2022-01-17T11:43:24.474976",
     "status": "completed"
    },
    "tags": []
   },
   "outputs": [
    {
     "data": {
      "text/html": [
       "<div>\n",
       "<style scoped>\n",
       "    .dataframe tbody tr th:only-of-type {\n",
       "        vertical-align: middle;\n",
       "    }\n",
       "\n",
       "    .dataframe tbody tr th {\n",
       "        vertical-align: top;\n",
       "    }\n",
       "\n",
       "    .dataframe thead th {\n",
       "        text-align: right;\n",
       "    }\n",
       "</style>\n",
       "<table border=\"1\" class=\"dataframe\">\n",
       "  <thead>\n",
       "    <tr style=\"text-align: right;\">\n",
       "      <th></th>\n",
       "      <th>Also Known As</th>\n",
       "      <th>Applications</th>\n",
       "      <th>Architecture</th>\n",
       "      <th>Aspect Ratio</th>\n",
       "      <th>Audio Features</th>\n",
       "      <th>Audio Jack</th>\n",
       "      <th>Autofocus</th>\n",
       "      <th>Bezel-less display</th>\n",
       "      <th>Bluetooth</th>\n",
       "      <th>Brand</th>\n",
       "      <th>...</th>\n",
       "      <th>Video Player</th>\n",
       "      <th>Video Recording</th>\n",
       "      <th>Video Recording Features</th>\n",
       "      <th>VoLTE</th>\n",
       "      <th>Waterproof</th>\n",
       "      <th>Weight</th>\n",
       "      <th>Wi-Fi</th>\n",
       "      <th>Wi-Fi Features</th>\n",
       "      <th>Width</th>\n",
       "      <th>Wireless Charging</th>\n",
       "    </tr>\n",
       "  </thead>\n",
       "  <tbody>\n",
       "    <tr>\n",
       "      <th>0</th>\n",
       "      <td>True</td>\n",
       "      <td>True</td>\n",
       "      <td>False</td>\n",
       "      <td>False</td>\n",
       "      <td>True</td>\n",
       "      <td>False</td>\n",
       "      <td>False</td>\n",
       "      <td>False</td>\n",
       "      <td>False</td>\n",
       "      <td>False</td>\n",
       "      <td>...</td>\n",
       "      <td>True</td>\n",
       "      <td>False</td>\n",
       "      <td>True</td>\n",
       "      <td>False</td>\n",
       "      <td>True</td>\n",
       "      <td>False</td>\n",
       "      <td>False</td>\n",
       "      <td>False</td>\n",
       "      <td>False</td>\n",
       "      <td>True</td>\n",
       "    </tr>\n",
       "    <tr>\n",
       "      <th>1</th>\n",
       "      <td>True</td>\n",
       "      <td>False</td>\n",
       "      <td>False</td>\n",
       "      <td>False</td>\n",
       "      <td>True</td>\n",
       "      <td>False</td>\n",
       "      <td>False</td>\n",
       "      <td>False</td>\n",
       "      <td>False</td>\n",
       "      <td>False</td>\n",
       "      <td>...</td>\n",
       "      <td>True</td>\n",
       "      <td>False</td>\n",
       "      <td>True</td>\n",
       "      <td>False</td>\n",
       "      <td>True</td>\n",
       "      <td>False</td>\n",
       "      <td>False</td>\n",
       "      <td>False</td>\n",
       "      <td>False</td>\n",
       "      <td>True</td>\n",
       "    </tr>\n",
       "    <tr>\n",
       "      <th>2</th>\n",
       "      <td>True</td>\n",
       "      <td>True</td>\n",
       "      <td>False</td>\n",
       "      <td>False</td>\n",
       "      <td>True</td>\n",
       "      <td>False</td>\n",
       "      <td>False</td>\n",
       "      <td>False</td>\n",
       "      <td>False</td>\n",
       "      <td>False</td>\n",
       "      <td>...</td>\n",
       "      <td>True</td>\n",
       "      <td>True</td>\n",
       "      <td>True</td>\n",
       "      <td>False</td>\n",
       "      <td>True</td>\n",
       "      <td>False</td>\n",
       "      <td>False</td>\n",
       "      <td>False</td>\n",
       "      <td>False</td>\n",
       "      <td>True</td>\n",
       "    </tr>\n",
       "    <tr>\n",
       "      <th>3</th>\n",
       "      <td>True</td>\n",
       "      <td>True</td>\n",
       "      <td>False</td>\n",
       "      <td>False</td>\n",
       "      <td>False</td>\n",
       "      <td>False</td>\n",
       "      <td>False</td>\n",
       "      <td>False</td>\n",
       "      <td>False</td>\n",
       "      <td>False</td>\n",
       "      <td>...</td>\n",
       "      <td>True</td>\n",
       "      <td>False</td>\n",
       "      <td>True</td>\n",
       "      <td>False</td>\n",
       "      <td>True</td>\n",
       "      <td>False</td>\n",
       "      <td>False</td>\n",
       "      <td>False</td>\n",
       "      <td>False</td>\n",
       "      <td>True</td>\n",
       "    </tr>\n",
       "    <tr>\n",
       "      <th>4</th>\n",
       "      <td>True</td>\n",
       "      <td>True</td>\n",
       "      <td>False</td>\n",
       "      <td>False</td>\n",
       "      <td>True</td>\n",
       "      <td>False</td>\n",
       "      <td>False</td>\n",
       "      <td>False</td>\n",
       "      <td>False</td>\n",
       "      <td>False</td>\n",
       "      <td>...</td>\n",
       "      <td>True</td>\n",
       "      <td>False</td>\n",
       "      <td>True</td>\n",
       "      <td>False</td>\n",
       "      <td>True</td>\n",
       "      <td>False</td>\n",
       "      <td>False</td>\n",
       "      <td>False</td>\n",
       "      <td>False</td>\n",
       "      <td>True</td>\n",
       "    </tr>\n",
       "    <tr>\n",
       "      <th>...</th>\n",
       "      <td>...</td>\n",
       "      <td>...</td>\n",
       "      <td>...</td>\n",
       "      <td>...</td>\n",
       "      <td>...</td>\n",
       "      <td>...</td>\n",
       "      <td>...</td>\n",
       "      <td>...</td>\n",
       "      <td>...</td>\n",
       "      <td>...</td>\n",
       "      <td>...</td>\n",
       "      <td>...</td>\n",
       "      <td>...</td>\n",
       "      <td>...</td>\n",
       "      <td>...</td>\n",
       "      <td>...</td>\n",
       "      <td>...</td>\n",
       "      <td>...</td>\n",
       "      <td>...</td>\n",
       "      <td>...</td>\n",
       "      <td>...</td>\n",
       "    </tr>\n",
       "    <tr>\n",
       "      <th>350</th>\n",
       "      <td>True</td>\n",
       "      <td>True</td>\n",
       "      <td>False</td>\n",
       "      <td>True</td>\n",
       "      <td>True</td>\n",
       "      <td>False</td>\n",
       "      <td>False</td>\n",
       "      <td>True</td>\n",
       "      <td>False</td>\n",
       "      <td>False</td>\n",
       "      <td>...</td>\n",
       "      <td>True</td>\n",
       "      <td>False</td>\n",
       "      <td>True</td>\n",
       "      <td>True</td>\n",
       "      <td>True</td>\n",
       "      <td>False</td>\n",
       "      <td>False</td>\n",
       "      <td>True</td>\n",
       "      <td>False</td>\n",
       "      <td>True</td>\n",
       "    </tr>\n",
       "    <tr>\n",
       "      <th>351</th>\n",
       "      <td>True</td>\n",
       "      <td>True</td>\n",
       "      <td>False</td>\n",
       "      <td>True</td>\n",
       "      <td>True</td>\n",
       "      <td>False</td>\n",
       "      <td>False</td>\n",
       "      <td>True</td>\n",
       "      <td>False</td>\n",
       "      <td>False</td>\n",
       "      <td>...</td>\n",
       "      <td>True</td>\n",
       "      <td>False</td>\n",
       "      <td>True</td>\n",
       "      <td>True</td>\n",
       "      <td>True</td>\n",
       "      <td>False</td>\n",
       "      <td>False</td>\n",
       "      <td>False</td>\n",
       "      <td>False</td>\n",
       "      <td>True</td>\n",
       "    </tr>\n",
       "    <tr>\n",
       "      <th>352</th>\n",
       "      <td>True</td>\n",
       "      <td>True</td>\n",
       "      <td>False</td>\n",
       "      <td>True</td>\n",
       "      <td>True</td>\n",
       "      <td>False</td>\n",
       "      <td>False</td>\n",
       "      <td>True</td>\n",
       "      <td>False</td>\n",
       "      <td>False</td>\n",
       "      <td>...</td>\n",
       "      <td>True</td>\n",
       "      <td>False</td>\n",
       "      <td>True</td>\n",
       "      <td>False</td>\n",
       "      <td>True</td>\n",
       "      <td>False</td>\n",
       "      <td>False</td>\n",
       "      <td>False</td>\n",
       "      <td>False</td>\n",
       "      <td>True</td>\n",
       "    </tr>\n",
       "    <tr>\n",
       "      <th>353</th>\n",
       "      <td>True</td>\n",
       "      <td>False</td>\n",
       "      <td>True</td>\n",
       "      <td>True</td>\n",
       "      <td>True</td>\n",
       "      <td>False</td>\n",
       "      <td>False</td>\n",
       "      <td>True</td>\n",
       "      <td>False</td>\n",
       "      <td>False</td>\n",
       "      <td>...</td>\n",
       "      <td>True</td>\n",
       "      <td>False</td>\n",
       "      <td>True</td>\n",
       "      <td>False</td>\n",
       "      <td>True</td>\n",
       "      <td>False</td>\n",
       "      <td>False</td>\n",
       "      <td>False</td>\n",
       "      <td>False</td>\n",
       "      <td>True</td>\n",
       "    </tr>\n",
       "    <tr>\n",
       "      <th>354</th>\n",
       "      <td>True</td>\n",
       "      <td>True</td>\n",
       "      <td>False</td>\n",
       "      <td>True</td>\n",
       "      <td>False</td>\n",
       "      <td>False</td>\n",
       "      <td>False</td>\n",
       "      <td>True</td>\n",
       "      <td>False</td>\n",
       "      <td>False</td>\n",
       "      <td>...</td>\n",
       "      <td>True</td>\n",
       "      <td>False</td>\n",
       "      <td>True</td>\n",
       "      <td>False</td>\n",
       "      <td>True</td>\n",
       "      <td>False</td>\n",
       "      <td>False</td>\n",
       "      <td>False</td>\n",
       "      <td>False</td>\n",
       "      <td>True</td>\n",
       "    </tr>\n",
       "  </tbody>\n",
       "</table>\n",
       "<p>355 rows × 95 columns</p>\n",
       "</div>"
      ],
      "text/plain": [
       "     Also Known As  Applications  Architecture  Aspect Ratio  Audio Features  \\\n",
       "0             True          True         False         False            True   \n",
       "1             True         False         False         False            True   \n",
       "2             True          True         False         False            True   \n",
       "3             True          True         False         False           False   \n",
       "4             True          True         False         False            True   \n",
       "..             ...           ...           ...           ...             ...   \n",
       "350           True          True         False          True            True   \n",
       "351           True          True         False          True            True   \n",
       "352           True          True         False          True            True   \n",
       "353           True         False          True          True            True   \n",
       "354           True          True         False          True           False   \n",
       "\n",
       "     Audio Jack  Autofocus  Bezel-less display  Bluetooth  Brand  ...  \\\n",
       "0         False      False               False      False  False  ...   \n",
       "1         False      False               False      False  False  ...   \n",
       "2         False      False               False      False  False  ...   \n",
       "3         False      False               False      False  False  ...   \n",
       "4         False      False               False      False  False  ...   \n",
       "..          ...        ...                 ...        ...    ...  ...   \n",
       "350       False      False                True      False  False  ...   \n",
       "351       False      False                True      False  False  ...   \n",
       "352       False      False                True      False  False  ...   \n",
       "353       False      False                True      False  False  ...   \n",
       "354       False      False                True      False  False  ...   \n",
       "\n",
       "     Video Player  Video Recording  Video Recording Features  VoLTE  \\\n",
       "0            True            False                      True  False   \n",
       "1            True            False                      True  False   \n",
       "2            True             True                      True  False   \n",
       "3            True            False                      True  False   \n",
       "4            True            False                      True  False   \n",
       "..            ...              ...                       ...    ...   \n",
       "350          True            False                      True   True   \n",
       "351          True            False                      True   True   \n",
       "352          True            False                      True  False   \n",
       "353          True            False                      True  False   \n",
       "354          True            False                      True  False   \n",
       "\n",
       "     Waterproof  Weight  Wi-Fi  Wi-Fi Features  Width  Wireless Charging  \n",
       "0          True   False  False           False  False               True  \n",
       "1          True   False  False           False  False               True  \n",
       "2          True   False  False           False  False               True  \n",
       "3          True   False  False           False  False               True  \n",
       "4          True   False  False           False  False               True  \n",
       "..          ...     ...    ...             ...    ...                ...  \n",
       "350        True   False  False            True  False               True  \n",
       "351        True   False  False           False  False               True  \n",
       "352        True   False  False           False  False               True  \n",
       "353        True   False  False           False  False               True  \n",
       "354        True   False  False           False  False               True  \n",
       "\n",
       "[355 rows x 95 columns]"
      ]
     },
     "execution_count": 10,
     "metadata": {},
     "output_type": "execute_result"
    }
   ],
   "source": [
    "train[cat_vars].isnull()"
   ]
  },
  {
   "cell_type": "markdown",
   "id": "b81c51be",
   "metadata": {
    "id": "-MR04NxE6MJO",
    "papermill": {
     "duration": 0.043747,
     "end_time": "2022-01-17T11:43:24.638995",
     "exception": false,
     "start_time": "2022-01-17T11:43:24.595248",
     "status": "completed"
    },
    "tags": []
   },
   "source": [
    "MISSING VALUES ARE\n",
    "- 'Also Known As'(459),\n",
    "- 'Applications' (421),\n",
    "- 'Audio Features' (437),\n",
    "- 'Bezel-less display' (266),\n",
    "- 'Browser' (449),\n",
    "- 'Build Material' (338),\n",
    "- 'Co-Processor' (451),\n",
    "- 'Display Colour' (457),\n",
    "- 'Mobile High-Definition Link(MHL)' (472),\n",
    "- 'Music' (447) \n",
    "- 'Email','Fingerprint Sensor Position' (174),\n",
    "- 'Games' (446),\n",
    "- 'HDMI' (454),\n",
    "- 'Heart Rate Monitor' (467),\n",
    "- 'IRIS Scanner' (467), \n",
    "- 'Optical Image Stabilisation' (219),\n",
    "- 'Other Facilities' (444),\n",
    "- 'Phone Book' (444),\n",
    "- 'Physical Aperture'(87),\n",
    "- 'Quick Charging' (122),\n",
    "- 'Ring Tone' (444),\n",
    "- 'Ruggedness' (430),\n",
    "- SAR Value (315),\n",
    "- 'SIM 3' (472),\n",
    "- 'SMS' (470)',\n",
    "- 'Screen Protection' (229),\n",
    "- 'Screen to Body Ratio (claimed by the brand)' (428),\n",
    "- 'Sensor' (242),\n",
    "- 'Software Based Aperture' (473), \n",
    "- 'Special Features' (459),\n",
    "- 'Standby time' (334),\n",
    "- 'Stylus' - (473),\n",
    "- 'TalkTime' (259), \n",
    "- 'USB Type-C' (374),\n",
    "- 'Video Player' (456), \n",
    "- 'Video Recording Features' (458),\n",
    "- 'Waterproof' (398),\n",
    "- 'Wireless Charging','USB OTG Support' (159), \n",
    "- 'Video ,'Recording' (113),\n",
    "- 'Java' (471),\n",
    "- 'Browser'(448)\n",
    "\n",
    "## Very low variance:\n",
    "'Architecture'(most entries are 64-bit),'Audio Jack','GPS','Loudspeaker','Network','Network Support','Other Sensors'(28),'SIM Size', 'VoLTE'\n",
    "\n",
    "## Multivalued:\n",
    "'Colours','Custom UI','Model'(1),'Other Sensors','Launch Date'\n",
    "\n",
    "## Not important:\n",
    "'Bluetooth', 'Settings'(75),'Wi-Fi','Wi-Fi Features'\n",
    "\n",
    "## Doubtful:\n",
    "'Aspect Ratio','Autofocus','Brand','Camera Features','Fingerprint Sensor'(very few entries are missing), 'Fingerprint Sensor Position', 'Graphics'(multivalued),'Image resolution'(multivalued),'SIM Size','Sim Slot(s)', 'User Available Storage', 'SIM 1', 'SIM 2','Shooting Modes', 'Touch Screen'(24), 'USB Connectivity'\n",
    "\n",
    "## To check:\n",
    "'Display Type','Expandable Memory','FM Radio'\n",
    "\n",
    "## High Correlation with other features\n",
    "'SIM Slot(s)' high correlation with SIM1 'Weight' has high high correlation with capacity , screen-to-body ratio 'Height' - screen size is also there\n",
    "\n",
    "## Given a mobile, we can't directly get these features\n",
    "'Rating Count', 'Review Count'\n",
    "\n",
    "## Keeping [Factors considering]:\n",
    "'Capacity','Flash'(17),'Height'(22),'Internal Memory'(20, require cleaning),'Operating System'(25, require cleaning), 'Pixel Density'(1, clean it),'Processor'(22, clean it), 'RAM'(17, clean), 'Rating','Resolution'(cleaning), 'Screen Resolution','Screen Size', 'Thickness'(22), 'Type','User Replaceable','Weight'(cleaning),'Sim Size'(), 'Other Sensors'(28), 'Screen to Body Ratio (calculated)','Width',"
   ]
  },
  {
   "cell_type": "markdown",
   "id": "e8756569",
   "metadata": {
    "id": "_7Q8C0AKxYAK",
    "papermill": {
     "duration": 0.043816,
     "end_time": "2022-01-17T11:43:24.727292",
     "exception": false,
     "start_time": "2022-01-17T11:43:24.683476",
     "status": "completed"
    },
    "tags": []
   },
   "source": [
    "## Cleaning Dataset"
   ]
  },
  {
   "cell_type": "code",
   "execution_count": 11,
   "id": "b0f306e1",
   "metadata": {
    "execution": {
     "iopub.execute_input": "2022-01-17T11:43:24.820679Z",
     "iopub.status.busy": "2022-01-17T11:43:24.819987Z",
     "iopub.status.idle": "2022-01-17T11:43:24.829957Z",
     "shell.execute_reply": "2022-01-17T11:43:24.830501Z",
     "shell.execute_reply.started": "2022-01-17T11:34:16.716417Z"
    },
    "id": "9gUc57UExaOA",
    "papermill": {
     "duration": 0.057651,
     "end_time": "2022-01-17T11:43:24.830705",
     "exception": false,
     "start_time": "2022-01-17T11:43:24.773054",
     "status": "completed"
    },
    "tags": []
   },
   "outputs": [],
   "source": [
    "def data_clean(data):\n",
    "    \n",
    "    # Let's first remove all missing value features\n",
    "    columns_to_remove = ['Also Known As','Applications','Audio Features','Bezel-less display'\n",
    "                         'Browser','Build Material','Co-Processor','Browser'\n",
    "                         'Display Colour','Mobile High-Definition Link(MHL)',\n",
    "                         'Music', 'Email','Fingerprint Sensor Position',\n",
    "                         'Games','HDMI','Heart Rate Monitor','IRIS Scanner', \n",
    "                         'Optical Image Stabilisation','Other Facilities',\n",
    "                         'Phone Book','Physical Aperture','Quick Charging',\n",
    "                         'Ring Tone','Ruggedness','SAR Value','SIM 3','SMS',\n",
    "                         'Screen Protection','Screen to Body Ratio (claimed by the brand)',\n",
    "                         'Sensor','Software Based Aperture', 'Special Features',\n",
    "                         'Standby time','Stylus','TalkTime', 'USB Type-C',\n",
    "                         'Video Player', 'Video Recording Features','Waterproof',\n",
    "                         'Wireless Charging','USB OTG Support', 'Video Recording','Java']\n",
    "\n",
    "    columns_to_retain = list(set(data.columns)-set(columns_to_remove))\n",
    "    data = data[columns_to_retain]\n",
    "\n",
    "    #Features having very low variance \n",
    "    columns_to_remove = ['Architecture','Audio Jack','GPS','Loudspeaker','Network','Network Support','VoLTE']\n",
    "    columns_to_retain = list(set(data.columns)-set(columns_to_remove))\n",
    "    data = data[columns_to_retain]\n",
    "\n",
    "    # Multivalued:\n",
    "    columns_to_remove = ['Architecture','Launch Date','Audio Jack','GPS','Loudspeaker','Network','Network Support','VoLTE', 'Custom UI']\n",
    "    columns_to_retain = list(set(data.columns)-set(columns_to_remove))\n",
    "    data = data[columns_to_retain]\n",
    "\n",
    "    # Not much important\n",
    "    columns_to_remove = ['Bluetooth', 'Settings','Wi-Fi','Wi-Fi Features']\n",
    "    columns_to_retain = list(set(data.columns)-set(columns_to_remove))\n",
    "    data = data[columns_to_retain]\n",
    "    \n",
    "    return data"
   ]
  },
  {
   "cell_type": "markdown",
   "id": "b02ec3a8",
   "metadata": {
    "id": "vbEqUkBWxeHU",
    "papermill": {
     "duration": 0.044918,
     "end_time": "2022-01-17T11:43:24.920689",
     "exception": false,
     "start_time": "2022-01-17T11:43:24.875771",
     "status": "completed"
    },
    "tags": []
   },
   "source": [
    "## removing Features"
   ]
  },
  {
   "cell_type": "code",
   "execution_count": 12,
   "id": "0cb7b55f",
   "metadata": {
    "execution": {
     "iopub.execute_input": "2022-01-17T11:43:25.014917Z",
     "iopub.status.busy": "2022-01-17T11:43:25.014289Z",
     "iopub.status.idle": "2022-01-17T11:43:25.025687Z",
     "shell.execute_reply": "2022-01-17T11:43:25.026240Z",
     "shell.execute_reply.started": "2022-01-17T11:34:16.729526Z"
    },
    "id": "GNe7ybATxgSv",
    "papermill": {
     "duration": 0.059468,
     "end_time": "2022-01-17T11:43:25.026424",
     "exception": false,
     "start_time": "2022-01-17T11:43:24.966956",
     "status": "completed"
    },
    "tags": []
   },
   "outputs": [],
   "source": [
    "train = data_clean(train)\n",
    "test = data_clean(test)"
   ]
  },
  {
   "cell_type": "markdown",
   "id": "dfa4cb57",
   "metadata": {
    "id": "Puq-6-HlxiKs",
    "papermill": {
     "duration": 0.044042,
     "end_time": "2022-01-17T11:43:25.116511",
     "exception": false,
     "start_time": "2022-01-17T11:43:25.072469",
     "status": "completed"
    },
    "tags": []
   },
   "source": [
    "removing all those data points in which more than 15 features are missing"
   ]
  },
  {
   "cell_type": "code",
   "execution_count": 13,
   "id": "ba131897",
   "metadata": {
    "execution": {
     "iopub.execute_input": "2022-01-17T11:43:25.208596Z",
     "iopub.status.busy": "2022-01-17T11:43:25.207967Z",
     "iopub.status.idle": "2022-01-17T11:43:25.215100Z",
     "shell.execute_reply": "2022-01-17T11:43:25.215667Z",
     "shell.execute_reply.started": "2022-01-17T11:34:16.753088Z"
    },
    "id": "ofkq4PTAxkUv",
    "papermill": {
     "duration": 0.054937,
     "end_time": "2022-01-17T11:43:25.215840",
     "exception": false,
     "start_time": "2022-01-17T11:43:25.160903",
     "status": "completed"
    },
    "tags": []
   },
   "outputs": [],
   "source": [
    "train = train[(train.isnull().sum(axis=1) <= 15)]\n",
    "# You shouldn't remove data points from test set\n",
    "#test = test[(test.isnull().sum(axis=1) <= 15)]"
   ]
  },
  {
   "cell_type": "code",
   "execution_count": 14,
   "id": "5d0426c7",
   "metadata": {
    "execution": {
     "iopub.execute_input": "2022-01-17T11:43:25.311024Z",
     "iopub.status.busy": "2022-01-17T11:43:25.310131Z",
     "iopub.status.idle": "2022-01-17T11:43:25.313511Z",
     "shell.execute_reply": "2022-01-17T11:43:25.313985Z",
     "shell.execute_reply.started": "2022-01-17T11:34:16.762748Z"
    },
    "id": "QmhNZclQxowg",
    "papermill": {
     "duration": 0.053955,
     "end_time": "2022-01-17T11:43:25.314170",
     "exception": false,
     "start_time": "2022-01-17T11:43:25.260215",
     "status": "completed"
    },
    "tags": []
   },
   "outputs": [
    {
     "name": "stdout",
     "output_type": "stream",
     "text": [
      "Number of data points in train: 341\n",
      "Number of features in train: 47\n",
      "Number of data points in test: 119\n",
      "Number of features in test: 46\n"
     ]
    }
   ],
   "source": [
    "# check the number of features and data points in train\n",
    "print(\"Number of data points in train: %d\" % train.shape[0])\n",
    "print(\"Number of features in train: %d\" % train.shape[1])\n",
    "\n",
    "# check the number of features and data points in test\n",
    "print(\"Number of data points in test: %d\" % test.shape[0])\n",
    "print(\"Number of features in test: %d\" % test.shape[1])"
   ]
  },
  {
   "cell_type": "markdown",
   "id": "eb9eb898",
   "metadata": {
    "id": "MRsAKQr0ylIb",
    "papermill": {
     "duration": 0.044421,
     "end_time": "2022-01-17T11:43:25.403916",
     "exception": false,
     "start_time": "2022-01-17T11:43:25.359495",
     "status": "completed"
    },
    "tags": []
   },
   "source": [
    "## Filling Missing values"
   ]
  },
  {
   "cell_type": "code",
   "execution_count": 15,
   "id": "c8837cab",
   "metadata": {
    "execution": {
     "iopub.execute_input": "2022-01-17T11:43:25.506439Z",
     "iopub.status.busy": "2022-01-17T11:43:25.501173Z",
     "iopub.status.idle": "2022-01-17T11:43:25.512667Z",
     "shell.execute_reply": "2022-01-17T11:43:25.511995Z",
     "shell.execute_reply.started": "2022-01-17T11:34:16.776988Z"
    },
    "id": "Ngnva_GpyjpM",
    "papermill": {
     "duration": 0.064053,
     "end_time": "2022-01-17T11:43:25.512808",
     "exception": false,
     "start_time": "2022-01-17T11:43:25.448755",
     "status": "completed"
    },
    "tags": []
   },
   "outputs": [],
   "source": [
    "def for_integer(test):\n",
    "    try:\n",
    "        test = test.strip()\n",
    "        return int(test.split(' ')[0])\n",
    "    except IOError:\n",
    "           pass\n",
    "    except ValueError:\n",
    "        pass\n",
    "    except:\n",
    "        pass\n",
    "\n",
    "def for_string(test):\n",
    "    try:\n",
    "        test = test.strip()\n",
    "        return (test.split(' ')[0])\n",
    "    except IOError:\n",
    "        pass\n",
    "    except ValueError:\n",
    "        pass\n",
    "    except:\n",
    "        pass\n",
    "\n",
    "def for_float(test):\n",
    "    try:\n",
    "        test = test.strip()\n",
    "        return float(test.split(' ')[0])\n",
    "    except IOError:\n",
    "        pass\n",
    "    except ValueError:\n",
    "        pass\n",
    "    except:\n",
    "        pass\n",
    "def find_freq(test):\n",
    "    try:\n",
    "        test = test.strip()\n",
    "        test = test.split(' ')\n",
    "        if test[2][0] == '(':\n",
    "            return float(test[2][1:])\n",
    "        return float(test[2])\n",
    "    except IOError:\n",
    "        pass\n",
    "    except ValueError:\n",
    "        pass\n",
    "    except:\n",
    "        pass\n",
    "\n",
    "    \n",
    "def for_Internal_Memory(test):\n",
    "    try:\n",
    "        test = test.strip()\n",
    "        test = test.split(' ')\n",
    "        if test[1] == 'GB':\n",
    "            return int(test[0])\n",
    "        if test[1] == 'MB':\n",
    "#             print(\"here\")\n",
    "            return (int(test[0]) * 0.001)\n",
    "    except IOError:\n",
    "           pass\n",
    "    except ValueError:\n",
    "        pass\n",
    "    except:\n",
    "        pass\n",
    "    \n",
    "def find_freq(test):\n",
    "    try:\n",
    "        test = test.strip()\n",
    "        test = test.split(' ')\n",
    "        if test[2][0] == '(':\n",
    "            return float(test[2][1:])\n",
    "        return float(test[2])\n",
    "    except IOError:\n",
    "        pass\n",
    "    except ValueError:\n",
    "        pass\n",
    "    except:\n",
    "        pass"
   ]
  },
  {
   "cell_type": "code",
   "execution_count": 16,
   "id": "b4ce5d63",
   "metadata": {
    "execution": {
     "iopub.execute_input": "2022-01-17T11:43:25.626167Z",
     "iopub.status.busy": "2022-01-17T11:43:25.625432Z",
     "iopub.status.idle": "2022-01-17T11:43:25.626756Z",
     "shell.execute_reply": "2022-01-17T11:43:25.627320Z",
     "shell.execute_reply.started": "2022-01-17T11:34:16.793580Z"
    },
    "id": "hZlvyx-fyp6_",
    "papermill": {
     "duration": 0.070061,
     "end_time": "2022-01-17T11:43:25.627495",
     "exception": false,
     "start_time": "2022-01-17T11:43:25.557434",
     "status": "completed"
    },
    "tags": []
   },
   "outputs": [],
   "source": [
    "def data_clean_2(x):\n",
    "    data = x.copy()\n",
    "    \n",
    "    data['Capacity'] = data['Capacity'].apply(for_integer)\n",
    "\n",
    "    data['Height'] = data['Height'].apply(for_float)\n",
    "    data['Height'] = data['Height'].fillna(data['Height'].mean())\n",
    "\n",
    "    data['Internal Memory'] = data['Internal Memory'].apply(for_Internal_Memory)\n",
    "\n",
    "    data['Pixel Density'] = data['Pixel Density'].apply(for_integer)\n",
    "\n",
    "    data['Internal Memory'] = data['Internal Memory'].fillna(data['Internal Memory'].median())\n",
    "    data['Internal Memory'] = data['Internal Memory'].astype(int)\n",
    "\n",
    "    data['RAM'] = data['RAM'].apply(for_integer)\n",
    "    data['RAM'] = data['RAM'].fillna(data['RAM'].median())\n",
    "    data['RAM'] = data['RAM'].astype(int)\n",
    "\n",
    "    data['Resolution'] = data['Resolution'].apply(for_integer)\n",
    "    data['Resolution'] = data['Resolution'].fillna(data['Resolution'].median())\n",
    "    data['Resolution'] = data['Resolution'].astype(int)\n",
    "\n",
    "    data['Screen Size'] = data['Screen Size'].apply(for_float)\n",
    "\n",
    "    data['Thickness'] = data['Thickness'].apply(for_float)\n",
    "    data['Thickness'] = data['Thickness'].fillna(data['Thickness'].mean())\n",
    "    data['Thickness'] = data['Thickness'].round(2)\n",
    "\n",
    "    data['Type'] = data['Type'].fillna('Li-Polymer')\n",
    "\n",
    "    data['Screen to Body Ratio (calculated)'] = data['Screen to Body Ratio (calculated)'].apply(for_float)\n",
    "    data['Screen to Body Ratio (calculated)'] = data['Screen to Body Ratio (calculated)'].fillna(data['Screen to Body Ratio (calculated)'].mean())\n",
    "    data['Screen to Body Ratio (calculated)'] = data['Screen to Body Ratio (calculated)'].round(2)\n",
    "\n",
    "    data['Width'] = data['Width'].apply(for_float)\n",
    "    data['Width'] = data['Width'].fillna(data['Width'].mean())\n",
    "    data['Width'] = data['Width'].round(2)\n",
    "\n",
    "    data['Flash'][data['Flash'].isna() == True] = \"Other\"\n",
    "\n",
    "    data['User Replaceable'][data['User Replaceable'].isna() == True] = \"Other\"\n",
    "\n",
    "    data['Num_cores'] = data['Processor'].apply(for_string)\n",
    "    data['Num_cores'][data['Num_cores'].isna() == True] = \"Other\"\n",
    "\n",
    "\n",
    "    data['Processor_frequency'] = data['Processor'].apply(find_freq)\n",
    "    #because there is one entry with 208MHz values, to convert it to GHz\n",
    "    data['Processor_frequency'][data['Processor_frequency'] > 200] = 0.208\n",
    "    data['Processor_frequency'] = data['Processor_frequency'].fillna(data['Processor_frequency'].mean())\n",
    "    data['Processor_frequency'] = data['Processor_frequency'].round(2)\n",
    "\n",
    "    data['Camera Features'][data['Camera Features'].isna() == True] = \"Other\"\n",
    "\n",
    "    #simplifyig Operating System to os_name for simplicity\n",
    "    data['os_name'] = data['Operating System'].apply(for_string)\n",
    "    data['os_name'][data['os_name'].isna() == True] = \"Other\"\n",
    "\n",
    "    data['Sim1'] = data['SIM 1'].apply(for_string)\n",
    "\n",
    "    data['SIM Size'][data['SIM Size'].isna() == True] = \"Other\"\n",
    "\n",
    "    data['Image Resolution'][data['Image Resolution'].isna() == True] = \"Other\"\n",
    "\n",
    "    data['Fingerprint Sensor'][data['Fingerprint Sensor'].isna() == True] = \"Other\"\n",
    "\n",
    "    data['Expandable Memory'][data['Expandable Memory'].isna() == True] = \"No\"\n",
    "\n",
    "    data['Weight'] = data['Weight'].apply(for_integer)\n",
    "    data['Weight'] = data['Weight'].fillna(data['Weight'].mean())\n",
    "    data['Weight'] = data['Weight'].astype(int)\n",
    "\n",
    "    data['SIM 2'] = data['SIM 2'].apply(for_string)\n",
    "    data['SIM 2'][data['SIM 2'].isna() == True] = \"Other\"\n",
    "    \n",
    "    return data"
   ]
  },
  {
   "cell_type": "code",
   "execution_count": 17,
   "id": "c783b805",
   "metadata": {
    "execution": {
     "iopub.execute_input": "2022-01-17T11:43:25.720691Z",
     "iopub.status.busy": "2022-01-17T11:43:25.720034Z",
     "iopub.status.idle": "2022-01-17T11:43:25.817331Z",
     "shell.execute_reply": "2022-01-17T11:43:25.816545Z",
     "shell.execute_reply.started": "2022-01-17T11:34:16.817452Z"
    },
    "id": "v4-FuHQqyt8P",
    "papermill": {
     "duration": 0.144743,
     "end_time": "2022-01-17T11:43:25.817486",
     "exception": false,
     "start_time": "2022-01-17T11:43:25.672743",
     "status": "completed"
    },
    "tags": []
   },
   "outputs": [
    {
     "name": "stdout",
     "output_type": "stream",
     "text": [
      "Number of data points in train: 341\n",
      "Number of features in train: 51\n",
      "Number of data points in test: 119\n",
      "Number of features in test: 50\n"
     ]
    }
   ],
   "source": [
    "train = data_clean_2(train)\n",
    "test = data_clean_2(test)\n",
    "\n",
    "# check the number of features and data points in train\n",
    "print(\"Number of data points in train: %d\" % train.shape[0])\n",
    "print(\"Number of features in train: %d\" % train.shape[1])\n",
    "\n",
    "# check the number of features and data points in test\n",
    "print(\"Number of data points in test: %d\" % test.shape[0])\n",
    "print(\"Number of features in test: %d\" % test.shape[1])"
   ]
  },
  {
   "cell_type": "markdown",
   "id": "6f826d80",
   "metadata": {
    "id": "yXBqEl-Syw1k",
    "papermill": {
     "duration": 0.045726,
     "end_time": "2022-01-17T11:43:25.908812",
     "exception": false,
     "start_time": "2022-01-17T11:43:25.863086",
     "status": "completed"
    },
    "tags": []
   },
   "source": [
    "Not very important feature"
   ]
  },
  {
   "cell_type": "code",
   "execution_count": 18,
   "id": "4a936b15",
   "metadata": {
    "execution": {
     "iopub.execute_input": "2022-01-17T11:43:26.003566Z",
     "iopub.status.busy": "2022-01-17T11:43:26.002870Z",
     "iopub.status.idle": "2022-01-17T11:43:26.010355Z",
     "shell.execute_reply": "2022-01-17T11:43:26.010870Z",
     "shell.execute_reply.started": "2022-01-17T11:34:16.933545Z"
    },
    "id": "H-Tzh8x4yxW8",
    "papermill": {
     "duration": 0.05719,
     "end_time": "2022-01-17T11:43:26.011049",
     "exception": false,
     "start_time": "2022-01-17T11:43:25.953859",
     "status": "completed"
    },
    "tags": []
   },
   "outputs": [],
   "source": [
    "def data_clean_3(x):\n",
    "    \n",
    "    data = x.copy()\n",
    "\n",
    "    columns_to_remove = ['User Available Storage','SIM Size','Chipset','Processor','Autofocus','Aspect Ratio','Touch Screen',\n",
    "                        'Bezel-less display','Operating System','SIM 1','USB Connectivity','Other Sensors','Graphics','FM Radio',\n",
    "                        'NFC','Shooting Modes','Browser','Display Colour' ]\n",
    "\n",
    "    columns_to_retain = list(set(data.columns)-set(columns_to_remove))\n",
    "    data = data[columns_to_retain]\n",
    "\n",
    "\n",
    "    columns_to_remove = [ 'Screen Resolution','User Replaceable','Camera Features',\n",
    "                        'Thickness', 'Display Type']\n",
    "\n",
    "    columns_to_retain = list(set(data.columns)-set(columns_to_remove))\n",
    "    data = data[columns_to_retain]\n",
    "\n",
    "\n",
    "    columns_to_remove = ['Fingerprint Sensor', 'Flash', 'Rating Count', 'Review Count','Image Resolution','Type','Expandable Memory',\\\n",
    "                        'Colours','Width','Model']\n",
    "    columns_to_retain = list(set(data.columns)-set(columns_to_remove))\n",
    "    data = data[columns_to_retain]\n",
    "\n",
    "    return data"
   ]
  },
  {
   "cell_type": "code",
   "execution_count": 19,
   "id": "33ba4a77",
   "metadata": {
    "execution": {
     "iopub.execute_input": "2022-01-17T11:43:26.104738Z",
     "iopub.status.busy": "2022-01-17T11:43:26.104067Z",
     "iopub.status.idle": "2022-01-17T11:43:26.116650Z",
     "shell.execute_reply": "2022-01-17T11:43:26.117203Z",
     "shell.execute_reply.started": "2022-01-17T11:34:16.943096Z"
    },
    "id": "tD9A4fVsyz6O",
    "papermill": {
     "duration": 0.060986,
     "end_time": "2022-01-17T11:43:26.117378",
     "exception": false,
     "start_time": "2022-01-17T11:43:26.056392",
     "status": "completed"
    },
    "tags": []
   },
   "outputs": [
    {
     "name": "stdout",
     "output_type": "stream",
     "text": [
      "Number of data points in train: 341\n",
      "Number of features in train: 18\n",
      "Number of data points in test: 119\n",
      "Number of features in test: 17\n"
     ]
    }
   ],
   "source": [
    "train = data_clean_3(train)\n",
    "test = data_clean_3(test)\n",
    "\n",
    "# check the number of features and data points in train\n",
    "print(\"Number of data points in train: %d\" % train.shape[0])\n",
    "print(\"Number of features in train: %d\" % train.shape[1])\n",
    "\n",
    "# check the number of features and data points in test\n",
    "print(\"Number of data points in test: %d\" % test.shape[0])\n",
    "print(\"Number of features in test: %d\" % test.shape[1])"
   ]
  },
  {
   "cell_type": "code",
   "execution_count": 20,
   "id": "184c1e08",
   "metadata": {
    "execution": {
     "iopub.execute_input": "2022-01-17T11:43:26.211717Z",
     "iopub.status.busy": "2022-01-17T11:43:26.211048Z",
     "iopub.status.idle": "2022-01-17T11:43:26.241414Z",
     "shell.execute_reply": "2022-01-17T11:43:26.242102Z",
     "shell.execute_reply.started": "2022-01-17T11:34:16.969372Z"
    },
    "id": "e1mgS8Zry2bG",
    "papermill": {
     "duration": 0.07905,
     "end_time": "2022-01-17T11:43:26.242279",
     "exception": false,
     "start_time": "2022-01-17T11:43:26.163229",
     "status": "completed"
    },
    "tags": []
   },
   "outputs": [
    {
     "name": "stdout",
     "output_type": "stream",
     "text": [
      "(460, 17)\n",
      "Index(['PhoneId', 'Screen Size', 'SIM Slot(s)', 'Sim1', 'Brand', 'Capacity',\n",
      "       'Internal Memory', 'Processor_frequency', 'os_name', 'Height',\n",
      "       'Pixel Density', 'Screen to Body Ratio (calculated)', 'Weight',\n",
      "       'Resolution', 'Num_cores', 'SIM 2', 'RAM'],\n",
      "      dtype='object')\n",
      "(460, 87)\n",
      "Index(['PhoneId', 'Screen Size', 'Capacity', 'Internal Memory',\n",
      "       'Processor_frequency', 'Height', 'Pixel Density',\n",
      "       'Screen to Body Ratio (calculated)', 'Weight', 'Resolution', 'RAM',\n",
      "       'SIM Slot(s)_Dual SIM, GSM+CDMA', 'SIM Slot(s)_Dual SIM, GSM+GSM',\n",
      "       'SIM Slot(s)_Dual SIM, GSM+GSM, Dual VoLTE',\n",
      "       'SIM Slot(s)_Single SIM, GSM', 'Sim1_2G', 'Sim1_3G', 'Sim1_4G',\n",
      "       'Brand_10.or', 'Brand_Apple', 'Brand_Asus', 'Brand_Billion',\n",
      "       'Brand_Blackberry', 'Brand_Comio', 'Brand_Coolpad', 'Brand_Do',\n",
      "       'Brand_Gionee', 'Brand_Google', 'Brand_HTC', 'Brand_Honor',\n",
      "       'Brand_Huawei', 'Brand_InFocus', 'Brand_Infinix', 'Brand_Intex',\n",
      "       'Brand_Itel', 'Brand_Jivi', 'Brand_Karbonn', 'Brand_LG', 'Brand_Lava',\n",
      "       'Brand_LeEco', 'Brand_Lenovo', 'Brand_Lephone', 'Brand_Lyf',\n",
      "       'Brand_Meizu', 'Brand_Micromax', 'Brand_Mobiistar', 'Brand_Moto',\n",
      "       'Brand_Motorola', 'Brand_Nokia', 'Brand_Nubia', 'Brand_OPPO',\n",
      "       'Brand_OnePlus', 'Brand_Oppo', 'Brand_Panasonic', 'Brand_Razer',\n",
      "       'Brand_Realme', 'Brand_Reliance', 'Brand_Samsung', 'Brand_Sony',\n",
      "       'Brand_Spice', 'Brand_Tecno', 'Brand_Ulefone', 'Brand_VOTO',\n",
      "       'Brand_Vivo', 'Brand_Xiaomi', 'Brand_Xiaomi Poco', 'Brand_Yu',\n",
      "       'Brand_iVooMi', 'os_name_Android', 'os_name_Blackberry', 'os_name_KAI',\n",
      "       'os_name_Nokia', 'os_name_Other', 'os_name_Tizen', 'os_name_iOS',\n",
      "       'Num_cores_312', 'Num_cores_Deca', 'Num_cores_Dual', 'Num_cores_Hexa',\n",
      "       'Num_cores_Octa', 'Num_cores_Other', 'Num_cores_Quad',\n",
      "       'Num_cores_Tru-Octa', 'SIM 2_2G', 'SIM 2_3G', 'SIM 2_4G',\n",
      "       'SIM 2_Other'],\n",
      "      dtype='object')\n"
     ]
    }
   ],
   "source": [
    "# one hot encoding\n",
    "\n",
    "train_ids = train['PhoneId']\n",
    "test_ids = test['PhoneId']\n",
    "\n",
    "cols = list(test.columns)\n",
    "cols.remove('PhoneId')\n",
    "cols.insert(0, 'PhoneId')\n",
    "\n",
    "combined = pd.concat([train.drop('Rating', axis=1)[cols], test[cols]])\n",
    "print(combined.shape)\n",
    "print(combined.columns)\n",
    "\n",
    "combined = pd.get_dummies(combined)\n",
    "print(combined.shape)\n",
    "print(combined.columns)\n",
    "\n",
    "train_new = combined[combined['PhoneId'].isin(train_ids)]\n",
    "test_new = combined[combined['PhoneId'].isin(test_ids)]"
   ]
  },
  {
   "cell_type": "code",
   "execution_count": 21,
   "id": "7b44caad",
   "metadata": {
    "execution": {
     "iopub.execute_input": "2022-01-17T11:43:26.338442Z",
     "iopub.status.busy": "2022-01-17T11:43:26.337747Z",
     "iopub.status.idle": "2022-01-17T11:43:26.351675Z",
     "shell.execute_reply": "2022-01-17T11:43:26.352231Z",
     "shell.execute_reply.started": "2022-01-17T11:34:17.000993Z"
    },
    "id": "g-x42ci_y5mG",
    "papermill": {
     "duration": 0.063904,
     "end_time": "2022-01-17T11:43:26.352417",
     "exception": false,
     "start_time": "2022-01-17T11:43:26.288513",
     "status": "completed"
    },
    "tags": []
   },
   "outputs": [],
   "source": [
    "train_new = train_new.merge(train[['PhoneId', 'Rating']], on='PhoneId')"
   ]
  },
  {
   "cell_type": "code",
   "execution_count": 22,
   "id": "06b1a7cd",
   "metadata": {
    "execution": {
     "iopub.execute_input": "2022-01-17T11:43:26.449401Z",
     "iopub.status.busy": "2022-01-17T11:43:26.448762Z",
     "iopub.status.idle": "2022-01-17T11:43:26.455124Z",
     "shell.execute_reply": "2022-01-17T11:43:26.455626Z",
     "shell.execute_reply.started": "2022-01-17T11:34:17.012793Z"
    },
    "id": "o-wcrFlFy7tN",
    "papermill": {
     "duration": 0.055354,
     "end_time": "2022-01-17T11:43:26.455790",
     "exception": false,
     "start_time": "2022-01-17T11:43:26.400436",
     "status": "completed"
    },
    "tags": []
   },
   "outputs": [
    {
     "name": "stdout",
     "output_type": "stream",
     "text": [
      "Number of data points in train: 341\n",
      "Number of features in train: 88\n",
      "Number of data points in test: 119\n",
      "Number of features in test: 87\n"
     ]
    }
   ],
   "source": [
    "# check the number of features and data points in train\n",
    "print(\"Number of data points in train: %d\" % train_new.shape[0])\n",
    "print(\"Number of features in train: %d\" % train_new.shape[1])\n",
    "\n",
    "# check the number of features and data points in test\n",
    "print(\"Number of data points in test: %d\" % test_new.shape[0])\n",
    "print(\"Number of features in test: %d\" % test_new.shape[1])"
   ]
  },
  {
   "cell_type": "code",
   "execution_count": 23,
   "id": "e5bb106e",
   "metadata": {
    "execution": {
     "iopub.execute_input": "2022-01-17T11:43:26.553482Z",
     "iopub.status.busy": "2022-01-17T11:43:26.552822Z",
     "iopub.status.idle": "2022-01-17T11:43:26.558178Z",
     "shell.execute_reply": "2022-01-17T11:43:26.557559Z",
     "shell.execute_reply.started": "2022-01-17T11:34:17.026110Z"
    },
    "papermill": {
     "duration": 0.056154,
     "end_time": "2022-01-17T11:43:26.558325",
     "exception": false,
     "start_time": "2022-01-17T11:43:26.502171",
     "status": "completed"
    },
    "tags": []
   },
   "outputs": [
    {
     "data": {
      "text/plain": [
       "(119, 87)"
      ]
     },
     "execution_count": 23,
     "metadata": {},
     "output_type": "execute_result"
    }
   ],
   "source": [
    "# Let's check updated shape of training data and testing data\n",
    "train_new.shape\n",
    "test_new.shape"
   ]
  },
  {
   "cell_type": "code",
   "execution_count": 24,
   "id": "5284501d",
   "metadata": {
    "execution": {
     "iopub.execute_input": "2022-01-17T11:43:26.657864Z",
     "iopub.status.busy": "2022-01-17T11:43:26.654934Z",
     "iopub.status.idle": "2022-01-17T11:43:26.676305Z",
     "shell.execute_reply": "2022-01-17T11:43:26.676774Z",
     "shell.execute_reply.started": "2022-01-17T11:34:17.044331Z"
    },
    "id": "1Rfmjqh9y-YC",
    "papermill": {
     "duration": 0.071875,
     "end_time": "2022-01-17T11:43:26.676967",
     "exception": false,
     "start_time": "2022-01-17T11:43:26.605092",
     "status": "completed"
    },
    "tags": []
   },
   "outputs": [
    {
     "data": {
      "text/html": [
       "<div>\n",
       "<style scoped>\n",
       "    .dataframe tbody tr th:only-of-type {\n",
       "        vertical-align: middle;\n",
       "    }\n",
       "\n",
       "    .dataframe tbody tr th {\n",
       "        vertical-align: top;\n",
       "    }\n",
       "\n",
       "    .dataframe thead th {\n",
       "        text-align: right;\n",
       "    }\n",
       "</style>\n",
       "<table border=\"1\" class=\"dataframe\">\n",
       "  <thead>\n",
       "    <tr style=\"text-align: right;\">\n",
       "      <th></th>\n",
       "      <th>PhoneId</th>\n",
       "      <th>Screen Size</th>\n",
       "      <th>Capacity</th>\n",
       "      <th>Internal Memory</th>\n",
       "      <th>Processor_frequency</th>\n",
       "      <th>Height</th>\n",
       "      <th>Pixel Density</th>\n",
       "      <th>Screen to Body Ratio (calculated)</th>\n",
       "      <th>Weight</th>\n",
       "      <th>Resolution</th>\n",
       "      <th>...</th>\n",
       "      <th>Num_cores_Hexa</th>\n",
       "      <th>Num_cores_Octa</th>\n",
       "      <th>Num_cores_Other</th>\n",
       "      <th>Num_cores_Quad</th>\n",
       "      <th>Num_cores_Tru-Octa</th>\n",
       "      <th>SIM 2_2G</th>\n",
       "      <th>SIM 2_3G</th>\n",
       "      <th>SIM 2_4G</th>\n",
       "      <th>SIM 2_Other</th>\n",
       "      <th>Rating</th>\n",
       "    </tr>\n",
       "  </thead>\n",
       "  <tbody>\n",
       "    <tr>\n",
       "      <th>0</th>\n",
       "      <td>0</td>\n",
       "      <td>6.26</td>\n",
       "      <td>4000</td>\n",
       "      <td>64</td>\n",
       "      <td>1.8</td>\n",
       "      <td>157.9</td>\n",
       "      <td>403</td>\n",
       "      <td>80.68</td>\n",
       "      <td>182</td>\n",
       "      <td>20</td>\n",
       "      <td>...</td>\n",
       "      <td>0</td>\n",
       "      <td>1</td>\n",
       "      <td>0</td>\n",
       "      <td>0</td>\n",
       "      <td>0</td>\n",
       "      <td>0</td>\n",
       "      <td>0</td>\n",
       "      <td>1</td>\n",
       "      <td>0</td>\n",
       "      <td>4.5</td>\n",
       "    </tr>\n",
       "    <tr>\n",
       "      <th>1</th>\n",
       "      <td>1</td>\n",
       "      <td>6.20</td>\n",
       "      <td>4230</td>\n",
       "      <td>32</td>\n",
       "      <td>1.8</td>\n",
       "      <td>156.2</td>\n",
       "      <td>271</td>\n",
       "      <td>80.85</td>\n",
       "      <td>168</td>\n",
       "      <td>8</td>\n",
       "      <td>...</td>\n",
       "      <td>0</td>\n",
       "      <td>1</td>\n",
       "      <td>0</td>\n",
       "      <td>0</td>\n",
       "      <td>0</td>\n",
       "      <td>0</td>\n",
       "      <td>0</td>\n",
       "      <td>1</td>\n",
       "      <td>0</td>\n",
       "      <td>4.5</td>\n",
       "    </tr>\n",
       "    <tr>\n",
       "      <th>2</th>\n",
       "      <td>2</td>\n",
       "      <td>6.30</td>\n",
       "      <td>3500</td>\n",
       "      <td>32</td>\n",
       "      <td>2.1</td>\n",
       "      <td>157.0</td>\n",
       "      <td>409</td>\n",
       "      <td>83.68</td>\n",
       "      <td>168</td>\n",
       "      <td>25</td>\n",
       "      <td>...</td>\n",
       "      <td>0</td>\n",
       "      <td>1</td>\n",
       "      <td>0</td>\n",
       "      <td>0</td>\n",
       "      <td>0</td>\n",
       "      <td>0</td>\n",
       "      <td>0</td>\n",
       "      <td>1</td>\n",
       "      <td>0</td>\n",
       "      <td>4.4</td>\n",
       "    </tr>\n",
       "    <tr>\n",
       "      <th>3</th>\n",
       "      <td>4</td>\n",
       "      <td>6.00</td>\n",
       "      <td>3300</td>\n",
       "      <td>64</td>\n",
       "      <td>2.2</td>\n",
       "      <td>159.8</td>\n",
       "      <td>411</td>\n",
       "      <td>74.78</td>\n",
       "      <td>169</td>\n",
       "      <td>24</td>\n",
       "      <td>...</td>\n",
       "      <td>0</td>\n",
       "      <td>1</td>\n",
       "      <td>0</td>\n",
       "      <td>0</td>\n",
       "      <td>0</td>\n",
       "      <td>0</td>\n",
       "      <td>0</td>\n",
       "      <td>1</td>\n",
       "      <td>0</td>\n",
       "      <td>4.3</td>\n",
       "    </tr>\n",
       "    <tr>\n",
       "      <th>4</th>\n",
       "      <td>5</td>\n",
       "      <td>6.50</td>\n",
       "      <td>3750</td>\n",
       "      <td>64</td>\n",
       "      <td>2.2</td>\n",
       "      <td>160.4</td>\n",
       "      <td>396</td>\n",
       "      <td>84.23</td>\n",
       "      <td>175</td>\n",
       "      <td>16</td>\n",
       "      <td>...</td>\n",
       "      <td>0</td>\n",
       "      <td>1</td>\n",
       "      <td>0</td>\n",
       "      <td>0</td>\n",
       "      <td>0</td>\n",
       "      <td>0</td>\n",
       "      <td>0</td>\n",
       "      <td>1</td>\n",
       "      <td>0</td>\n",
       "      <td>4.4</td>\n",
       "    </tr>\n",
       "  </tbody>\n",
       "</table>\n",
       "<p>5 rows × 88 columns</p>\n",
       "</div>"
      ],
      "text/plain": [
       "   PhoneId  Screen Size  Capacity  Internal Memory  Processor_frequency  \\\n",
       "0        0         6.26      4000               64                  1.8   \n",
       "1        1         6.20      4230               32                  1.8   \n",
       "2        2         6.30      3500               32                  2.1   \n",
       "3        4         6.00      3300               64                  2.2   \n",
       "4        5         6.50      3750               64                  2.2   \n",
       "\n",
       "   Height  Pixel Density  Screen to Body Ratio (calculated)  Weight  \\\n",
       "0   157.9            403                              80.68     182   \n",
       "1   156.2            271                              80.85     168   \n",
       "2   157.0            409                              83.68     168   \n",
       "3   159.8            411                              74.78     169   \n",
       "4   160.4            396                              84.23     175   \n",
       "\n",
       "   Resolution  ...  Num_cores_Hexa  Num_cores_Octa  Num_cores_Other  \\\n",
       "0          20  ...               0               1                0   \n",
       "1           8  ...               0               1                0   \n",
       "2          25  ...               0               1                0   \n",
       "3          24  ...               0               1                0   \n",
       "4          16  ...               0               1                0   \n",
       "\n",
       "   Num_cores_Quad  Num_cores_Tru-Octa  SIM 2_2G  SIM 2_3G  SIM 2_4G  \\\n",
       "0               0                   0         0         0         1   \n",
       "1               0                   0         0         0         1   \n",
       "2               0                   0         0         0         1   \n",
       "3               0                   0         0         0         1   \n",
       "4               0                   0         0         0         1   \n",
       "\n",
       "   SIM 2_Other  Rating  \n",
       "0            0     4.5  \n",
       "1            0     4.5  \n",
       "2            0     4.4  \n",
       "3            0     4.3  \n",
       "4            0     4.4  \n",
       "\n",
       "[5 rows x 88 columns]"
      ]
     },
     "execution_count": 24,
     "metadata": {},
     "output_type": "execute_result"
    }
   ],
   "source": [
    "train_new.head()"
   ]
  },
  {
   "cell_type": "code",
   "execution_count": 25,
   "id": "cd7ef55a",
   "metadata": {
    "execution": {
     "iopub.execute_input": "2022-01-17T11:43:26.775988Z",
     "iopub.status.busy": "2022-01-17T11:43:26.775280Z",
     "iopub.status.idle": "2022-01-17T11:43:26.796277Z",
     "shell.execute_reply": "2022-01-17T11:43:26.796779Z",
     "shell.execute_reply.started": "2022-01-17T11:34:17.072085Z"
    },
    "id": "sXg-XheQzDET",
    "papermill": {
     "duration": 0.072267,
     "end_time": "2022-01-17T11:43:26.796958",
     "exception": false,
     "start_time": "2022-01-17T11:43:26.724691",
     "status": "completed"
    },
    "tags": []
   },
   "outputs": [
    {
     "data": {
      "text/html": [
       "<div>\n",
       "<style scoped>\n",
       "    .dataframe tbody tr th:only-of-type {\n",
       "        vertical-align: middle;\n",
       "    }\n",
       "\n",
       "    .dataframe tbody tr th {\n",
       "        vertical-align: top;\n",
       "    }\n",
       "\n",
       "    .dataframe thead th {\n",
       "        text-align: right;\n",
       "    }\n",
       "</style>\n",
       "<table border=\"1\" class=\"dataframe\">\n",
       "  <thead>\n",
       "    <tr style=\"text-align: right;\">\n",
       "      <th></th>\n",
       "      <th>PhoneId</th>\n",
       "      <th>Screen Size</th>\n",
       "      <th>Capacity</th>\n",
       "      <th>Internal Memory</th>\n",
       "      <th>Processor_frequency</th>\n",
       "      <th>Height</th>\n",
       "      <th>Pixel Density</th>\n",
       "      <th>Screen to Body Ratio (calculated)</th>\n",
       "      <th>Weight</th>\n",
       "      <th>Resolution</th>\n",
       "      <th>...</th>\n",
       "      <th>Num_cores_Dual</th>\n",
       "      <th>Num_cores_Hexa</th>\n",
       "      <th>Num_cores_Octa</th>\n",
       "      <th>Num_cores_Other</th>\n",
       "      <th>Num_cores_Quad</th>\n",
       "      <th>Num_cores_Tru-Octa</th>\n",
       "      <th>SIM 2_2G</th>\n",
       "      <th>SIM 2_3G</th>\n",
       "      <th>SIM 2_4G</th>\n",
       "      <th>SIM 2_Other</th>\n",
       "    </tr>\n",
       "  </thead>\n",
       "  <tbody>\n",
       "    <tr>\n",
       "      <th>0</th>\n",
       "      <td>3</td>\n",
       "      <td>6.20</td>\n",
       "      <td>4230</td>\n",
       "      <td>16</td>\n",
       "      <td>1.8</td>\n",
       "      <td>156.2</td>\n",
       "      <td>271</td>\n",
       "      <td>80.85</td>\n",
       "      <td>168</td>\n",
       "      <td>5</td>\n",
       "      <td>...</td>\n",
       "      <td>0</td>\n",
       "      <td>0</td>\n",
       "      <td>1</td>\n",
       "      <td>0</td>\n",
       "      <td>0</td>\n",
       "      <td>0</td>\n",
       "      <td>0</td>\n",
       "      <td>0</td>\n",
       "      <td>1</td>\n",
       "      <td>0</td>\n",
       "    </tr>\n",
       "    <tr>\n",
       "      <th>1</th>\n",
       "      <td>11</td>\n",
       "      <td>6.20</td>\n",
       "      <td>5000</td>\n",
       "      <td>64</td>\n",
       "      <td>1.8</td>\n",
       "      <td>156.0</td>\n",
       "      <td>402</td>\n",
       "      <td>81.60</td>\n",
       "      <td>205</td>\n",
       "      <td>12</td>\n",
       "      <td>...</td>\n",
       "      <td>0</td>\n",
       "      <td>0</td>\n",
       "      <td>1</td>\n",
       "      <td>0</td>\n",
       "      <td>0</td>\n",
       "      <td>0</td>\n",
       "      <td>0</td>\n",
       "      <td>0</td>\n",
       "      <td>1</td>\n",
       "      <td>0</td>\n",
       "    </tr>\n",
       "    <tr>\n",
       "      <th>2</th>\n",
       "      <td>13</td>\n",
       "      <td>6.30</td>\n",
       "      <td>3500</td>\n",
       "      <td>64</td>\n",
       "      <td>2.0</td>\n",
       "      <td>156.7</td>\n",
       "      <td>409</td>\n",
       "      <td>83.84</td>\n",
       "      <td>169</td>\n",
       "      <td>25</td>\n",
       "      <td>...</td>\n",
       "      <td>0</td>\n",
       "      <td>0</td>\n",
       "      <td>1</td>\n",
       "      <td>0</td>\n",
       "      <td>0</td>\n",
       "      <td>0</td>\n",
       "      <td>0</td>\n",
       "      <td>0</td>\n",
       "      <td>1</td>\n",
       "      <td>0</td>\n",
       "    </tr>\n",
       "    <tr>\n",
       "      <th>3</th>\n",
       "      <td>16</td>\n",
       "      <td>6.30</td>\n",
       "      <td>3500</td>\n",
       "      <td>64</td>\n",
       "      <td>2.0</td>\n",
       "      <td>156.7</td>\n",
       "      <td>409</td>\n",
       "      <td>83.84</td>\n",
       "      <td>169</td>\n",
       "      <td>16</td>\n",
       "      <td>...</td>\n",
       "      <td>0</td>\n",
       "      <td>0</td>\n",
       "      <td>1</td>\n",
       "      <td>0</td>\n",
       "      <td>0</td>\n",
       "      <td>0</td>\n",
       "      <td>0</td>\n",
       "      <td>0</td>\n",
       "      <td>1</td>\n",
       "      <td>0</td>\n",
       "    </tr>\n",
       "    <tr>\n",
       "      <th>4</th>\n",
       "      <td>19</td>\n",
       "      <td>5.99</td>\n",
       "      <td>4000</td>\n",
       "      <td>64</td>\n",
       "      <td>1.8</td>\n",
       "      <td>158.6</td>\n",
       "      <td>403</td>\n",
       "      <td>77.43</td>\n",
       "      <td>181</td>\n",
       "      <td>20</td>\n",
       "      <td>...</td>\n",
       "      <td>0</td>\n",
       "      <td>0</td>\n",
       "      <td>1</td>\n",
       "      <td>0</td>\n",
       "      <td>0</td>\n",
       "      <td>0</td>\n",
       "      <td>0</td>\n",
       "      <td>0</td>\n",
       "      <td>1</td>\n",
       "      <td>0</td>\n",
       "    </tr>\n",
       "  </tbody>\n",
       "</table>\n",
       "<p>5 rows × 87 columns</p>\n",
       "</div>"
      ],
      "text/plain": [
       "   PhoneId  Screen Size  Capacity  Internal Memory  Processor_frequency  \\\n",
       "0        3         6.20      4230               16                  1.8   \n",
       "1       11         6.20      5000               64                  1.8   \n",
       "2       13         6.30      3500               64                  2.0   \n",
       "3       16         6.30      3500               64                  2.0   \n",
       "4       19         5.99      4000               64                  1.8   \n",
       "\n",
       "   Height  Pixel Density  Screen to Body Ratio (calculated)  Weight  \\\n",
       "0   156.2            271                              80.85     168   \n",
       "1   156.0            402                              81.60     205   \n",
       "2   156.7            409                              83.84     169   \n",
       "3   156.7            409                              83.84     169   \n",
       "4   158.6            403                              77.43     181   \n",
       "\n",
       "   Resolution  ...  Num_cores_Dual  Num_cores_Hexa  Num_cores_Octa  \\\n",
       "0           5  ...               0               0               1   \n",
       "1          12  ...               0               0               1   \n",
       "2          25  ...               0               0               1   \n",
       "3          16  ...               0               0               1   \n",
       "4          20  ...               0               0               1   \n",
       "\n",
       "   Num_cores_Other  Num_cores_Quad  Num_cores_Tru-Octa  SIM 2_2G  SIM 2_3G  \\\n",
       "0                0               0                   0         0         0   \n",
       "1                0               0                   0         0         0   \n",
       "2                0               0                   0         0         0   \n",
       "3                0               0                   0         0         0   \n",
       "4                0               0                   0         0         0   \n",
       "\n",
       "   SIM 2_4G  SIM 2_Other  \n",
       "0         1            0  \n",
       "1         1            0  \n",
       "2         1            0  \n",
       "3         1            0  \n",
       "4         1            0  \n",
       "\n",
       "[5 rows x 87 columns]"
      ]
     },
     "execution_count": 25,
     "metadata": {},
     "output_type": "execute_result"
    }
   ],
   "source": [
    "test_new.head()"
   ]
  },
  {
   "cell_type": "code",
   "execution_count": 26,
   "id": "d8ee116c",
   "metadata": {
    "execution": {
     "iopub.execute_input": "2022-01-17T11:43:26.897605Z",
     "iopub.status.busy": "2022-01-17T11:43:26.896936Z",
     "iopub.status.idle": "2022-01-17T11:43:26.902069Z",
     "shell.execute_reply": "2022-01-17T11:43:26.902522Z",
     "shell.execute_reply.started": "2022-01-17T11:34:17.101189Z"
    },
    "id": "RDS3UQKIzR9E",
    "papermill": {
     "duration": 0.057637,
     "end_time": "2022-01-17T11:43:26.902707",
     "exception": false,
     "start_time": "2022-01-17T11:43:26.845070",
     "status": "completed"
    },
    "tags": []
   },
   "outputs": [
    {
     "data": {
      "text/plain": [
       "0        3\n",
       "1       11\n",
       "2       13\n",
       "3       16\n",
       "4       19\n",
       "      ... \n",
       "114    464\n",
       "115    467\n",
       "116    469\n",
       "117    471\n",
       "118    473\n",
       "Name: PhoneId, Length: 119, dtype: int64"
      ]
     },
     "execution_count": 26,
     "metadata": {},
     "output_type": "execute_result"
    }
   ],
   "source": [
    "phoneId = test_new[\"PhoneId\"]\n",
    "phoneId"
   ]
  },
  {
   "cell_type": "code",
   "execution_count": 27,
   "id": "5236ae57",
   "metadata": {
    "execution": {
     "iopub.execute_input": "2022-01-17T11:43:27.013747Z",
     "iopub.status.busy": "2022-01-17T11:43:27.005338Z",
     "iopub.status.idle": "2022-01-17T11:43:27.017175Z",
     "shell.execute_reply": "2022-01-17T11:43:27.017644Z",
     "shell.execute_reply.started": "2022-01-17T11:34:17.115718Z"
    },
    "id": "RPsuuqmYzTk2",
    "papermill": {
     "duration": 0.065488,
     "end_time": "2022-01-17T11:43:27.017825",
     "exception": false,
     "start_time": "2022-01-17T11:43:26.952337",
     "status": "completed"
    },
    "tags": []
   },
   "outputs": [
    {
     "data": {
      "text/plain": [
       "4.3    44\n",
       "4.1    41\n",
       "4.4    41\n",
       "4.0    38\n",
       "4.2    33\n",
       "3.9    29\n",
       "4.5    25\n",
       "3.8    16\n",
       "3.7    14\n",
       "3.4    11\n",
       "4.6    10\n",
       "3.5    10\n",
       "3.6     8\n",
       "3.3     5\n",
       "3.0     4\n",
       "5.0     2\n",
       "4.8     2\n",
       "4.7     2\n",
       "3.1     2\n",
       "2.8     2\n",
       "3.2     1\n",
       "2.5     1\n",
       "Name: Rating, dtype: int64"
      ]
     },
     "execution_count": 27,
     "metadata": {},
     "output_type": "execute_result"
    }
   ],
   "source": [
    "train_new[\"Rating\"].value_counts()"
   ]
  },
  {
   "cell_type": "code",
   "execution_count": 28,
   "id": "e2d96fdf",
   "metadata": {
    "execution": {
     "iopub.execute_input": "2022-01-17T11:43:27.121749Z",
     "iopub.status.busy": "2022-01-17T11:43:27.119298Z",
     "iopub.status.idle": "2022-01-17T11:43:27.124689Z",
     "shell.execute_reply": "2022-01-17T11:43:27.124178Z",
     "shell.execute_reply.started": "2022-01-17T11:34:17.131727Z"
    },
    "id": "H7eVGkElzVQo",
    "papermill": {
     "duration": 0.057051,
     "end_time": "2022-01-17T11:43:27.124830",
     "exception": false,
     "start_time": "2022-01-17T11:43:27.067779",
     "status": "completed"
    },
    "tags": []
   },
   "outputs": [
    {
     "data": {
      "text/plain": [
       "4.1"
      ]
     },
     "execution_count": 28,
     "metadata": {},
     "output_type": "execute_result"
    }
   ],
   "source": [
    "train_new[\"Rating\"].median()"
   ]
  },
  {
   "cell_type": "code",
   "execution_count": 29,
   "id": "63b7ff37",
   "metadata": {
    "execution": {
     "iopub.execute_input": "2022-01-17T11:43:27.226276Z",
     "iopub.status.busy": "2022-01-17T11:43:27.225665Z",
     "iopub.status.idle": "2022-01-17T11:43:27.416942Z",
     "shell.execute_reply": "2022-01-17T11:43:27.417470Z",
     "shell.execute_reply.started": "2022-01-17T11:34:17.141453Z"
    },
    "id": "ll6NSgmRzWyc",
    "papermill": {
     "duration": 0.243765,
     "end_time": "2022-01-17T11:43:27.417666",
     "exception": false,
     "start_time": "2022-01-17T11:43:27.173901",
     "status": "completed"
    },
    "tags": []
   },
   "outputs": [
    {
     "data": {
      "text/html": [
       "<div>\n",
       "<style scoped>\n",
       "    .dataframe tbody tr th:only-of-type {\n",
       "        vertical-align: middle;\n",
       "    }\n",
       "\n",
       "    .dataframe tbody tr th {\n",
       "        vertical-align: top;\n",
       "    }\n",
       "\n",
       "    .dataframe thead th {\n",
       "        text-align: right;\n",
       "    }\n",
       "</style>\n",
       "<table border=\"1\" class=\"dataframe\">\n",
       "  <thead>\n",
       "    <tr style=\"text-align: right;\">\n",
       "      <th></th>\n",
       "      <th>PhoneId</th>\n",
       "      <th>Screen Size</th>\n",
       "      <th>Capacity</th>\n",
       "      <th>Internal Memory</th>\n",
       "      <th>Processor_frequency</th>\n",
       "      <th>Height</th>\n",
       "      <th>Pixel Density</th>\n",
       "      <th>Screen to Body Ratio (calculated)</th>\n",
       "      <th>Weight</th>\n",
       "      <th>Resolution</th>\n",
       "      <th>...</th>\n",
       "      <th>Num_cores_Hexa</th>\n",
       "      <th>Num_cores_Octa</th>\n",
       "      <th>Num_cores_Other</th>\n",
       "      <th>Num_cores_Quad</th>\n",
       "      <th>Num_cores_Tru-Octa</th>\n",
       "      <th>SIM 2_2G</th>\n",
       "      <th>SIM 2_3G</th>\n",
       "      <th>SIM 2_4G</th>\n",
       "      <th>SIM 2_Other</th>\n",
       "      <th>Rating</th>\n",
       "    </tr>\n",
       "  </thead>\n",
       "  <tbody>\n",
       "    <tr>\n",
       "      <th>count</th>\n",
       "      <td>341.000000</td>\n",
       "      <td>341.000000</td>\n",
       "      <td>341.000000</td>\n",
       "      <td>341.000000</td>\n",
       "      <td>341.000000</td>\n",
       "      <td>341.000000</td>\n",
       "      <td>341.000000</td>\n",
       "      <td>341.000000</td>\n",
       "      <td>341.000000</td>\n",
       "      <td>341.000000</td>\n",
       "      <td>...</td>\n",
       "      <td>341.000000</td>\n",
       "      <td>341.000000</td>\n",
       "      <td>341.000000</td>\n",
       "      <td>341.000000</td>\n",
       "      <td>341.000000</td>\n",
       "      <td>341.000000</td>\n",
       "      <td>341.000000</td>\n",
       "      <td>341.000000</td>\n",
       "      <td>341.000000</td>\n",
       "      <td>341.000000</td>\n",
       "    </tr>\n",
       "    <tr>\n",
       "      <th>mean</th>\n",
       "      <td>232.970674</td>\n",
       "      <td>5.462317</td>\n",
       "      <td>3191.307918</td>\n",
       "      <td>46.369501</td>\n",
       "      <td>1.792551</td>\n",
       "      <td>149.946394</td>\n",
       "      <td>344.211144</td>\n",
       "      <td>72.353343</td>\n",
       "      <td>161.343109</td>\n",
       "      <td>9.592375</td>\n",
       "      <td>...</td>\n",
       "      <td>0.035191</td>\n",
       "      <td>0.580645</td>\n",
       "      <td>0.017595</td>\n",
       "      <td>0.325513</td>\n",
       "      <td>0.002933</td>\n",
       "      <td>0.211144</td>\n",
       "      <td>0.020528</td>\n",
       "      <td>0.683284</td>\n",
       "      <td>0.085044</td>\n",
       "      <td>4.072434</td>\n",
       "    </tr>\n",
       "    <tr>\n",
       "      <th>std</th>\n",
       "      <td>137.231746</td>\n",
       "      <td>0.742529</td>\n",
       "      <td>932.533527</td>\n",
       "      <td>46.435453</td>\n",
       "      <td>0.451598</td>\n",
       "      <td>9.192305</td>\n",
       "      <td>88.161129</td>\n",
       "      <td>9.357839</td>\n",
       "      <td>22.305556</td>\n",
       "      <td>5.953827</td>\n",
       "      <td>...</td>\n",
       "      <td>0.184532</td>\n",
       "      <td>0.494179</td>\n",
       "      <td>0.131668</td>\n",
       "      <td>0.469255</td>\n",
       "      <td>0.054153</td>\n",
       "      <td>0.408720</td>\n",
       "      <td>0.142006</td>\n",
       "      <td>0.465879</td>\n",
       "      <td>0.279357</td>\n",
       "      <td>0.377066</td>\n",
       "    </tr>\n",
       "    <tr>\n",
       "      <th>min</th>\n",
       "      <td>0.000000</td>\n",
       "      <td>2.400000</td>\n",
       "      <td>1020.000000</td>\n",
       "      <td>0.000000</td>\n",
       "      <td>1.000000</td>\n",
       "      <td>115.600000</td>\n",
       "      <td>143.000000</td>\n",
       "      <td>23.600000</td>\n",
       "      <td>58.000000</td>\n",
       "      <td>2.000000</td>\n",
       "      <td>...</td>\n",
       "      <td>0.000000</td>\n",
       "      <td>0.000000</td>\n",
       "      <td>0.000000</td>\n",
       "      <td>0.000000</td>\n",
       "      <td>0.000000</td>\n",
       "      <td>0.000000</td>\n",
       "      <td>0.000000</td>\n",
       "      <td>0.000000</td>\n",
       "      <td>0.000000</td>\n",
       "      <td>2.500000</td>\n",
       "    </tr>\n",
       "    <tr>\n",
       "      <th>25%</th>\n",
       "      <td>110.000000</td>\n",
       "      <td>5.200000</td>\n",
       "      <td>2900.000000</td>\n",
       "      <td>16.000000</td>\n",
       "      <td>1.400000</td>\n",
       "      <td>146.200000</td>\n",
       "      <td>282.000000</td>\n",
       "      <td>68.800000</td>\n",
       "      <td>150.000000</td>\n",
       "      <td>5.000000</td>\n",
       "      <td>...</td>\n",
       "      <td>0.000000</td>\n",
       "      <td>0.000000</td>\n",
       "      <td>0.000000</td>\n",
       "      <td>0.000000</td>\n",
       "      <td>0.000000</td>\n",
       "      <td>0.000000</td>\n",
       "      <td>0.000000</td>\n",
       "      <td>0.000000</td>\n",
       "      <td>0.000000</td>\n",
       "      <td>3.900000</td>\n",
       "    </tr>\n",
       "    <tr>\n",
       "      <th>50%</th>\n",
       "      <td>229.000000</td>\n",
       "      <td>5.500000</td>\n",
       "      <td>3055.000000</td>\n",
       "      <td>32.000000</td>\n",
       "      <td>1.800000</td>\n",
       "      <td>151.300000</td>\n",
       "      <td>326.000000</td>\n",
       "      <td>72.500000</td>\n",
       "      <td>161.000000</td>\n",
       "      <td>8.000000</td>\n",
       "      <td>...</td>\n",
       "      <td>0.000000</td>\n",
       "      <td>1.000000</td>\n",
       "      <td>0.000000</td>\n",
       "      <td>0.000000</td>\n",
       "      <td>0.000000</td>\n",
       "      <td>0.000000</td>\n",
       "      <td>0.000000</td>\n",
       "      <td>1.000000</td>\n",
       "      <td>0.000000</td>\n",
       "      <td>4.100000</td>\n",
       "    </tr>\n",
       "    <tr>\n",
       "      <th>75%</th>\n",
       "      <td>354.000000</td>\n",
       "      <td>6.000000</td>\n",
       "      <td>3750.000000</td>\n",
       "      <td>64.000000</td>\n",
       "      <td>2.200000</td>\n",
       "      <td>156.200000</td>\n",
       "      <td>403.000000</td>\n",
       "      <td>77.480000</td>\n",
       "      <td>172.000000</td>\n",
       "      <td>13.000000</td>\n",
       "      <td>...</td>\n",
       "      <td>0.000000</td>\n",
       "      <td>1.000000</td>\n",
       "      <td>0.000000</td>\n",
       "      <td>1.000000</td>\n",
       "      <td>0.000000</td>\n",
       "      <td>0.000000</td>\n",
       "      <td>0.000000</td>\n",
       "      <td>1.000000</td>\n",
       "      <td>0.000000</td>\n",
       "      <td>4.300000</td>\n",
       "    </tr>\n",
       "    <tr>\n",
       "      <th>max</th>\n",
       "      <td>472.000000</td>\n",
       "      <td>6.590000</td>\n",
       "      <td>13000.000000</td>\n",
       "      <td>512.000000</td>\n",
       "      <td>2.800000</td>\n",
       "      <td>174.100000</td>\n",
       "      <td>576.000000</td>\n",
       "      <td>87.660000</td>\n",
       "      <td>330.000000</td>\n",
       "      <td>25.000000</td>\n",
       "      <td>...</td>\n",
       "      <td>1.000000</td>\n",
       "      <td>1.000000</td>\n",
       "      <td>1.000000</td>\n",
       "      <td>1.000000</td>\n",
       "      <td>1.000000</td>\n",
       "      <td>1.000000</td>\n",
       "      <td>1.000000</td>\n",
       "      <td>1.000000</td>\n",
       "      <td>1.000000</td>\n",
       "      <td>5.000000</td>\n",
       "    </tr>\n",
       "  </tbody>\n",
       "</table>\n",
       "<p>8 rows × 88 columns</p>\n",
       "</div>"
      ],
      "text/plain": [
       "          PhoneId  Screen Size      Capacity  Internal Memory  \\\n",
       "count  341.000000   341.000000    341.000000       341.000000   \n",
       "mean   232.970674     5.462317   3191.307918        46.369501   \n",
       "std    137.231746     0.742529    932.533527        46.435453   \n",
       "min      0.000000     2.400000   1020.000000         0.000000   \n",
       "25%    110.000000     5.200000   2900.000000        16.000000   \n",
       "50%    229.000000     5.500000   3055.000000        32.000000   \n",
       "75%    354.000000     6.000000   3750.000000        64.000000   \n",
       "max    472.000000     6.590000  13000.000000       512.000000   \n",
       "\n",
       "       Processor_frequency      Height  Pixel Density  \\\n",
       "count           341.000000  341.000000     341.000000   \n",
       "mean              1.792551  149.946394     344.211144   \n",
       "std               0.451598    9.192305      88.161129   \n",
       "min               1.000000  115.600000     143.000000   \n",
       "25%               1.400000  146.200000     282.000000   \n",
       "50%               1.800000  151.300000     326.000000   \n",
       "75%               2.200000  156.200000     403.000000   \n",
       "max               2.800000  174.100000     576.000000   \n",
       "\n",
       "       Screen to Body Ratio (calculated)      Weight  Resolution  ...  \\\n",
       "count                         341.000000  341.000000  341.000000  ...   \n",
       "mean                           72.353343  161.343109    9.592375  ...   \n",
       "std                             9.357839   22.305556    5.953827  ...   \n",
       "min                            23.600000   58.000000    2.000000  ...   \n",
       "25%                            68.800000  150.000000    5.000000  ...   \n",
       "50%                            72.500000  161.000000    8.000000  ...   \n",
       "75%                            77.480000  172.000000   13.000000  ...   \n",
       "max                            87.660000  330.000000   25.000000  ...   \n",
       "\n",
       "       Num_cores_Hexa  Num_cores_Octa  Num_cores_Other  Num_cores_Quad  \\\n",
       "count      341.000000      341.000000       341.000000      341.000000   \n",
       "mean         0.035191        0.580645         0.017595        0.325513   \n",
       "std          0.184532        0.494179         0.131668        0.469255   \n",
       "min          0.000000        0.000000         0.000000        0.000000   \n",
       "25%          0.000000        0.000000         0.000000        0.000000   \n",
       "50%          0.000000        1.000000         0.000000        0.000000   \n",
       "75%          0.000000        1.000000         0.000000        1.000000   \n",
       "max          1.000000        1.000000         1.000000        1.000000   \n",
       "\n",
       "       Num_cores_Tru-Octa    SIM 2_2G    SIM 2_3G    SIM 2_4G  SIM 2_Other  \\\n",
       "count          341.000000  341.000000  341.000000  341.000000   341.000000   \n",
       "mean             0.002933    0.211144    0.020528    0.683284     0.085044   \n",
       "std              0.054153    0.408720    0.142006    0.465879     0.279357   \n",
       "min              0.000000    0.000000    0.000000    0.000000     0.000000   \n",
       "25%              0.000000    0.000000    0.000000    0.000000     0.000000   \n",
       "50%              0.000000    0.000000    0.000000    1.000000     0.000000   \n",
       "75%              0.000000    0.000000    0.000000    1.000000     0.000000   \n",
       "max              1.000000    1.000000    1.000000    1.000000     1.000000   \n",
       "\n",
       "           Rating  \n",
       "count  341.000000  \n",
       "mean     4.072434  \n",
       "std      0.377066  \n",
       "min      2.500000  \n",
       "25%      3.900000  \n",
       "50%      4.100000  \n",
       "75%      4.300000  \n",
       "max      5.000000  \n",
       "\n",
       "[8 rows x 88 columns]"
      ]
     },
     "execution_count": 29,
     "metadata": {},
     "output_type": "execute_result"
    }
   ],
   "source": [
    "train_new.describe()"
   ]
  },
  {
   "cell_type": "code",
   "execution_count": 30,
   "id": "cb2e0066",
   "metadata": {
    "execution": {
     "iopub.execute_input": "2022-01-17T11:43:27.521690Z",
     "iopub.status.busy": "2022-01-17T11:43:27.521006Z",
     "iopub.status.idle": "2022-01-17T11:43:27.524593Z",
     "shell.execute_reply": "2022-01-17T11:43:27.525110Z",
     "shell.execute_reply.started": "2022-01-17T11:34:17.382318Z"
    },
    "papermill": {
     "duration": 0.056622,
     "end_time": "2022-01-17T11:43:27.525284",
     "exception": false,
     "start_time": "2022-01-17T11:43:27.468662",
     "status": "completed"
    },
    "tags": []
   },
   "outputs": [],
   "source": [
    "train = train_new.copy()\n",
    "test = test_new.copy()"
   ]
  },
  {
   "cell_type": "markdown",
   "id": "e2981473",
   "metadata": {
    "papermill": {
     "duration": 0.049728,
     "end_time": "2022-01-17T11:43:27.624670",
     "exception": false,
     "start_time": "2022-01-17T11:43:27.574942",
     "status": "completed"
    },
    "tags": []
   },
   "source": [
    "## Visualise Data"
   ]
  },
  {
   "cell_type": "code",
   "execution_count": 31,
   "id": "1fc450aa",
   "metadata": {
    "execution": {
     "iopub.execute_input": "2022-01-17T11:43:27.729358Z",
     "iopub.status.busy": "2022-01-17T11:43:27.728379Z",
     "iopub.status.idle": "2022-01-17T11:43:28.090929Z",
     "shell.execute_reply": "2022-01-17T11:43:28.091383Z",
     "shell.execute_reply.started": "2022-01-17T11:34:17.388642Z"
    },
    "papermill": {
     "duration": 0.416013,
     "end_time": "2022-01-17T11:43:28.091569",
     "exception": false,
     "start_time": "2022-01-17T11:43:27.675556",
     "status": "completed"
    },
    "tags": []
   },
   "outputs": [
    {
     "data": {
      "image/png": "[encoded data removed]",
      "text/plain": [
       "<Figure size 432x288 with 1 Axes>"
      ]
     },
     "metadata": {
      "needs_background": "light"
     },
     "output_type": "display_data"
    }
   ],
   "source": [
    "plt.plot(train,'*')\n",
    "plt.show()"
   ]
  },
  {
   "cell_type": "code",
   "execution_count": 32,
   "id": "cfc0604e",
   "metadata": {
    "execution": {
     "iopub.execute_input": "2022-01-17T11:43:28.211092Z",
     "iopub.status.busy": "2022-01-17T11:43:28.210037Z",
     "iopub.status.idle": "2022-01-17T11:43:30.052080Z",
     "shell.execute_reply": "2022-01-17T11:43:30.052601Z",
     "shell.execute_reply.started": "2022-01-17T11:34:17.778880Z"
    },
    "papermill": {
     "duration": 1.910458,
     "end_time": "2022-01-17T11:43:30.052779",
     "exception": false,
     "start_time": "2022-01-17T11:43:28.142321",
     "status": "completed"
    },
    "tags": []
   },
   "outputs": [
    {
     "data": {
      "image/png": "[encoded data removed]",
      "text/plain": [
       "<Figure size 432x288 with 1 Axes>"
      ]
     },
     "metadata": {
      "needs_background": "light"
     },
     "output_type": "display_data"
    }
   ],
   "source": [
    "plt.plot(train.T,'*')\n",
    "plt.xticks(rotation='vertical')\n",
    "plt.show()"
   ]
  },
  {
   "cell_type": "markdown",
   "id": "142501ae",
   "metadata": {
    "papermill": {
     "duration": 0.051909,
     "end_time": "2022-01-17T11:43:30.157792",
     "exception": false,
     "start_time": "2022-01-17T11:43:30.105883",
     "status": "completed"
    },
    "tags": []
   },
   "source": [
    "## "
   ]
  },
  {
   "cell_type": "markdown",
   "id": "6ddeca93",
   "metadata": {
    "papermill": {
     "duration": 0.051693,
     "end_time": "2022-01-17T11:43:30.261495",
     "exception": false,
     "start_time": "2022-01-17T11:43:30.209802",
     "status": "completed"
    },
    "tags": []
   },
   "source": [
    "## Converting Categorical values into Numeric"
   ]
  },
  {
   "cell_type": "code",
   "execution_count": 33,
   "id": "2b8e3701",
   "metadata": {
    "execution": {
     "iopub.execute_input": "2022-01-17T11:43:30.369626Z",
     "iopub.status.busy": "2022-01-17T11:43:30.368663Z",
     "iopub.status.idle": "2022-01-17T11:43:32.647079Z",
     "shell.execute_reply": "2022-01-17T11:43:32.647552Z",
     "shell.execute_reply.started": "2022-01-17T11:34:19.881448Z"
    },
    "papermill": {
     "duration": 2.333901,
     "end_time": "2022-01-17T11:43:32.647750",
     "exception": false,
     "start_time": "2022-01-17T11:43:30.313849",
     "status": "completed"
    },
    "tags": []
   },
   "outputs": [],
   "source": [
    " for f in train:\n",
    "    train[f]=train[f].apply(lambda x: 1 if x>=train[f].mean() else 0)\n",
    "    if f!=\"Rating\":\n",
    "        test[f]=test[f].apply(lambda x: 1 if x>=train[f].mean() else 0)"
   ]
  },
  {
   "cell_type": "markdown",
   "id": "29aba146",
   "metadata": {
    "papermill": {
     "duration": 0.052916,
     "end_time": "2022-01-17T11:43:32.752842",
     "exception": false,
     "start_time": "2022-01-17T11:43:32.699926",
     "status": "completed"
    },
    "tags": []
   },
   "source": [
    "## Binarisation of Input"
   ]
  },
  {
   "cell_type": "code",
   "execution_count": 34,
   "id": "ec682a4f",
   "metadata": {
    "execution": {
     "iopub.execute_input": "2022-01-17T11:43:32.864226Z",
     "iopub.status.busy": "2022-01-17T11:43:32.863218Z",
     "iopub.status.idle": "2022-01-17T11:43:33.099011Z",
     "shell.execute_reply": "2022-01-17T11:43:33.099564Z",
     "shell.execute_reply.started": "2022-01-17T11:34:23.112781Z"
    },
    "papermill": {
     "duration": 0.294988,
     "end_time": "2022-01-17T11:43:33.099760",
     "exception": false,
     "start_time": "2022-01-17T11:43:32.804772",
     "status": "completed"
    },
    "tags": []
   },
   "outputs": [],
   "source": [
    "X_binarised_train = train_new.apply(pd.cut ,bins = 2, labels = [1,0])\n",
    "X_binarised_test = test_new.apply(pd.cut ,bins = 2, labels = [1,0])\n",
    "\n",
    "x_train = X_binarised_train.drop(\"Rating\",axis = 1).values\n",
    "y_train = X_binarised_train[\"Rating\"].values\n",
    "\n"
   ]
  },
  {
   "cell_type": "code",
   "execution_count": 35,
   "id": "18769aff",
   "metadata": {
    "execution": {
     "iopub.execute_input": "2022-01-17T11:43:33.207947Z",
     "iopub.status.busy": "2022-01-17T11:43:33.206997Z",
     "iopub.status.idle": "2022-01-17T11:43:33.222522Z",
     "shell.execute_reply": "2022-01-17T11:43:33.223063Z",
     "shell.execute_reply.started": "2022-01-17T11:34:23.399997Z"
    },
    "papermill": {
     "duration": 0.071203,
     "end_time": "2022-01-17T11:43:33.223234",
     "exception": false,
     "start_time": "2022-01-17T11:43:33.152031",
     "status": "completed"
    },
    "tags": []
   },
   "outputs": [],
   "source": [
    "x_train = train.drop(\"Rating\",axis = 1).values\n",
    "y_train = train[\"Rating\"].values\n",
    "\n",
    "x_test = test.values\n",
    "x_test = X_binarised_test.values"
   ]
  },
  {
   "cell_type": "markdown",
   "id": "187ad417",
   "metadata": {
    "papermill": {
     "duration": 0.051731,
     "end_time": "2022-01-17T11:43:33.327129",
     "exception": false,
     "start_time": "2022-01-17T11:43:33.275398",
     "status": "completed"
    },
    "tags": []
   },
   "source": [
    "## MP Neuron"
   ]
  },
  {
   "cell_type": "code",
   "execution_count": 36,
   "id": "8e2329ef",
   "metadata": {
    "execution": {
     "iopub.execute_input": "2022-01-17T11:43:33.435153Z",
     "iopub.status.busy": "2022-01-17T11:43:33.434209Z",
     "iopub.status.idle": "2022-01-17T11:43:33.441922Z",
     "shell.execute_reply": "2022-01-17T11:43:33.442470Z",
     "shell.execute_reply.started": "2022-01-17T11:34:23.422800Z"
    },
    "papermill": {
     "duration": 0.063551,
     "end_time": "2022-01-17T11:43:33.442653",
     "exception": false,
     "start_time": "2022-01-17T11:43:33.379102",
     "status": "completed"
    },
    "tags": []
   },
   "outputs": [],
   "source": [
    "class MPNeuron:\n",
    "\n",
    "  def __init__(self):\n",
    "    self.b = None\n",
    "  \n",
    "  def model(self,x):\n",
    "    return(sum(x)>=self.b)\n",
    "  \n",
    "  def predict(self,X):\n",
    "    Y = []\n",
    "    for x in X:\n",
    "      result = self.model(x)\n",
    "      Y.append(result)\n",
    "    return np.array(Y)\n",
    "\n",
    "  def fit(self,X,Y):\n",
    "    accuracy = {}\n",
    "\n",
    "    for b in range(X.shape[1]+1):\n",
    "      self.b = b\n",
    "      Y_pred = self.predict(X)\n",
    "      accuracy[b] = accuracy_score(Y_pred,Y)\n",
    "\n",
    "    best_b = max(accuracy, key=accuracy.get)\n",
    "    self.b = best_b\n",
    "\n",
    "    print('optimal value of b is',best_b)\n",
    "    print('Highest accuracy is',accuracy[best_b])"
   ]
  },
  {
   "cell_type": "code",
   "execution_count": 37,
   "id": "a49d8667",
   "metadata": {
    "execution": {
     "iopub.execute_input": "2022-01-17T11:43:33.551005Z",
     "iopub.status.busy": "2022-01-17T11:43:33.550058Z",
     "iopub.status.idle": "2022-01-17T11:43:34.676188Z",
     "shell.execute_reply": "2022-01-17T11:43:34.676662Z",
     "shell.execute_reply.started": "2022-01-17T11:34:23.431623Z"
    },
    "papermill": {
     "duration": 1.181744,
     "end_time": "2022-01-17T11:43:34.676842",
     "exception": false,
     "start_time": "2022-01-17T11:43:33.495098",
     "status": "completed"
    },
    "tags": []
   },
   "outputs": [
    {
     "name": "stdout",
     "output_type": "stream",
     "text": [
      "optimal value of b is 14\n",
      "Highest accuracy is 0.6363636363636364\n"
     ]
    }
   ],
   "source": [
    "mp_neuron = MPNeuron()\n",
    "mp_neuron.fit(x_train,y_train)"
   ]
  },
  {
   "cell_type": "markdown",
   "id": "1453169c",
   "metadata": {
    "papermill": {
     "duration": 0.05217,
     "end_time": "2022-01-17T11:43:34.782250",
     "exception": false,
     "start_time": "2022-01-17T11:43:34.730080",
     "status": "completed"
    },
    "tags": []
   },
   "source": [
    "## Testing"
   ]
  },
  {
   "cell_type": "code",
   "execution_count": 38,
   "id": "1b616131",
   "metadata": {
    "execution": {
     "iopub.execute_input": "2022-01-17T11:43:34.891911Z",
     "iopub.status.busy": "2022-01-17T11:43:34.890952Z",
     "iopub.status.idle": "2022-01-17T11:43:34.895269Z",
     "shell.execute_reply": "2022-01-17T11:43:34.895892Z",
     "shell.execute_reply.started": "2022-01-17T11:42:00.884761Z"
    },
    "papermill": {
     "duration": 0.061523,
     "end_time": "2022-01-17T11:43:34.896057",
     "exception": false,
     "start_time": "2022-01-17T11:43:34.834534",
     "status": "completed"
    },
    "tags": []
   },
   "outputs": [],
   "source": [
    "y_pred = mp_neuron.predict(x_test)"
   ]
  },
  {
   "cell_type": "markdown",
   "id": "48992ac1",
   "metadata": {
    "papermill": {
     "duration": 0.052918,
     "end_time": "2022-01-17T11:43:35.002763",
     "exception": false,
     "start_time": "2022-01-17T11:43:34.949845",
     "status": "completed"
    },
    "tags": []
   },
   "source": [
    "## Submisssion"
   ]
  },
  {
   "cell_type": "code",
   "execution_count": 39,
   "id": "d5483bb3",
   "metadata": {
    "execution": {
     "iopub.execute_input": "2022-01-17T11:43:35.111756Z",
     "iopub.status.busy": "2022-01-17T11:43:35.111094Z",
     "iopub.status.idle": "2022-01-17T11:43:35.118295Z",
     "shell.execute_reply": "2022-01-17T11:43:35.118890Z",
     "shell.execute_reply.started": "2022-01-17T11:42:48.175656Z"
    },
    "papermill": {
     "duration": 0.063718,
     "end_time": "2022-01-17T11:43:35.119073",
     "exception": false,
     "start_time": "2022-01-17T11:43:35.055355",
     "status": "completed"
    },
    "tags": []
   },
   "outputs": [],
   "source": [
    "submission = pd.DataFrame({'PhoneId':phoneId, 'Class':y_pred})\n",
    "submission.to_csv(\"submission.csv\", index=False)"
   ]
  },
  {
   "cell_type": "code",
   "execution_count": null,
   "id": "0849fd7e",
   "metadata": {
    "papermill": {
     "duration": 0.052906,
     "end_time": "2022-01-17T11:43:35.225115",
     "exception": false,
     "start_time": "2022-01-17T11:43:35.172209",
     "status": "completed"
    },
    "tags": []
   },
   "outputs": [],
   "source": []
  }
 ],
 "metadata": {
  "kernelspec": {
   "display_name": "Python 3",
   "language": "python",
   "name": "python3"
  },
  "language_info": {
   "codemirror_mode": {
    "name": "ipython",
    "version": 3
   },
   "file_extension": ".py",
   "mimetype": "text/x-python",
   "name": "python",
   "nbconvert_exporter": "python",
   "pygments_lexer": "ipython3",
   "version": "3.7.12"
  },
  "papermill": {
   "default_parameters": {},
   "duration": 23.699848,
   "end_time": "2022-01-17T11:43:35.988159",
   "environment_variables": {},
   "exception": null,
   "input_path": "__notebook__.ipynb",
   "output_path": "__notebook__.ipynb",
   "parameters": {},
   "start_time": "2022-01-17T11:43:12.288311",
   "version": "2.3.3"
  }
 },
 "nbformat": 4,
 "nbformat_minor": 5
}
